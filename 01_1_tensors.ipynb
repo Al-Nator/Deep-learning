{
 "cells": [
  {
   "cell_type": "markdown",
   "id": "ab47ec31",
   "metadata": {},
   "source": [
    "# Знакомство с `torch.Tensor`\n",
    "\n",
    "__Автор задач: Блохин Н.В. (NVBlokhin@fa.ru)__\n",
    "\n",
    "Материалы: \n",
    "* Deep Learning with PyTorch (2020) Авторы: Eli Stevens, Luca Antiga, Thomas Viehmann\n",
    "* https://pytorch.org/docs/stable/torch.html\n"
   ]
  },
  {
   "cell_type": "code",
   "execution_count": 63,
   "id": "49083ec5",
   "metadata": {},
   "outputs": [],
   "source": [
    "import torch as th\n",
    "import random\n",
    "import numpy as np\n",
    "import time\n",
    "import matplotlib.pyplot as plt"
   ]
  },
  {
   "cell_type": "markdown",
   "id": "b2e5acce",
   "metadata": {},
   "source": [
    "## Задачи для совместного разбора"
   ]
  },
  {
   "cell_type": "markdown",
   "id": "cb56f308",
   "metadata": {},
   "source": [
    "1\\. Создайте тензор и исследуйте его основные характеристики"
   ]
  },
  {
   "cell_type": "code",
   "execution_count": 64,
   "id": "019c47e8",
   "metadata": {},
   "outputs": [
    {
     "data": {
      "text/plain": [
       "tensor([[[3, 3],\n",
       "         [6, 6]],\n",
       "\n",
       "        [[4, 1],\n",
       "         [1, 4]]])"
      ]
     },
     "execution_count": 64,
     "metadata": {},
     "output_type": "execute_result"
    }
   ],
   "source": [
    "t = th.randint(10, (2, 2, 2)) \n",
    "t"
   ]
  },
  {
   "cell_type": "code",
   "execution_count": 65,
   "id": "12b09a24",
   "metadata": {},
   "outputs": [
    {
     "data": {
      "text/plain": [
       "(torch.Size([2, 2, 2]), torch.int64, 8, device(type='cpu'))"
      ]
     },
     "execution_count": 65,
     "metadata": {},
     "output_type": "execute_result"
    }
   ],
   "source": [
    "t.shape, t.dtype, th.numel(t), t.device"
   ]
  },
  {
   "cell_type": "markdown",
   "id": "c1d14d26",
   "metadata": {},
   "source": [
    "2\\. Создайте трехмерный тензор и рассмотрите основные способы индексирования по нему"
   ]
  },
  {
   "cell_type": "code",
   "execution_count": 66,
   "id": "383075cb",
   "metadata": {},
   "outputs": [
    {
     "data": {
      "text/plain": [
       "tensor([[[1, 5, 7],\n",
       "         [3, 2, 9],\n",
       "         [9, 5, 8]],\n",
       "\n",
       "        [[1, 7, 9],\n",
       "         [3, 8, 6],\n",
       "         [4, 4, 6]],\n",
       "\n",
       "        [[0, 3, 0],\n",
       "         [5, 1, 1],\n",
       "         [0, 0, 8]]])"
      ]
     },
     "execution_count": 66,
     "metadata": {},
     "output_type": "execute_result"
    }
   ],
   "source": [
    "t = th.randint(10, (3, 3, 3)) \n",
    "t"
   ]
  },
  {
   "cell_type": "code",
   "execution_count": 67,
   "id": "ba436114",
   "metadata": {},
   "outputs": [
    {
     "data": {
      "text/plain": [
       "tensor(1)"
      ]
     },
     "execution_count": 67,
     "metadata": {},
     "output_type": "execute_result"
    }
   ],
   "source": [
    "t[0, 0, 0]"
   ]
  },
  {
   "cell_type": "markdown",
   "id": "c4dfe946",
   "metadata": {},
   "source": [
    "3\\. Создайте тензор (4х4) и модифицируйте следующим образом: ко всем четным столбцам прибавьте 1, из нечетных вычтите 1."
   ]
  },
  {
   "cell_type": "code",
   "execution_count": 68,
   "id": "56414ef6",
   "metadata": {},
   "outputs": [
    {
     "data": {
      "text/plain": [
       "tensor([[8, 6, 9, 9],\n",
       "        [3, 3, 4, 5],\n",
       "        [5, 8, 1, 1],\n",
       "        [3, 4, 4, 9]])"
      ]
     },
     "execution_count": 68,
     "metadata": {},
     "output_type": "execute_result"
    }
   ],
   "source": [
    "t = th.randint(10, (4, 4)) \n",
    "t"
   ]
  },
  {
   "cell_type": "code",
   "execution_count": 69,
   "id": "cbbc9b79",
   "metadata": {},
   "outputs": [
    {
     "data": {
      "text/plain": [
       "tensor([[ 7,  7,  8, 10],\n",
       "        [ 2,  4,  3,  6],\n",
       "        [ 4,  9,  0,  2],\n",
       "        [ 2,  5,  3, 10]])"
      ]
     },
     "execution_count": 69,
     "metadata": {},
     "output_type": "execute_result"
    }
   ],
   "source": [
    "t[::, ::2] = t[::, ::2] - 1\n",
    "t[::, 1::2] = t[::, 1::2] + 1\n",
    "t"
   ]
  },
  {
   "cell_type": "markdown",
   "id": "f73eb486",
   "metadata": {},
   "source": [
    "4\\. Обсудите совместимость `torch` с `numpy` и `sklearn`"
   ]
  },
  {
   "cell_type": "code",
   "execution_count": 70,
   "id": "1f743c11",
   "metadata": {},
   "outputs": [
    {
     "data": {
      "text/plain": [
       "tensor([[[6, 3],\n",
       "         [2, 4]],\n",
       "\n",
       "        [[3, 2],\n",
       "         [2, 1]]], device='cuda:0')"
      ]
     },
     "execution_count": 70,
     "metadata": {},
     "output_type": "execute_result"
    }
   ],
   "source": [
    "th.randint(10, (2, 2, 2), device='cuda')"
   ]
  },
  {
   "cell_type": "markdown",
   "id": "8e3aaaeb",
   "metadata": {},
   "source": [
    "## Задачи для самостоятельного решения"
   ]
  },
  {
   "cell_type": "markdown",
   "id": "fdb47cbe",
   "metadata": {},
   "source": [
    "<p class=\"task\" id=\"1\"></p>\n",
    "\n",
    "1\\. Создайте двумерный тензор размера (100000, 10), заполненный нулями. Используя прихотливое индексирование, поставьте в каждой строке тензора ровно одну единицу в случайно выбранном столбце. Рассчитайте и выведите на экран вероятности $p_i$ того, что для случайно выбранной строки в столбце $i$ будет стоять единица.\n",
    "\n",
    "- [x] Проверено на семинаре"
   ]
  },
  {
   "cell_type": "code",
   "execution_count": 71,
   "id": "da2439b6",
   "metadata": {},
   "outputs": [
    {
     "data": {
      "text/plain": [
       "tensor([[0., 0., 0.,  ..., 0., 0., 0.],\n",
       "        [0., 0., 0.,  ..., 0., 0., 0.],\n",
       "        [0., 0., 0.,  ..., 0., 0., 0.],\n",
       "        ...,\n",
       "        [0., 0., 0.,  ..., 0., 0., 0.],\n",
       "        [0., 0., 0.,  ..., 0., 0., 0.],\n",
       "        [0., 0., 0.,  ..., 0., 0., 0.]])"
      ]
     },
     "execution_count": 71,
     "metadata": {},
     "output_type": "execute_result"
    }
   ],
   "source": [
    "t = th.zeros(100000, 10)\n",
    "t"
   ]
  },
  {
   "cell_type": "code",
   "execution_count": 72,
   "id": "affdf38b",
   "metadata": {},
   "outputs": [
    {
     "data": {
      "text/plain": [
       "tensor([[0., 0., 0.,  ..., 0., 0., 0.],\n",
       "        [0., 0., 0.,  ..., 0., 0., 0.],\n",
       "        [0., 0., 0.,  ..., 0., 0., 0.],\n",
       "        ...,\n",
       "        [0., 0., 0.,  ..., 0., 0., 0.],\n",
       "        [0., 0., 0.,  ..., 0., 0., 0.],\n",
       "        [0., 0., 0.,  ..., 0., 0., 1.]])"
      ]
     },
     "execution_count": 72,
     "metadata": {},
     "output_type": "execute_result"
    }
   ],
   "source": [
    "t[th.arange(100000), th.randint(0, 10, (100000,))] = 1\n",
    "t"
   ]
  },
  {
   "cell_type": "code",
   "execution_count": 73,
   "id": "e9c61118",
   "metadata": {},
   "outputs": [
    {
     "data": {
      "text/plain": [
       "tensor([0.0983, 0.1008, 0.1006, 0.1004, 0.1009, 0.0995, 0.0999, 0.0995, 0.1006,\n",
       "        0.0995])"
      ]
     },
     "execution_count": 73,
     "metadata": {},
     "output_type": "execute_result"
    }
   ],
   "source": [
    "t.mean(dim=0)"
   ]
  },
  {
   "cell_type": "markdown",
   "id": "2212b996",
   "metadata": {},
   "source": [
    "<p class=\"task\" id=\"2\"></p>\n",
    "\n",
    "2\\. При помощи прихотливого индексирования для двумерного тензора размерности (10, 10), состоящего из случайных целых чисел в пределах от 0 до 10, получите тензор элементов, находящихся сразу над  побочной диагональю.\n",
    "\n",
    "- [x] Проверено на семинаре"
   ]
  },
  {
   "cell_type": "code",
   "execution_count": 74,
   "id": "22631515",
   "metadata": {},
   "outputs": [
    {
     "data": {
      "text/plain": [
       "tensor([[1, 2, 8, 6, 0, 7, 1, 5, 8, 2],\n",
       "        [5, 1, 3, 6, 1, 4, 2, 0, 8, 9],\n",
       "        [5, 4, 7, 0, 2, 8, 8, 5, 2, 4],\n",
       "        [3, 7, 1, 7, 7, 0, 0, 4, 2, 7],\n",
       "        [0, 0, 2, 0, 7, 6, 8, 1, 5, 3],\n",
       "        [6, 8, 8, 3, 5, 6, 9, 2, 3, 0],\n",
       "        [5, 7, 5, 7, 5, 6, 3, 7, 8, 4],\n",
       "        [4, 6, 3, 3, 4, 4, 4, 8, 4, 1],\n",
       "        [8, 2, 5, 0, 7, 1, 7, 4, 0, 1],\n",
       "        [7, 0, 1, 8, 9, 1, 7, 2, 9, 3]])"
      ]
     },
     "execution_count": 74,
     "metadata": {},
     "output_type": "execute_result"
    }
   ],
   "source": [
    "t = th.randint(10, (10, 10))\n",
    "t"
   ]
  },
  {
   "cell_type": "code",
   "execution_count": 75,
   "id": "9148f094",
   "metadata": {},
   "outputs": [
    {
     "data": {
      "text/plain": [
       "tensor([8, 0, 8, 0, 7, 3, 5, 6, 8])"
      ]
     },
     "execution_count": 75,
     "metadata": {},
     "output_type": "execute_result"
    }
   ],
   "source": [
    "t[th.arange(9), th.arange(8, -1, -1)]"
   ]
  },
  {
   "cell_type": "markdown",
   "id": "4c81e1c1",
   "metadata": {},
   "source": [
    "<p class=\"task\" id=\"3\"></p>\n",
    "\n",
    "3\\. Создайте двумерный тензор $t$ размерности (5, 5), состоящий из случайных чисел в пределах от 0 до 100. Обнулить все значения в массиве, расположенные вне квадрата размера 3х3 вокруг максимального элемента. Если максимумов несколько, обнулите элементы около любого из них.\n",
    "\n",
    "- [x] Проверено на семинаре"
   ]
  },
  {
   "cell_type": "code",
   "execution_count": 76,
   "id": "7de83b37",
   "metadata": {},
   "outputs": [
    {
     "data": {
      "text/plain": [
       "tensor([[15, 92, 44,  2, 32],\n",
       "        [ 3, 25, 80, 76, 37],\n",
       "        [78, 53, 90, 67, 52],\n",
       "        [70, 89, 14,  4, 30],\n",
       "        [51, 62, 96, 53, 77]])"
      ]
     },
     "execution_count": 76,
     "metadata": {},
     "output_type": "execute_result"
    }
   ],
   "source": [
    "t = th.randint(100, (5, 5))\n",
    "t"
   ]
  },
  {
   "cell_type": "code",
   "execution_count": 77,
   "id": "dcacf1d2",
   "metadata": {},
   "outputs": [
    {
     "data": {
      "text/plain": [
       "(tensor(4), tensor(2))"
      ]
     },
     "execution_count": 77,
     "metadata": {},
     "output_type": "execute_result"
    }
   ],
   "source": [
    "max_index = th.where(t == t.max())[0][0], th.where(t == t.max())[1][0]\n",
    "max_index"
   ]
  },
  {
   "cell_type": "code",
   "execution_count": 78,
   "id": "512be70e",
   "metadata": {},
   "outputs": [
    {
     "data": {
      "text/plain": [
       "tensor([[ 0,  0,  0,  0,  0],\n",
       "        [ 0,  0,  0,  0,  0],\n",
       "        [ 0,  0,  0,  0,  0],\n",
       "        [ 0, 89, 14,  4,  0],\n",
       "        [ 0, 62, 96, 53,  0]])"
      ]
     },
     "execution_count": 78,
     "metadata": {},
     "output_type": "execute_result"
    }
   ],
   "source": [
    "i, j = max_index\n",
    "t_new = t.clone().detach()\n",
    "t_new[0:max(0, i - 1), :] = 0\n",
    "t_new[min(5, i + 2):, :] = 0\n",
    "t_new[:, 0:max(0, j - 1)] = 0\n",
    "t_new[:, min(5, j + 2):] = 0\n",
    "\n",
    "t_new"
   ]
  },
  {
   "cell_type": "markdown",
   "id": "f68b795c",
   "metadata": {},
   "source": [
    "<p class=\"task\" id=\"4\"></p>\n",
    "\n",
    "4\\. Создайте трехмерный массив размерности (2, 5, 5) на основе решения задачи 3 (объедините исходный и результирущий тензор вдоль нулевой оси). Сохраните полученный трехмерный тензор в файл `tensor.pt`. Загрузите полученный тензор и покажите, что все элементы двух тензоров совпадают.\n",
    "\n",
    "- [x] Проверено на семинаре"
   ]
  },
  {
   "cell_type": "code",
   "execution_count": 79,
   "id": "09348cb4",
   "metadata": {},
   "outputs": [
    {
     "data": {
      "text/plain": [
       "tensor([[[15, 92, 44,  2, 32],\n",
       "         [ 3, 25, 80, 76, 37],\n",
       "         [78, 53, 90, 67, 52],\n",
       "         [70, 89, 14,  4, 30],\n",
       "         [51, 62, 96, 53, 77]],\n",
       "\n",
       "        [[ 0,  0,  0,  0,  0],\n",
       "         [ 0,  0,  0,  0,  0],\n",
       "         [ 0,  0,  0,  0,  0],\n",
       "         [ 0, 89, 14,  4,  0],\n",
       "         [ 0, 62, 96, 53,  0]]])"
      ]
     },
     "execution_count": 79,
     "metadata": {},
     "output_type": "execute_result"
    }
   ],
   "source": [
    "t_stacked = th.stack((t, t_new), dim=0)\n",
    "t_stacked"
   ]
  },
  {
   "cell_type": "code",
   "execution_count": 80,
   "id": "9e0c8f1d",
   "metadata": {},
   "outputs": [
    {
     "data": {
      "text/plain": [
       "torch.Size([2, 5, 5])"
      ]
     },
     "execution_count": 80,
     "metadata": {},
     "output_type": "execute_result"
    }
   ],
   "source": [
    "t_stacked.shape"
   ]
  },
  {
   "cell_type": "code",
   "execution_count": 81,
   "id": "3e6e95f8",
   "metadata": {},
   "outputs": [
    {
     "data": {
      "text/plain": [
       "tensor([[[15, 92, 44,  2, 32],\n",
       "         [ 3, 25, 80, 76, 37],\n",
       "         [78, 53, 90, 67, 52],\n",
       "         [70, 89, 14,  4, 30],\n",
       "         [51, 62, 96, 53, 77]],\n",
       "\n",
       "        [[ 0,  0,  0,  0,  0],\n",
       "         [ 0,  0,  0,  0,  0],\n",
       "         [ 0,  0,  0,  0,  0],\n",
       "         [ 0, 89, 14,  4,  0],\n",
       "         [ 0, 62, 96, 53,  0]]])"
      ]
     },
     "execution_count": 81,
     "metadata": {},
     "output_type": "execute_result"
    }
   ],
   "source": [
    "th.save(t_stacked, 'saved_tensor.pt')\n",
    "t_loaded = th.load('saved_tensor.pt')\n",
    "t_loaded"
   ]
  },
  {
   "cell_type": "code",
   "execution_count": 82,
   "id": "8fcafbbc",
   "metadata": {},
   "outputs": [
    {
     "data": {
      "text/plain": [
       "True"
      ]
     },
     "execution_count": 82,
     "metadata": {},
     "output_type": "execute_result"
    }
   ],
   "source": [
    "th.equal(t_loaded, t_stacked)"
   ]
  },
  {
   "cell_type": "markdown",
   "id": "ab2dd4cd",
   "metadata": {},
   "source": [
    "<p class=\"task\" id=\"5\"></p>\n",
    "\n",
    "5\\. Создайте четырехмерный массив `t` размерности (2, 3, 5, 5), заполненный случайными целыми числами от 1 до 10 (сами значения должны быть представлены типом float32). Рассчитайте среднее значение для каждого двумерного тензора `t[i, j, :, :]`. Представьте результат в виде трехмерного тензора размера (2, 3, 1).\n",
    "\n",
    "- [x] Проверено на семинаре"
   ]
  },
  {
   "cell_type": "code",
   "execution_count": 96,
   "id": "9bfc9298",
   "metadata": {},
   "outputs": [
    {
     "data": {
      "text/plain": [
       "tensor([[[[5.0800]],\n",
       "\n",
       "         [[4.1600]],\n",
       "\n",
       "         [[5.2800]]],\n",
       "\n",
       "\n",
       "        [[[4.6800]],\n",
       "\n",
       "         [[5.2800]],\n",
       "\n",
       "         [[4.8400]]]])"
      ]
     },
     "execution_count": 96,
     "metadata": {},
     "output_type": "execute_result"
    }
   ],
   "source": [
    "t = th.randint(10, (2, 3, 5, 5), dtype=th.float32)\n",
    "t.mean(dim=(2, 3), keepdim=True)"
   ]
  },
  {
   "cell_type": "markdown",
   "id": "0f29b7fa",
   "metadata": {},
   "source": [
    "<p class=\"task\" id=\"6\"></p>\n",
    "\n",
    "6\\. Создайте одномерный тензор размера `N=100_000_000`, заполненный числами из экспоненциального распредления с параметром $\\lambda=5$. Рассчитайте значения для построения гистограммы при помощи пакета `torch`. Визуализируйте гистограмму. Проверьте возможность использования GPU. При наличии GPU перенесите созданный тензор в память GPU, повторите вычисления. Сравните время расчетом с и без использования GPU.\n",
    "\n",
    "- [x] Проверено на семинаре"
   ]
  },
  {
   "cell_type": "code",
   "execution_count": 97,
   "id": "2fc354fc",
   "metadata": {},
   "outputs": [
    {
     "name": "stdout",
     "output_type": "stream",
     "text": [
      "50.5 ms ± 1.42 ms per loop (mean ± std. dev. of 7 runs, 10 loops each)\n"
     ]
    },
    {
     "data": {
      "image/png": "[encoded data removed]",
      "text/plain": [
       "<Figure size 640x480 with 1 Axes>"
      ]
     },
     "metadata": {},
     "output_type": "display_data"
    }
   ],
   "source": [
    "t = th.distributions.Exponential(0.2).sample((100_000_000,))\n",
    "start_time = time.time()\n",
    "\n",
    "hist_values, bin_edges = th.histogram(t, bins=100)\n",
    "%timeit plt.hist(hist_values, bins=100, density=True)\n",
    "\n",
    "plt.show()"
   ]
  },
  {
   "cell_type": "code",
   "execution_count": 98,
   "id": "4d6a3d58",
   "metadata": {},
   "outputs": [
    {
     "data": {
      "text/plain": [
       "device(type='cuda')"
      ]
     },
     "execution_count": 98,
     "metadata": {},
     "output_type": "execute_result"
    }
   ],
   "source": [
    "device = th.device(\"cuda\" if th.cuda.is_available() else \"cpu\")\n",
    "device"
   ]
  },
  {
   "cell_type": "code",
   "execution_count": 99,
   "id": "a6d45b9f",
   "metadata": {},
   "outputs": [
    {
     "name": "stdout",
     "output_type": "stream",
     "text": [
      "35.4 ms ± 112 µs per loop (mean ± std. dev. of 7 runs, 10 loops each)\n"
     ]
    }
   ],
   "source": [
    "t = t.to(device)\n",
    "\n",
    "%timeit hist_values = th.histc(t, bins=100)"
   ]
  },
  {
   "cell_type": "markdown",
   "id": "590c35a6",
   "metadata": {},
   "source": [
    "<p class=\"task\" id=\"7\"></p>\n",
    "\n",
    "7\\. Создайте четырехмерный тензор размера (10, 6, 6, 3), заполненный случайными целыми числами от 0 до 255. Считая, что данный тензор представляет собой батч из 10 картинок размера 6х6 в формате RGB, измените тензор следующим образом. Для оттенков красного обнулите все столбцы, кроме первых двух; для оттенков зеленого обнулите третий и четвертый столбцы; для оттенков синего обнулите пятый и шестой столбцы. Для выполнения задания используйте механизм распространения.\n",
    "\n",
    "- [ ] Проверено на семинаре"
   ]
  },
  {
   "cell_type": "code",
   "execution_count": 116,
   "id": "d3f8157e",
   "metadata": {},
   "outputs": [
    {
     "data": {
      "image/png": "[encoded data removed]",
      "text/plain": [
       "<Figure size 2000x200 with 10 Axes>"
      ]
     },
     "metadata": {},
     "output_type": "display_data"
    }
   ],
   "source": [
    "def plot_images(tensor_batch, batch_size=10):\n",
    "    t_np = tensor_batch.numpy()\n",
    "    fig, axs = plt.subplots(1, batch_size, figsize=(20, 2))\n",
    "    for i in range(batch_size):\n",
    "        axs[i].imshow(t_np[i].astype(np.uint8))\n",
    "        axs[i].axis('off')\n",
    "    plt.show()\n",
    "\n",
    "t = th.randint(256, (10, 6, 6, 3)) \n",
    "plot_images(t)"
   ]
  },
  {
   "cell_type": "code",
   "execution_count": 117,
   "id": "da30061a",
   "metadata": {},
   "outputs": [
    {
     "data": {
      "image/png": "[encoded data removed]",
      "text/plain": [
       "<Figure size 2000x200 with 10 Axes>"
      ]
     },
     "metadata": {},
     "output_type": "display_data"
    }
   ],
   "source": [
    "t[:, :, :, 0] *= th.tensor([1, 1, 0, 0, 0, 0]) \n",
    "t[:, :, :, 1] *= th.tensor([1, 1, 0, 0, 1, 1])  \n",
    "t[:, :, :, 2] *= th.tensor([1, 1, 1, 1, 0, 0]) \n",
    "plot_images(t)"
   ]
  },
  {
   "cell_type": "code",
   "execution_count": null,
   "id": "fa9fd8d0",
   "metadata": {},
   "outputs": [],
   "source": []
  }
 ],
 "metadata": {
  "kernelspec": {
   "display_name": "Python 3 (ipykernel)",
   "language": "python",
   "name": "python3"
  },
  "language_info": {
   "codemirror_mode": {
    "name": "ipython",
    "version": 3
   },
   "file_extension": ".py",
   "mimetype": "text/x-python",
   "name": "python",
   "nbconvert_exporter": "python",
   "pygments_lexer": "ipython3",
   "version": "3.11.5"
  }
 },
 "nbformat": 4,
 "nbformat_minor": 5
}
