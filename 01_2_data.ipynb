{
  "cells": [
    {
      "cell_type": "markdown",
      "id": "6f0939e1",
      "metadata": {
        "id": "6f0939e1"
      },
      "source": [
        "# Подготовка данных для обучения моделей\n",
        "\n",
        "__Автор задач: Блохин Н.В. (NVBlokhin@fa.ru)__\n",
        "\n",
        "Материалы:\n",
        "* https://pytorch.org/docs/stable/data.html\n",
        "* https://pytorch.org/tutorials/beginner/data_loading_tutorial.html\n",
        "* Deep Learning with PyTorch (2020) Авторы: Eli Stevens, Luca Antiga, Thomas Viehmann\n"
      ]
    },
    {
      "cell_type": "markdown",
      "id": "65f56d0a",
      "metadata": {
        "id": "65f56d0a"
      },
      "source": [
        "## Задачи для совместного разбора"
      ]
    },
    {
      "cell_type": "markdown",
      "id": "170651bd",
      "metadata": {
        "id": "170651bd"
      },
      "source": [
        "1. Создайте синтетический датасет для задачи регрессии и представьте его в виде `torch.utils.data.Dataset`"
      ]
    },
    {
      "cell_type": "code",
      "execution_count": 340,
      "id": "3zEAR8WhjBBU",
      "metadata": {
        "id": "3zEAR8WhjBBU"
      },
      "outputs": [],
      "source": [
        "import torch as th\n",
        "from torch.utils.data import Dataset\n",
        "from sklearn.datasets import make_regression"
      ]
    },
    {
      "cell_type": "code",
      "execution_count": 341,
      "id": "XWy3Xj1vjHpF",
      "metadata": {
        "colab": {
          "base_uri": "https://localhost:8080/"
        },
        "id": "XWy3Xj1vjHpF",
        "outputId": "eb8437fd-a0ac-44a2-c8f7-40d27b0ea39b"
      },
      "outputs": [
        {
          "data": {
            "text/plain": [
              "((1000, 10), (1000,), numpy.ndarray)"
            ]
          },
          "execution_count": 341,
          "metadata": {},
          "output_type": "execute_result"
        }
      ],
      "source": [
        "X, y = make_regression(n_samples=1000, n_features=10)\n",
        "X.shape, y.shape, type(X)"
      ]
    },
    {
      "cell_type": "code",
      "execution_count": 342,
      "id": "8AAMG2fKjfZ0",
      "metadata": {
        "id": "8AAMG2fKjfZ0"
      },
      "outputs": [],
      "source": [
        "from typing import Callable\n",
        "\n",
        "class RegressionDataset(Dataset):\n",
        "  def __init__(self, transform: Callable | None = None, **kwargs):\n",
        "    super().__init__()\n",
        "    self.X, self.y = make_regression(**kwargs)\n",
        "    self.transform = transform\n",
        "\n",
        "  def custom_method(self):\n",
        "    ...\n",
        "\n",
        "  def __getitem__(self, idx):\n",
        "    x = self.X[idx]\n",
        "    if self.transform is not None:\n",
        "      x = self.transform(x)\n",
        "    y = self.y[idx]\n",
        "\n",
        "    return x, y\n",
        "\n",
        "  def __len__(self):\n",
        "    return len(self.X)"
      ]
    },
    {
      "cell_type": "code",
      "execution_count": 343,
      "id": "UlxTL-eGlGHG",
      "metadata": {
        "id": "UlxTL-eGlGHG"
      },
      "outputs": [
        {
          "data": {
            "text/plain": [
              "5"
            ]
          },
          "execution_count": 343,
          "metadata": {},
          "output_type": "execute_result"
        }
      ],
      "source": [
        "def f(x):\n",
        "  return x\n",
        "\n",
        "f(5)"
      ]
    },
    {
      "cell_type": "code",
      "execution_count": 344,
      "id": "QtGAJmOFlKxm",
      "metadata": {
        "id": "QtGAJmOFlKxm"
      },
      "outputs": [],
      "source": [
        "class MyCallable:\n",
        "  def __call__(self, x):\n",
        "    return x"
      ]
    },
    {
      "cell_type": "code",
      "execution_count": 345,
      "id": "wCQcOHszlO7H",
      "metadata": {
        "colab": {
          "base_uri": "https://localhost:8080/"
        },
        "id": "wCQcOHszlO7H",
        "outputId": "77661068-665b-4701-aa7c-287ec8091b80"
      },
      "outputs": [
        {
          "data": {
            "text/plain": [
              "5"
            ]
          },
          "execution_count": 345,
          "metadata": {},
          "output_type": "execute_result"
        }
      ],
      "source": [
        "c = MyCallable()\n",
        "c(5)"
      ]
    },
    {
      "cell_type": "code",
      "execution_count": 346,
      "id": "EL4FiLUJkWly",
      "metadata": {
        "colab": {
          "base_uri": "https://localhost:8080/"
        },
        "id": "EL4FiLUJkWly",
        "outputId": "66c8ef5f-a1a8-452e-d2e7-22d82216006f"
      },
      "outputs": [
        {
          "data": {
            "text/plain": [
              "(array([-1.32797131,  0.82477573, -0.01724446, -1.38313809, -0.67764828,\n",
              "        -0.4715914 , -1.52672299, -0.4872484 ,  0.02235929,  1.50440413]),\n",
              " -171.63392100324702)"
            ]
          },
          "execution_count": 346,
          "metadata": {},
          "output_type": "execute_result"
        }
      ],
      "source": [
        "dataset = RegressionDataset(n_samples=1000, n_features=10)\n",
        "dataset[0]"
      ]
    },
    {
      "cell_type": "code",
      "execution_count": 347,
      "id": "KYjdSZlfkt1W",
      "metadata": {
        "id": "KYjdSZlfkt1W"
      },
      "outputs": [],
      "source": [
        "import numpy as np\n",
        "\n",
        "\n",
        "def my_transformer(x: np.ndarray) -> np.ndarray:\n",
        "  return 1000 * x"
      ]
    },
    {
      "cell_type": "code",
      "execution_count": 348,
      "id": "91Wt_O4ymWe4",
      "metadata": {
        "id": "91Wt_O4ymWe4"
      },
      "outputs": [],
      "source": [
        "class MyCallable:\n",
        "  def __init__(self, coef: int) -> None:\n",
        "    self._coef = coef\n",
        "\n",
        "  def __call__(self, x: np.ndarray) -> np.ndarray:\n",
        "    return self._coef * x"
      ]
    },
    {
      "cell_type": "code",
      "execution_count": 349,
      "id": "VjcFRUDbmHL_",
      "metadata": {
        "colab": {
          "base_uri": "https://localhost:8080/"
        },
        "id": "VjcFRUDbmHL_",
        "outputId": "6dc949f1-2a6e-465a-d6c6-6a047928539e"
      },
      "outputs": [
        {
          "data": {
            "text/plain": [
              "(array([1066.90136867,  942.1223179 , 1820.74100405, -560.69033818,\n",
              "        1503.03900502, -631.73687489, -655.99575706, -318.86003369,\n",
              "         742.57409338, -949.79548129]),\n",
              " 170.30761755408827)"
            ]
          },
          "execution_count": 349,
          "metadata": {},
          "output_type": "execute_result"
        }
      ],
      "source": [
        "dataset = RegressionDataset(\n",
        "    transform=my_transformer,\n",
        "    n_samples=1000,\n",
        "    n_features=10\n",
        ")\n",
        "dataset[0]"
      ]
    },
    {
      "cell_type": "code",
      "execution_count": 350,
      "id": "sTWwpn6umisw",
      "metadata": {
        "colab": {
          "base_uri": "https://localhost:8080/"
        },
        "id": "sTWwpn6umisw",
        "outputId": "7922d555-7802-4b7a-d7fd-628fd0a4977a"
      },
      "outputs": [
        {
          "data": {
            "text/plain": [
              "(array([ -2294.00492106,   6818.43741826,  -1231.01947547,  -8360.3242784 ,\n",
              "          2558.83872393,    391.35546981,  -7364.26212882,   6122.74929242,\n",
              "         -3975.06620669, -10416.58692466]),\n",
              " -50.95546519322443)"
            ]
          },
          "execution_count": 350,
          "metadata": {},
          "output_type": "execute_result"
        }
      ],
      "source": [
        "dataset = RegressionDataset(\n",
        "    transform=MyCallable(coef=10000),\n",
        "    n_samples=1000,\n",
        "    n_features=10\n",
        ")\n",
        "dataset[0]"
      ]
    },
    {
      "cell_type": "code",
      "execution_count": 351,
      "id": "6mNNZPx8m23J",
      "metadata": {
        "colab": {
          "base_uri": "https://localhost:8080/"
        },
        "id": "6mNNZPx8m23J",
        "outputId": "ace79855-4087-4353-daa8-e6f7c00e8c50"
      },
      "outputs": [
        {
          "data": {
            "text/plain": [
              "(array([[ -2294.00492106,   6818.43741826,  -1231.01947547,\n",
              "          -8360.3242784 ,   2558.83872393,    391.35546981,\n",
              "          -7364.26212882,   6122.74929242,  -3975.06620669,\n",
              "         -10416.58692466],\n",
              "        [ -4964.12578053,   4058.98351689,   5551.75745219,\n",
              "          23089.92488003,  12388.6240451 ,  -1018.43395151,\n",
              "         -14678.15835362,  -6764.4334356 ,  10235.59643866,\n",
              "          -8093.56082336]]),\n",
              " array([-50.95546519, 150.67558805]))"
            ]
          },
          "execution_count": 351,
          "metadata": {},
          "output_type": "execute_result"
        }
      ],
      "source": [
        "dataset[:2]"
      ]
    },
    {
      "cell_type": "code",
      "execution_count": 352,
      "id": "TwzEp3c3nJaq",
      "metadata": {
        "id": "TwzEp3c3nJaq"
      },
      "outputs": [],
      "source": [
        "from torch.utils.data import random_split"
      ]
    },
    {
      "cell_type": "code",
      "execution_count": 353,
      "id": "nlsV-reOndUS",
      "metadata": {
        "id": "nlsV-reOndUS"
      },
      "outputs": [],
      "source": [
        "train, val, test = random_split(dataset, lengths=[0.7, 0.15, 0.15])"
      ]
    },
    {
      "cell_type": "code",
      "execution_count": 354,
      "id": "bMfSidoHnp_y",
      "metadata": {
        "colab": {
          "base_uri": "https://localhost:8080/"
        },
        "id": "bMfSidoHnp_y",
        "outputId": "5b0a880b-9d12-4810-99bd-896b7f460543"
      },
      "outputs": [
        {
          "data": {
            "text/plain": [
              "(array([-22336.20308869,   1971.96483699, -11471.65831817,   8873.55448203,\n",
              "         -1815.08060433,   9307.70619217,  -7151.35057232,  26070.96865866,\n",
              "          -987.66717921,  -1118.86195618]),\n",
              " 206.88014971154604)"
            ]
          },
          "execution_count": 354,
          "metadata": {},
          "output_type": "execute_result"
        }
      ],
      "source": [
        "train[0]"
      ]
    },
    {
      "cell_type": "code",
      "execution_count": 355,
      "id": "nya5Yj6WnzvS",
      "metadata": {
        "colab": {
          "base_uri": "https://localhost:8080/"
        },
        "id": "nya5Yj6WnzvS",
        "outputId": "5c8898a6-4abc-44a7-9f0d-27e1a67be43c"
      },
      "outputs": [
        {
          "data": {
            "text/plain": [
              "700"
            ]
          },
          "execution_count": 355,
          "metadata": {},
          "output_type": "execute_result"
        }
      ],
      "source": [
        "len(train)"
      ]
    },
    {
      "cell_type": "code",
      "execution_count": 356,
      "id": "Xniqd9gNoAD6",
      "metadata": {
        "id": "Xniqd9gNoAD6"
      },
      "outputs": [],
      "source": [
        "from torch.utils.data import DataLoader"
      ]
    },
    {
      "cell_type": "code",
      "execution_count": 357,
      "id": "5b2b7b54",
      "metadata": {},
      "outputs": [
        {
          "data": {
            "text/plain": [
              "<torch.utils.data.dataloader._SingleProcessDataLoaderIter at 0x2ac4ea438d0>"
            ]
          },
          "execution_count": 357,
          "metadata": {},
          "output_type": "execute_result"
        }
      ],
      "source": [
        "loader = DataLoader(train, 64, )\n",
        "iter(loader)"
      ]
    },
    {
      "cell_type": "code",
      "execution_count": 358,
      "id": "9RsOTZOMoKGm",
      "metadata": {
        "colab": {
          "base_uri": "https://localhost:8080/"
        },
        "id": "9RsOTZOMoKGm",
        "outputId": "30d4c114-664e-4c21-83cd-3a0d4e8efada"
      },
      "outputs": [
        {
          "data": {
            "text/plain": [
              "(torch.Size([64, 10]), torch.Size([64]))"
            ]
          },
          "execution_count": 358,
          "metadata": {},
          "output_type": "execute_result"
        }
      ],
      "source": [
        "loader = DataLoader(train, 64, )\n",
        "\n",
        "it = iter(loader)\n",
        "x, y = next(it)\n",
        "x.shape, y.shape"
      ]
    },
    {
      "cell_type": "code",
      "execution_count": 359,
      "id": "6Sth158Zoqcj",
      "metadata": {
        "colab": {
          "base_uri": "https://localhost:8080/"
        },
        "id": "6Sth158Zoqcj",
        "outputId": "51e3854b-e7d1-4fcf-8ebb-566db13f9f93"
      },
      "outputs": [
        {
          "name": "stdout",
          "output_type": "stream",
          "text": [
            "torch.Size([64, 10]) torch.Size([64])\n",
            "torch.Size([64, 10]) torch.Size([64])\n",
            "torch.Size([64, 10]) torch.Size([64])\n",
            "torch.Size([64, 10]) torch.Size([64])\n",
            "torch.Size([64, 10]) torch.Size([64])\n",
            "torch.Size([64, 10]) torch.Size([64])\n",
            "torch.Size([64, 10]) torch.Size([64])\n",
            "torch.Size([64, 10]) torch.Size([64])\n",
            "torch.Size([64, 10]) torch.Size([64])\n",
            "torch.Size([64, 10]) torch.Size([64])\n",
            "torch.Size([60, 10]) torch.Size([60])\n"
          ]
        }
      ],
      "source": [
        "for x, y in loader:\n",
        "  print(x.shape, y.shape)\n",
        "  # break"
      ]
    },
    {
      "cell_type": "code",
      "execution_count": 360,
      "id": "BiG2hRseoUuk",
      "metadata": {
        "colab": {
          "base_uri": "https://localhost:8080/"
        },
        "id": "BiG2hRseoUuk",
        "outputId": "2448ad35-7ecd-41c1-e3ae-6967c6cb1223"
      },
      "outputs": [
        {
          "data": {
            "text/plain": [
              "60"
            ]
          },
          "execution_count": 360,
          "metadata": {},
          "output_type": "execute_result"
        }
      ],
      "source": [
        "700 % 64"
      ]
    },
    {
      "cell_type": "markdown",
      "id": "f479cb79",
      "metadata": {
        "id": "f479cb79"
      },
      "source": [
        "## Задачи для самостоятельного решения"
      ]
    },
    {
      "cell_type": "code",
      "execution_count": 361,
      "id": "dec8f872",
      "metadata": {},
      "outputs": [],
      "source": [
        "import pandas as pd\n",
        "import torch as th\n",
        "from torch.utils.data import DataLoader, Dataset, random_split\n",
        "from typing import Callable\n",
        "from sklearn.preprocessing import OrdinalEncoder\n",
        "from typing import Any"
      ]
    },
    {
      "cell_type": "markdown",
      "id": "59670c7c",
      "metadata": {
        "id": "59670c7c"
      },
      "source": [
        "<p class=\"task\" id=\"1\"></p>\n",
        "\n",
        "1\\. Считайте файл `bank-full.csv` ([источник](https://www.kaggle.com/datasets/hariharanpavan/bank-marketing-dataset-analysis-classification)) в виде `pd.DataFrame`.\n",
        "\n",
        "Опишите класс `BankDatasetBase`. Решение должно удовлетворять следующим критериям:\n",
        "\n",
        "* класс наследуется от `torch.utils.data.Dataset`;\n",
        "* при создании объекта в конструктор передается набор данных в виде `pd.DataFrame`;\n",
        "* объекты класса имеют поля `X` и `y` с признаками и метками соответственно;\n",
        "* класс реализует интерфейс последовательностей (`__getitem__` + `__len__`);\n",
        "* `obj[i]` возвращает кортеж, содержащий `i`-ую строку из `obj.X` (серию) и `i`-ую строку из `obj.y` (строку).\n",
        "    \n",
        "Создайте объект класса `BankDatasetBase` и продемонстрируйте работоспособность.\n",
        "\n",
        "- [ ] Проверено на семинаре"
      ]
    },
    {
      "cell_type": "code",
      "execution_count": 362,
      "id": "7f777f84",
      "metadata": {},
      "outputs": [
        {
          "data": {
            "text/html": [
              "<div>\n",
              "<style scoped>\n",
              "    .dataframe tbody tr th:only-of-type {\n",
              "        vertical-align: middle;\n",
              "    }\n",
              "\n",
              "    .dataframe tbody tr th {\n",
              "        vertical-align: top;\n",
              "    }\n",
              "\n",
              "    .dataframe thead th {\n",
              "        text-align: right;\n",
              "    }\n",
              "</style>\n",
              "<table border=\"1\" class=\"dataframe\">\n",
              "  <thead>\n",
              "    <tr style=\"text-align: right;\">\n",
              "      <th></th>\n",
              "      <th>age</th>\n",
              "      <th>job</th>\n",
              "      <th>marital</th>\n",
              "      <th>education</th>\n",
              "      <th>default</th>\n",
              "      <th>balance</th>\n",
              "      <th>housing</th>\n",
              "      <th>loan</th>\n",
              "      <th>contact</th>\n",
              "      <th>day</th>\n",
              "      <th>month</th>\n",
              "      <th>duration</th>\n",
              "      <th>campaign</th>\n",
              "      <th>pdays</th>\n",
              "      <th>previous</th>\n",
              "      <th>poutcome</th>\n",
              "      <th>y</th>\n",
              "    </tr>\n",
              "  </thead>\n",
              "  <tbody>\n",
              "    <tr>\n",
              "      <th>0</th>\n",
              "      <td>58</td>\n",
              "      <td>management</td>\n",
              "      <td>married</td>\n",
              "      <td>tertiary</td>\n",
              "      <td>no</td>\n",
              "      <td>2143</td>\n",
              "      <td>yes</td>\n",
              "      <td>no</td>\n",
              "      <td>unknown</td>\n",
              "      <td>5</td>\n",
              "      <td>may</td>\n",
              "      <td>261</td>\n",
              "      <td>1</td>\n",
              "      <td>-1</td>\n",
              "      <td>0</td>\n",
              "      <td>unknown</td>\n",
              "      <td>no</td>\n",
              "    </tr>\n",
              "    <tr>\n",
              "      <th>1</th>\n",
              "      <td>44</td>\n",
              "      <td>technician</td>\n",
              "      <td>single</td>\n",
              "      <td>secondary</td>\n",
              "      <td>no</td>\n",
              "      <td>29</td>\n",
              "      <td>yes</td>\n",
              "      <td>no</td>\n",
              "      <td>unknown</td>\n",
              "      <td>5</td>\n",
              "      <td>may</td>\n",
              "      <td>151</td>\n",
              "      <td>1</td>\n",
              "      <td>-1</td>\n",
              "      <td>0</td>\n",
              "      <td>unknown</td>\n",
              "      <td>no</td>\n",
              "    </tr>\n",
              "    <tr>\n",
              "      <th>2</th>\n",
              "      <td>33</td>\n",
              "      <td>entrepreneur</td>\n",
              "      <td>married</td>\n",
              "      <td>secondary</td>\n",
              "      <td>no</td>\n",
              "      <td>2</td>\n",
              "      <td>yes</td>\n",
              "      <td>yes</td>\n",
              "      <td>unknown</td>\n",
              "      <td>5</td>\n",
              "      <td>may</td>\n",
              "      <td>76</td>\n",
              "      <td>1</td>\n",
              "      <td>-1</td>\n",
              "      <td>0</td>\n",
              "      <td>unknown</td>\n",
              "      <td>no</td>\n",
              "    </tr>\n",
              "    <tr>\n",
              "      <th>3</th>\n",
              "      <td>47</td>\n",
              "      <td>blue-collar</td>\n",
              "      <td>married</td>\n",
              "      <td>unknown</td>\n",
              "      <td>no</td>\n",
              "      <td>1506</td>\n",
              "      <td>yes</td>\n",
              "      <td>no</td>\n",
              "      <td>unknown</td>\n",
              "      <td>5</td>\n",
              "      <td>may</td>\n",
              "      <td>92</td>\n",
              "      <td>1</td>\n",
              "      <td>-1</td>\n",
              "      <td>0</td>\n",
              "      <td>unknown</td>\n",
              "      <td>no</td>\n",
              "    </tr>\n",
              "    <tr>\n",
              "      <th>4</th>\n",
              "      <td>33</td>\n",
              "      <td>unknown</td>\n",
              "      <td>single</td>\n",
              "      <td>unknown</td>\n",
              "      <td>no</td>\n",
              "      <td>1</td>\n",
              "      <td>no</td>\n",
              "      <td>no</td>\n",
              "      <td>unknown</td>\n",
              "      <td>5</td>\n",
              "      <td>may</td>\n",
              "      <td>198</td>\n",
              "      <td>1</td>\n",
              "      <td>-1</td>\n",
              "      <td>0</td>\n",
              "      <td>unknown</td>\n",
              "      <td>no</td>\n",
              "    </tr>\n",
              "  </tbody>\n",
              "</table>\n",
              "</div>"
            ],
            "text/plain": [
              "   age           job  marital  education default  balance housing loan  \\\n",
              "0   58    management  married   tertiary      no     2143     yes   no   \n",
              "1   44    technician   single  secondary      no       29     yes   no   \n",
              "2   33  entrepreneur  married  secondary      no        2     yes  yes   \n",
              "3   47   blue-collar  married    unknown      no     1506     yes   no   \n",
              "4   33       unknown   single    unknown      no        1      no   no   \n",
              "\n",
              "   contact  day month  duration  campaign  pdays  previous poutcome   y  \n",
              "0  unknown    5   may       261         1     -1         0  unknown  no  \n",
              "1  unknown    5   may       151         1     -1         0  unknown  no  \n",
              "2  unknown    5   may        76         1     -1         0  unknown  no  \n",
              "3  unknown    5   may        92         1     -1         0  unknown  no  \n",
              "4  unknown    5   may       198         1     -1         0  unknown  no  "
            ]
          },
          "execution_count": 362,
          "metadata": {},
          "output_type": "execute_result"
        }
      ],
      "source": [
        "data = pd.read_csv('bank-full.csv')\n",
        "data.head()"
      ]
    },
    {
      "cell_type": "code",
      "execution_count": 363,
      "id": "2de09a4b",
      "metadata": {},
      "outputs": [
        {
          "name": "stdout",
          "output_type": "stream",
          "text": [
            "<class 'pandas.core.frame.DataFrame'>\n",
            "RangeIndex: 45211 entries, 0 to 45210\n",
            "Data columns (total 17 columns):\n",
            " #   Column     Non-Null Count  Dtype \n",
            "---  ------     --------------  ----- \n",
            " 0   age        45211 non-null  int64 \n",
            " 1   job        45211 non-null  object\n",
            " 2   marital    45211 non-null  object\n",
            " 3   education  45211 non-null  object\n",
            " 4   default    45211 non-null  object\n",
            " 5   balance    45211 non-null  int64 \n",
            " 6   housing    45211 non-null  object\n",
            " 7   loan       45211 non-null  object\n",
            " 8   contact    45211 non-null  object\n",
            " 9   day        45211 non-null  int64 \n",
            " 10  month      45211 non-null  object\n",
            " 11  duration   45211 non-null  int64 \n",
            " 12  campaign   45211 non-null  int64 \n",
            " 13  pdays      45211 non-null  int64 \n",
            " 14  previous   45211 non-null  int64 \n",
            " 15  poutcome   45211 non-null  object\n",
            " 16  y          45211 non-null  object\n",
            "dtypes: int64(7), object(10)\n",
            "memory usage: 5.9+ MB\n"
          ]
        }
      ],
      "source": [
        "data.info()"
      ]
    },
    {
      "cell_type": "code",
      "execution_count": 364,
      "id": "926288ec",
      "metadata": {
        "id": "926288ec"
      },
      "outputs": [],
      "source": [
        "class BankDatasetBase(Dataset):\n",
        "    def __init__(self, data: pd.DataFrame) -> None:\n",
        "        super().__init__()\n",
        "        self.X, self.y = data.drop('y', axis=1), data.y\n",
        "        \n",
        "    def __getitem__(self, idx: int) -> tuple:\n",
        "        return self.X.iloc[idx], self.y.iloc[idx]\n",
        "\n",
        "    def __len__(self) -> int:\n",
        "        return self.y.shape[0]"
      ]
    },
    {
      "cell_type": "code",
      "execution_count": 365,
      "id": "aa66b4dd",
      "metadata": {},
      "outputs": [
        {
          "data": {
            "text/plain": [
              "45211"
            ]
          },
          "execution_count": 365,
          "metadata": {},
          "output_type": "execute_result"
        }
      ],
      "source": [
        "bdb = BankDatasetBase(data)\n",
        "len(bdb)"
      ]
    },
    {
      "cell_type": "code",
      "execution_count": 366,
      "id": "537e7a33",
      "metadata": {},
      "outputs": [
        {
          "data": {
            "text/plain": [
              "(age                  58\n",
              " job          management\n",
              " marital         married\n",
              " education      tertiary\n",
              " default              no\n",
              " balance            2143\n",
              " housing             yes\n",
              " loan                 no\n",
              " contact         unknown\n",
              " day                   5\n",
              " month               may\n",
              " duration            261\n",
              " campaign              1\n",
              " pdays                -1\n",
              " previous              0\n",
              " poutcome        unknown\n",
              " Name: 0, dtype: object,\n",
              " 'no')"
            ]
          },
          "execution_count": 366,
          "metadata": {},
          "output_type": "execute_result"
        }
      ],
      "source": [
        "bdb[0]"
      ]
    },
    {
      "cell_type": "markdown",
      "id": "54a845fb",
      "metadata": {
        "id": "54a845fb"
      },
      "source": [
        "<p class=\"task\" id=\"2\"></p>\n",
        "\n",
        "2\\. Опишите класс `BankDataset`. Решение должно удовлетворять всем критериям из предыдущего задания, а также:\n",
        "* при создании объекта в конструктор может быть передан необязательные аргументы `transform` и `target_transform`;\n",
        "* если аргумент `transform` был передан, то при получении `i`-го элемента, нужно вызвать `transform(x)` и вернуть полученный результат.\n",
        "* если аргумент `target_transform` был передан, то при получении `i`-го элемента, нужно вызвать `target_transform(y)` и вернуть полученный результат.\n",
        "\n",
        "Создайте объект класса `BankDataset` и продемонстрируйте работоспособность (без передачи `target_transform` и `transform`).\n",
        "\n",
        "- [ ] Проверено на семинаре"
      ]
    },
    {
      "cell_type": "code",
      "execution_count": 367,
      "id": "83551f0e",
      "metadata": {
        "id": "83551f0e"
      },
      "outputs": [],
      "source": [
        "class BankDataset(Dataset):\n",
        "    def __init__(\n",
        "            self,\n",
        "            data: pd.DataFrame,\n",
        "            transform: Callable | None = None,\n",
        "            target_transform: Callable | None = None\n",
        "    ) -> None:\n",
        "        super().__init__()\n",
        "        self.X, self.y = data.drop('y', axis=1), data.y\n",
        "        self.transform = transform\n",
        "        self.target_transform = target_transform\n",
        "\n",
        "    def __getitem__(self, idx: int) -> tuple:\n",
        "        x = self.X.iloc[idx]\n",
        "        y = self.y.iloc[idx]\n",
        "        if self.transform is not None:\n",
        "            x, y  = self.transform(x, y)\n",
        "        if self.target_transform is not None:\n",
        "            x, y = self.target_transform(x, y)\n",
        "        return x, y\n",
        "\n",
        "    def __len__(self) -> int:\n",
        "        return self.y.shape[0]"
      ]
    },
    {
      "cell_type": "code",
      "execution_count": 368,
      "id": "21250961",
      "metadata": {},
      "outputs": [
        {
          "data": {
            "text/plain": [
              "45211"
            ]
          },
          "execution_count": 368,
          "metadata": {},
          "output_type": "execute_result"
        }
      ],
      "source": [
        "bd = BankDataset(data)\n",
        "len(bd)"
      ]
    },
    {
      "cell_type": "code",
      "execution_count": 369,
      "id": "bc0e9875",
      "metadata": {},
      "outputs": [
        {
          "data": {
            "text/plain": [
              "(age                  58\n",
              " job          management\n",
              " marital         married\n",
              " education      tertiary\n",
              " default              no\n",
              " balance            2143\n",
              " housing             yes\n",
              " loan                 no\n",
              " contact         unknown\n",
              " day                   5\n",
              " month               may\n",
              " duration            261\n",
              " campaign              1\n",
              " pdays                -1\n",
              " previous              0\n",
              " poutcome        unknown\n",
              " Name: 0, dtype: object,\n",
              " 'no')"
            ]
          },
          "execution_count": 369,
          "metadata": {},
          "output_type": "execute_result"
        }
      ],
      "source": [
        "bd[0]"
      ]
    },
    {
      "cell_type": "markdown",
      "id": "64a59d34",
      "metadata": {
        "id": "64a59d34"
      },
      "source": [
        "<p class=\"task\" id=\"3\"></p>\n",
        "\n",
        "3\\. Опишите класс `OrdinalEncoderTransform`. Решение должно удовлетворять следующим критериям:\n",
        "\n",
        "* при создании объекта в конструктор передаются названия нечисловых столбцов в датасете\n",
        "* класс реализует интерфейс `Callable` (`__call__`); метод `__call__` имеет один параметр (признаки) и возвращает набор признаков, в котором нечисловые характеристики закодированы целыми числами;\n",
        "* состояние объекта (индексы для кодирования) обновляется в момент очередного вызова `__call__` (т.е. все данные сразу никогда не передаются никакому методу объекта).\n",
        "    \n",
        "Продемонстрируйте работоспособность, создав объект `BankDataset` и передав при создании объект класса `OrdinalEncoderTransform`.\n",
        "\n",
        "- [ ] Проверено на семинаре"
      ]
    },
    {
      "cell_type": "code",
      "execution_count": 370,
      "id": "32ec9ee1",
      "metadata": {},
      "outputs": [],
      "source": [
        "class OrdinalEncoderTransform:\n",
        "    def __init__(self, category_columns: list[str]) -> None:\n",
        "        self.category_columns = category_columns\n",
        "        self.category_indexers = {col: {} for col in category_columns}\n",
        "\n",
        "    def __call__(self, x: pd.Series, y: str) -> pd.Series:\n",
        "        for col in self.category_columns:\n",
        "            if col in x:\n",
        "                if x[col] not in self.category_indexers[col]:\n",
        "                    self.category_indexers[col][x[col]] = len(self.category_indexers[col])\n",
        "                x[col] = self.category_indexers[col][x[col]]\n",
        "        return x, y"
      ]
    },
    {
      "cell_type": "code",
      "execution_count": 371,
      "id": "a0b8b71a",
      "metadata": {},
      "outputs": [
        {
          "data": {
            "text/plain": [
              "(age            58\n",
              " job             0\n",
              " marital         0\n",
              " education       0\n",
              " default         0\n",
              " balance      2143\n",
              " housing         0\n",
              " loan            0\n",
              " contact         0\n",
              " day             5\n",
              " month           0\n",
              " duration      261\n",
              " campaign        1\n",
              " pdays          -1\n",
              " previous        0\n",
              " poutcome        0\n",
              " Name: 0, dtype: object,\n",
              " 'no')"
            ]
          },
          "execution_count": 371,
          "metadata": {},
          "output_type": "execute_result"
        }
      ],
      "source": [
        "pd.options.mode.copy_on_write = True\n",
        "cats = data.drop('y', axis=1).select_dtypes(include=['object', 'category']).columns\n",
        "encoder = OrdinalEncoderTransform(cats)\n",
        "bd = BankDataset(data, transform=encoder)\n",
        "bd[0]"
      ]
    },
    {
      "cell_type": "markdown",
      "id": "66fb5237-151b-4924-8932-851dcf0144a4",
      "metadata": {
        "id": "66fb5237-151b-4924-8932-851dcf0144a4"
      },
      "source": [
        "<p class=\"task\" id=\"4\"></p>\n",
        "\n",
        "4\\. Опишите класс `LabelEncoderTransform`. Решение должно удовлетворять следующим критериям:\n",
        "\n",
        "* класс реализует интерфейс `Callable` (`__call__`); метод `__call__` имеет один параметр (строку) и возвращает целое число, соответствующее этой строке;\n",
        "* состояние объекта (индексы для кодирования) обновляется в момент очередного вызова `__call__` (т.е. все данные сразу никогда не передаются никакому методу объекта).\n",
        "    \n",
        "Продемонстрируйте работоспособность, создав объект `BankDataset` и передав при создании объекта в качестве аргумента `target_transform` объект класса `LabelEncoderTransform`.\n",
        "\n",
        "- [ ] Проверено на семинаре"
      ]
    },
    {
      "cell_type": "code",
      "execution_count": 372,
      "id": "77e5f378-716d-471a-bcc9-dfc417f0d9ac",
      "metadata": {
        "id": "77e5f378-716d-471a-bcc9-dfc417f0d9ac"
      },
      "outputs": [],
      "source": [
        "class LabelEncoderTransform:\n",
        "    def __init__(self) -> None:\n",
        "        self.label_to_index = {}\n",
        "        \n",
        "    def __call__(self, X: pd.Series, label: str) -> int:\n",
        "        if label not in self.label_to_index:\n",
        "            self.label_to_index[label] = len(self.label_to_index)\n",
        "        return X, self.label_to_index[label]"
      ]
    },
    {
      "cell_type": "code",
      "execution_count": 373,
      "id": "40fe73b4",
      "metadata": {},
      "outputs": [
        {
          "data": {
            "text/plain": [
              "(age                  58\n",
              " job          management\n",
              " marital         married\n",
              " education      tertiary\n",
              " default              no\n",
              " balance            2143\n",
              " housing             yes\n",
              " loan                 no\n",
              " contact         unknown\n",
              " day                   5\n",
              " month               may\n",
              " duration            261\n",
              " campaign              1\n",
              " pdays                -1\n",
              " previous              0\n",
              " poutcome        unknown\n",
              " Name: 0, dtype: object,\n",
              " 0)"
            ]
          },
          "execution_count": 373,
          "metadata": {},
          "output_type": "execute_result"
        }
      ],
      "source": [
        "label_encoder = LabelEncoderTransform()\n",
        "bd = BankDataset(data, target_transform=label_encoder)\n",
        "bd[0]"
      ]
    },
    {
      "cell_type": "markdown",
      "id": "cdd7ae67",
      "metadata": {
        "id": "cdd7ae67"
      },
      "source": [
        "<p class=\"task\" id=\"5\"></p>\n",
        "\n",
        "5\\. Опишите класс `ToTensor`.  Решение должно удовлетворять следующим критериям:\n",
        "* класс реализует интерфейс `Callable` (`__call__`); метод `__call__` принимает на вход серию или фрейм и возвращает тензор.\n",
        "\n",
        "Опишите класс `Compose`.  Решение должно удовлетворять следующим критериям:\n",
        "* при создании объекта в конструктор передается список объектов `transforms`, каждый из которых имеет метод `__call__(x, y)`;\n",
        "* класс реализует интерфейс `Callable` (`__call__`); метод `__call__` принимает имеет параметра (признаки и класс в числовом виде) и и возвращает кортеж, полученный путем последовательного вызова объектов из `transforms`.\n",
        "\n",
        "Продемонстрируйте работоспособность, создав объект `BankDataset` и передав при создании преобразования `Compose` список из объектов LabelEncoderTransform и ToTensor.\n",
        "\n",
        "- [ ] Проверено на семинаре"
      ]
    },
    {
      "cell_type": "code",
      "execution_count": 374,
      "id": "ed5e15b9",
      "metadata": {
        "id": "ed5e15b9"
      },
      "outputs": [],
      "source": [
        "class ToTensor:\n",
        "    def __call__(self, X: pd.Series | int, y: str) -> th.Tensor:\n",
        "        return th.tensor(X.values.astype(float), dtype=th.float32), y\n",
        "\n",
        "class Compose:\n",
        "    def __init__(self, transforms: list[Transform]) -> None:\n",
        "        self.transforms = transforms\n",
        "\n",
        "    def __call__(self, X: Any, y: Any) -> Any:\n",
        "        for transform in self.transforms:\n",
        "            if isinstance(transform, LabelEncoderTransform):\n",
        "                X, y = transform(X, y)\n",
        "            else:\n",
        "                X, y = transform(X, y)\n",
        "        return X, y"
      ]
    },
    {
      "cell_type": "code",
      "execution_count": 375,
      "id": "05eaaa74",
      "metadata": {},
      "outputs": [
        {
          "data": {
            "text/plain": [
              "(tensor([ 5.8000e+01,  0.0000e+00,  0.0000e+00,  0.0000e+00,  0.0000e+00,\n",
              "          2.1430e+03,  0.0000e+00,  0.0000e+00,  0.0000e+00,  5.0000e+00,\n",
              "          0.0000e+00,  2.6100e+02,  1.0000e+00, -1.0000e+00,  0.0000e+00,\n",
              "          0.0000e+00]),\n",
              " 0)"
            ]
          },
          "execution_count": 375,
          "metadata": {},
          "output_type": "execute_result"
        }
      ],
      "source": [
        "comp = Compose([OrdinalEncoderTransform(cats), LabelEncoderTransform(), ToTensor()])\n",
        "bd = BankDataset(data, transform=comp)\n",
        "bd[0]"
      ]
    },
    {
      "cell_type": "markdown",
      "id": "85d77688",
      "metadata": {
        "id": "85d77688"
      },
      "source": [
        "<p class=\"task\" id=\"6\"></p>\n",
        "\n",
        "6\\. Разделите датасет из предыдущего задания на обучающую и тестовую выборку в соотношении 75% на 25%. Создайте объект `DataLoader` для получения пакетов размера 64, полученных из перемешанного обучающего датасета. Кастомизируйте `DataLoader` таким образом, чтобы пакет признаков был представлен в виде трехмерного тензора размера 64x2x8 (разделите 16 признаков на два тензора по 8). Получите один пакет и выведите на экран размерность тензоров пакета.\n",
        "\n",
        "- [ ] Проверено на семинаре"
      ]
    },
    {
      "cell_type": "code",
      "execution_count": 376,
      "id": "08f72ba7",
      "metadata": {},
      "outputs": [],
      "source": [
        "def collate_fn(batch):\n",
        "    x, y = zip(*batch)\n",
        "    x = th.stack(x).view(-1, 2, 8)\n",
        "    y = th.tensor(y)\n",
        "    return x, y"
      ]
    },
    {
      "cell_type": "code",
      "execution_count": 377,
      "id": "83548e2c",
      "metadata": {},
      "outputs": [
        {
          "name": "stdout",
          "output_type": "stream",
          "text": [
            "torch.Size([64, 2, 8])\n",
            "torch.Size([64])\n",
            "torch.Size([64, 2, 8])\n",
            "torch.Size([64])\n",
            "torch.Size([64, 2, 8])\n",
            "torch.Size([64])\n"
          ]
        },
        {
          "name": "stdout",
          "output_type": "stream",
          "text": [
            "torch.Size([64, 2, 8])\n",
            "torch.Size([64])\n",
            "torch.Size([64, 2, 8])\n",
            "torch.Size([64])\n",
            "torch.Size([64, 2, 8])\n",
            "torch.Size([64])\n",
            "torch.Size([64, 2, 8])\n",
            "torch.Size([64])\n",
            "torch.Size([64, 2, 8])\n",
            "torch.Size([64])\n",
            "torch.Size([64, 2, 8])\n",
            "torch.Size([64])\n",
            "torch.Size([64, 2, 8])\n",
            "torch.Size([64])\n",
            "torch.Size([64, 2, 8])\n",
            "torch.Size([64])\n",
            "torch.Size([64, 2, 8])\n",
            "torch.Size([64])\n",
            "torch.Size([64, 2, 8])\n",
            "torch.Size([64])\n",
            "torch.Size([64, 2, 8])\n",
            "torch.Size([64])\n",
            "torch.Size([64, 2, 8])\n",
            "torch.Size([64])\n",
            "torch.Size([64, 2, 8])\n",
            "torch.Size([64])\n",
            "torch.Size([64, 2, 8])\n",
            "torch.Size([64])\n",
            "torch.Size([64, 2, 8])\n",
            "torch.Size([64])\n",
            "torch.Size([64, 2, 8])\n",
            "torch.Size([64])\n",
            "torch.Size([64, 2, 8])\n",
            "torch.Size([64])\n",
            "torch.Size([64, 2, 8])\n",
            "torch.Size([64])\n",
            "torch.Size([64, 2, 8])\n",
            "torch.Size([64])\n",
            "torch.Size([64, 2, 8])\n",
            "torch.Size([64])\n",
            "torch.Size([64, 2, 8])\n",
            "torch.Size([64])\n",
            "torch.Size([64, 2, 8])\n",
            "torch.Size([64])\n",
            "torch.Size([64, 2, 8])\n",
            "torch.Size([64])\n",
            "torch.Size([64, 2, 8])\n",
            "torch.Size([64])\n",
            "torch.Size([64, 2, 8])\n",
            "torch.Size([64])\n",
            "torch.Size([64, 2, 8])\n",
            "torch.Size([64])\n",
            "torch.Size([64, 2, 8])\n",
            "torch.Size([64])\n",
            "torch.Size([64, 2, 8])\n",
            "torch.Size([64])\n",
            "torch.Size([64, 2, 8])\n",
            "torch.Size([64])\n",
            "torch.Size([64, 2, 8])\n",
            "torch.Size([64])\n",
            "torch.Size([64, 2, 8])\n",
            "torch.Size([64])\n",
            "torch.Size([64, 2, 8])\n",
            "torch.Size([64])\n",
            "torch.Size([64, 2, 8])\n",
            "torch.Size([64])\n",
            "torch.Size([64, 2, 8])\n",
            "torch.Size([64])\n",
            "torch.Size([64, 2, 8])\n",
            "torch.Size([64])\n",
            "torch.Size([64, 2, 8])\n",
            "torch.Size([64])\n",
            "torch.Size([64, 2, 8])\n",
            "torch.Size([64])\n",
            "torch.Size([64, 2, 8])\n",
            "torch.Size([64])\n",
            "torch.Size([64, 2, 8])\n",
            "torch.Size([64])\n",
            "torch.Size([64, 2, 8])\n",
            "torch.Size([64])\n",
            "torch.Size([64, 2, 8])\n",
            "torch.Size([64])\n",
            "torch.Size([64, 2, 8])\n",
            "torch.Size([64])\n",
            "torch.Size([64, 2, 8])\n",
            "torch.Size([64])\n",
            "torch.Size([64, 2, 8])\n",
            "torch.Size([64])\n",
            "torch.Size([64, 2, 8])\n",
            "torch.Size([64])\n",
            "torch.Size([64, 2, 8])\n",
            "torch.Size([64])\n",
            "torch.Size([64, 2, 8])\n",
            "torch.Size([64])\n",
            "torch.Size([64, 2, 8])\n",
            "torch.Size([64])\n",
            "torch.Size([64, 2, 8])\n",
            "torch.Size([64])\n",
            "torch.Size([64, 2, 8])\n",
            "torch.Size([64])\n",
            "torch.Size([64, 2, 8])\n",
            "torch.Size([64])\n",
            "torch.Size([64, 2, 8])\n",
            "torch.Size([64])\n",
            "torch.Size([64, 2, 8])\n",
            "torch.Size([64])\n",
            "torch.Size([64, 2, 8])\n",
            "torch.Size([64])\n",
            "torch.Size([64, 2, 8])\n",
            "torch.Size([64])\n",
            "torch.Size([64, 2, 8])\n",
            "torch.Size([64])\n",
            "torch.Size([64, 2, 8])\n",
            "torch.Size([64])\n",
            "torch.Size([64, 2, 8])\n",
            "torch.Size([64])\n",
            "torch.Size([64, 2, 8])\n",
            "torch.Size([64])\n",
            "torch.Size([64, 2, 8])\n",
            "torch.Size([64])\n",
            "torch.Size([64, 2, 8])\n",
            "torch.Size([64])\n",
            "torch.Size([64, 2, 8])\n",
            "torch.Size([64])\n",
            "torch.Size([64, 2, 8])\n",
            "torch.Size([64])\n",
            "torch.Size([64, 2, 8])\n",
            "torch.Size([64])\n",
            "torch.Size([64, 2, 8])\n",
            "torch.Size([64])\n",
            "torch.Size([64, 2, 8])\n",
            "torch.Size([64])\n",
            "torch.Size([64, 2, 8])\n",
            "torch.Size([64])\n",
            "torch.Size([64, 2, 8])\n",
            "torch.Size([64])\n",
            "torch.Size([64, 2, 8])\n",
            "torch.Size([64])\n",
            "torch.Size([64, 2, 8])\n",
            "torch.Size([64])\n",
            "torch.Size([64, 2, 8])\n",
            "torch.Size([64])\n",
            "torch.Size([64, 2, 8])\n",
            "torch.Size([64])\n",
            "torch.Size([64, 2, 8])\n",
            "torch.Size([64])\n",
            "torch.Size([64, 2, 8])\n",
            "torch.Size([64])\n",
            "torch.Size([64, 2, 8])\n",
            "torch.Size([64])\n",
            "torch.Size([64, 2, 8])\n",
            "torch.Size([64])\n",
            "torch.Size([64, 2, 8])\n",
            "torch.Size([64])\n",
            "torch.Size([64, 2, 8])\n",
            "torch.Size([64])\n",
            "torch.Size([64, 2, 8])\n",
            "torch.Size([64])\n",
            "torch.Size([64, 2, 8])\n",
            "torch.Size([64])\n",
            "torch.Size([64, 2, 8])\n",
            "torch.Size([64])\n",
            "torch.Size([64, 2, 8])\n",
            "torch.Size([64])\n",
            "torch.Size([64, 2, 8])\n",
            "torch.Size([64])\n",
            "torch.Size([64, 2, 8])\n",
            "torch.Size([64])\n",
            "torch.Size([64, 2, 8])\n",
            "torch.Size([64])\n",
            "torch.Size([64, 2, 8])\n",
            "torch.Size([64])\n",
            "torch.Size([64, 2, 8])\n",
            "torch.Size([64])\n",
            "torch.Size([64, 2, 8])\n",
            "torch.Size([64])\n",
            "torch.Size([64, 2, 8])\n",
            "torch.Size([64])\n",
            "torch.Size([64, 2, 8])\n",
            "torch.Size([64])\n",
            "torch.Size([64, 2, 8])\n",
            "torch.Size([64])\n",
            "torch.Size([64, 2, 8])\n",
            "torch.Size([64])\n",
            "torch.Size([64, 2, 8])\n",
            "torch.Size([64])\n",
            "torch.Size([64, 2, 8])\n",
            "torch.Size([64])\n",
            "torch.Size([64, 2, 8])\n",
            "torch.Size([64])\n",
            "torch.Size([64, 2, 8])\n",
            "torch.Size([64])\n",
            "torch.Size([64, 2, 8])\n",
            "torch.Size([64])\n",
            "torch.Size([64, 2, 8])\n",
            "torch.Size([64])\n",
            "torch.Size([64, 2, 8])\n",
            "torch.Size([64])\n",
            "torch.Size([64, 2, 8])\n",
            "torch.Size([64])\n",
            "torch.Size([64, 2, 8])\n",
            "torch.Size([64])\n",
            "torch.Size([64, 2, 8])\n",
            "torch.Size([64])\n",
            "torch.Size([64, 2, 8])\n",
            "torch.Size([64])\n",
            "torch.Size([64, 2, 8])\n",
            "torch.Size([64])\n",
            "torch.Size([64, 2, 8])\n",
            "torch.Size([64])\n",
            "torch.Size([64, 2, 8])\n",
            "torch.Size([64])\n",
            "torch.Size([64, 2, 8])\n",
            "torch.Size([64])\n",
            "torch.Size([64, 2, 8])\n",
            "torch.Size([64])\n",
            "torch.Size([64, 2, 8])\n",
            "torch.Size([64])\n",
            "torch.Size([64, 2, 8])\n",
            "torch.Size([64])\n",
            "torch.Size([64, 2, 8])\n",
            "torch.Size([64])\n",
            "torch.Size([64, 2, 8])\n",
            "torch.Size([64])\n",
            "torch.Size([64, 2, 8])\n",
            "torch.Size([64])\n",
            "torch.Size([64, 2, 8])\n",
            "torch.Size([64])\n",
            "torch.Size([64, 2, 8])\n",
            "torch.Size([64])\n",
            "torch.Size([64, 2, 8])\n",
            "torch.Size([64])\n",
            "torch.Size([64, 2, 8])\n",
            "torch.Size([64])\n",
            "torch.Size([64, 2, 8])\n",
            "torch.Size([64])\n",
            "torch.Size([64, 2, 8])\n",
            "torch.Size([64])\n",
            "torch.Size([64, 2, 8])\n",
            "torch.Size([64])\n",
            "torch.Size([64, 2, 8])\n",
            "torch.Size([64])\n",
            "torch.Size([64, 2, 8])\n",
            "torch.Size([64])\n",
            "torch.Size([64, 2, 8])\n",
            "torch.Size([64])\n",
            "torch.Size([64, 2, 8])\n",
            "torch.Size([64])\n",
            "torch.Size([64, 2, 8])\n",
            "torch.Size([64])\n",
            "torch.Size([64, 2, 8])\n",
            "torch.Size([64])\n",
            "torch.Size([64, 2, 8])\n",
            "torch.Size([64])\n",
            "torch.Size([64, 2, 8])\n",
            "torch.Size([64])\n",
            "torch.Size([64, 2, 8])\n",
            "torch.Size([64])\n",
            "torch.Size([64, 2, 8])\n",
            "torch.Size([64])\n",
            "torch.Size([64, 2, 8])\n",
            "torch.Size([64])\n",
            "torch.Size([64, 2, 8])\n",
            "torch.Size([64])\n",
            "torch.Size([64, 2, 8])\n",
            "torch.Size([64])\n",
            "torch.Size([64, 2, 8])\n",
            "torch.Size([64])\n",
            "torch.Size([64, 2, 8])\n",
            "torch.Size([64])\n",
            "torch.Size([64, 2, 8])\n",
            "torch.Size([64])\n",
            "torch.Size([64, 2, 8])\n",
            "torch.Size([64])\n",
            "torch.Size([64, 2, 8])\n",
            "torch.Size([64])\n",
            "torch.Size([64, 2, 8])\n",
            "torch.Size([64])\n",
            "torch.Size([64, 2, 8])\n",
            "torch.Size([64])\n",
            "torch.Size([64, 2, 8])\n",
            "torch.Size([64])\n",
            "torch.Size([64, 2, 8])\n",
            "torch.Size([64])\n",
            "torch.Size([64, 2, 8])\n",
            "torch.Size([64])\n",
            "torch.Size([64, 2, 8])\n",
            "torch.Size([64])\n",
            "torch.Size([64, 2, 8])\n",
            "torch.Size([64])\n",
            "torch.Size([64, 2, 8])\n",
            "torch.Size([64])\n",
            "torch.Size([64, 2, 8])\n",
            "torch.Size([64])\n",
            "torch.Size([64, 2, 8])\n",
            "torch.Size([64])\n",
            "torch.Size([64, 2, 8])\n",
            "torch.Size([64])\n",
            "torch.Size([64, 2, 8])\n",
            "torch.Size([64])\n",
            "torch.Size([64, 2, 8])\n",
            "torch.Size([64])\n",
            "torch.Size([64, 2, 8])\n",
            "torch.Size([64])\n",
            "torch.Size([64, 2, 8])\n",
            "torch.Size([64])\n",
            "torch.Size([64, 2, 8])\n",
            "torch.Size([64])\n",
            "torch.Size([64, 2, 8])\n",
            "torch.Size([64])\n",
            "torch.Size([64, 2, 8])\n",
            "torch.Size([64])\n",
            "torch.Size([64, 2, 8])\n",
            "torch.Size([64])\n",
            "torch.Size([64, 2, 8])\n",
            "torch.Size([64])\n",
            "torch.Size([64, 2, 8])\n",
            "torch.Size([64])\n",
            "torch.Size([64, 2, 8])\n",
            "torch.Size([64])\n",
            "torch.Size([64, 2, 8])\n",
            "torch.Size([64])\n",
            "torch.Size([64, 2, 8])\n",
            "torch.Size([64])\n",
            "torch.Size([64, 2, 8])\n",
            "torch.Size([64])\n",
            "torch.Size([64, 2, 8])\n",
            "torch.Size([64])\n",
            "torch.Size([64, 2, 8])\n",
            "torch.Size([64])\n",
            "torch.Size([64, 2, 8])\n",
            "torch.Size([64])\n",
            "torch.Size([64, 2, 8])\n",
            "torch.Size([64])\n",
            "torch.Size([64, 2, 8])\n",
            "torch.Size([64])\n",
            "torch.Size([64, 2, 8])\n",
            "torch.Size([64])\n",
            "torch.Size([64, 2, 8])\n",
            "torch.Size([64])\n",
            "torch.Size([64, 2, 8])\n",
            "torch.Size([64])\n",
            "torch.Size([64, 2, 8])\n",
            "torch.Size([64])\n",
            "torch.Size([64, 2, 8])\n",
            "torch.Size([64])\n",
            "torch.Size([64, 2, 8])\n",
            "torch.Size([64])\n",
            "torch.Size([64, 2, 8])\n",
            "torch.Size([64])\n",
            "torch.Size([64, 2, 8])\n",
            "torch.Size([64])\n",
            "torch.Size([64, 2, 8])\n",
            "torch.Size([64])\n",
            "torch.Size([64, 2, 8])\n",
            "torch.Size([64])\n",
            "torch.Size([64, 2, 8])\n",
            "torch.Size([64])\n",
            "torch.Size([64, 2, 8])\n",
            "torch.Size([64])\n",
            "torch.Size([64, 2, 8])\n",
            "torch.Size([64])\n",
            "torch.Size([64, 2, 8])\n",
            "torch.Size([64])\n",
            "torch.Size([64, 2, 8])\n",
            "torch.Size([64])\n",
            "torch.Size([64, 2, 8])\n",
            "torch.Size([64])\n",
            "torch.Size([64, 2, 8])\n",
            "torch.Size([64])\n",
            "torch.Size([64, 2, 8])\n",
            "torch.Size([64])\n",
            "torch.Size([64, 2, 8])\n",
            "torch.Size([64])\n",
            "torch.Size([64, 2, 8])\n",
            "torch.Size([64])\n",
            "torch.Size([64, 2, 8])\n",
            "torch.Size([64])\n",
            "torch.Size([64, 2, 8])\n",
            "torch.Size([64])\n",
            "torch.Size([64, 2, 8])\n",
            "torch.Size([64])\n",
            "torch.Size([64, 2, 8])\n",
            "torch.Size([64])\n",
            "torch.Size([64, 2, 8])\n",
            "torch.Size([64])\n",
            "torch.Size([64, 2, 8])\n",
            "torch.Size([64])\n",
            "torch.Size([64, 2, 8])\n",
            "torch.Size([64])\n",
            "torch.Size([64, 2, 8])\n",
            "torch.Size([64])\n",
            "torch.Size([64, 2, 8])\n",
            "torch.Size([64])\n",
            "torch.Size([64, 2, 8])\n",
            "torch.Size([64])\n",
            "torch.Size([64, 2, 8])\n",
            "torch.Size([64])\n",
            "torch.Size([64, 2, 8])\n",
            "torch.Size([64])\n",
            "torch.Size([64, 2, 8])\n",
            "torch.Size([64])\n",
            "torch.Size([64, 2, 8])\n",
            "torch.Size([64])\n",
            "torch.Size([64, 2, 8])\n",
            "torch.Size([64])\n",
            "torch.Size([64, 2, 8])\n",
            "torch.Size([64])\n",
            "torch.Size([64, 2, 8])\n",
            "torch.Size([64])\n",
            "torch.Size([64, 2, 8])\n",
            "torch.Size([64])\n",
            "torch.Size([64, 2, 8])\n",
            "torch.Size([64])\n",
            "torch.Size([64, 2, 8])\n",
            "torch.Size([64])\n",
            "torch.Size([64, 2, 8])\n",
            "torch.Size([64])\n",
            "torch.Size([64, 2, 8])\n",
            "torch.Size([64])\n",
            "torch.Size([64, 2, 8])\n",
            "torch.Size([64])\n",
            "torch.Size([64, 2, 8])\n",
            "torch.Size([64])\n",
            "torch.Size([64, 2, 8])\n",
            "torch.Size([64])\n",
            "torch.Size([64, 2, 8])\n",
            "torch.Size([64])\n",
            "torch.Size([64, 2, 8])\n",
            "torch.Size([64])\n",
            "torch.Size([64, 2, 8])\n",
            "torch.Size([64])\n",
            "torch.Size([64, 2, 8])\n",
            "torch.Size([64])\n",
            "torch.Size([64, 2, 8])\n",
            "torch.Size([64])\n",
            "torch.Size([64, 2, 8])\n",
            "torch.Size([64])\n",
            "torch.Size([64, 2, 8])\n",
            "torch.Size([64])\n",
            "torch.Size([64, 2, 8])\n",
            "torch.Size([64])\n",
            "torch.Size([64, 2, 8])\n",
            "torch.Size([64])\n",
            "torch.Size([64, 2, 8])\n",
            "torch.Size([64])\n",
            "torch.Size([64, 2, 8])\n",
            "torch.Size([64])\n",
            "torch.Size([64, 2, 8])\n",
            "torch.Size([64])\n",
            "torch.Size([64, 2, 8])\n",
            "torch.Size([64])\n",
            "torch.Size([64, 2, 8])\n",
            "torch.Size([64])\n",
            "torch.Size([64, 2, 8])\n",
            "torch.Size([64])\n",
            "torch.Size([64, 2, 8])\n",
            "torch.Size([64])\n",
            "torch.Size([64, 2, 8])\n",
            "torch.Size([64])\n",
            "torch.Size([64, 2, 8])\n",
            "torch.Size([64])\n",
            "torch.Size([64, 2, 8])\n",
            "torch.Size([64])\n",
            "torch.Size([64, 2, 8])\n",
            "torch.Size([64])\n",
            "torch.Size([64, 2, 8])\n",
            "torch.Size([64])\n",
            "torch.Size([64, 2, 8])\n",
            "torch.Size([64])\n",
            "torch.Size([64, 2, 8])\n",
            "torch.Size([64])\n",
            "torch.Size([64, 2, 8])\n",
            "torch.Size([64])\n",
            "torch.Size([64, 2, 8])\n",
            "torch.Size([64])\n",
            "torch.Size([64, 2, 8])\n",
            "torch.Size([64])\n",
            "torch.Size([64, 2, 8])\n",
            "torch.Size([64])\n",
            "torch.Size([64, 2, 8])\n",
            "torch.Size([64])\n",
            "torch.Size([64, 2, 8])\n",
            "torch.Size([64])\n",
            "torch.Size([64, 2, 8])\n",
            "torch.Size([64])\n",
            "torch.Size([64, 2, 8])\n",
            "torch.Size([64])\n",
            "torch.Size([64, 2, 8])\n",
            "torch.Size([64])\n",
            "torch.Size([64, 2, 8])\n",
            "torch.Size([64])\n",
            "torch.Size([64, 2, 8])\n",
            "torch.Size([64])\n",
            "torch.Size([64, 2, 8])\n",
            "torch.Size([64])\n",
            "torch.Size([64, 2, 8])\n",
            "torch.Size([64])\n",
            "torch.Size([64, 2, 8])\n",
            "torch.Size([64])\n",
            "torch.Size([64, 2, 8])\n",
            "torch.Size([64])\n",
            "torch.Size([64, 2, 8])\n",
            "torch.Size([64])\n",
            "torch.Size([64, 2, 8])\n",
            "torch.Size([64])\n",
            "torch.Size([64, 2, 8])\n",
            "torch.Size([64])\n",
            "torch.Size([64, 2, 8])\n",
            "torch.Size([64])\n",
            "torch.Size([64, 2, 8])\n",
            "torch.Size([64])\n",
            "torch.Size([64, 2, 8])\n",
            "torch.Size([64])\n",
            "torch.Size([64, 2, 8])\n",
            "torch.Size([64])\n",
            "torch.Size([64, 2, 8])\n",
            "torch.Size([64])\n",
            "torch.Size([64, 2, 8])\n",
            "torch.Size([64])\n",
            "torch.Size([64, 2, 8])\n",
            "torch.Size([64])\n",
            "torch.Size([64, 2, 8])\n",
            "torch.Size([64])\n",
            "torch.Size([64, 2, 8])\n",
            "torch.Size([64])\n",
            "torch.Size([64, 2, 8])\n",
            "torch.Size([64])\n",
            "torch.Size([64, 2, 8])\n",
            "torch.Size([64])\n",
            "torch.Size([64, 2, 8])\n",
            "torch.Size([64])\n",
            "torch.Size([64, 2, 8])\n",
            "torch.Size([64])\n",
            "torch.Size([64, 2, 8])\n",
            "torch.Size([64])\n",
            "torch.Size([64, 2, 8])\n",
            "torch.Size([64])\n",
            "torch.Size([64, 2, 8])\n",
            "torch.Size([64])\n",
            "torch.Size([64, 2, 8])\n",
            "torch.Size([64])\n",
            "torch.Size([64, 2, 8])\n",
            "torch.Size([64])\n",
            "torch.Size([64, 2, 8])\n",
            "torch.Size([64])\n",
            "torch.Size([64, 2, 8])\n",
            "torch.Size([64])\n",
            "torch.Size([64, 2, 8])\n",
            "torch.Size([64])\n",
            "torch.Size([64, 2, 8])\n",
            "torch.Size([64])\n",
            "torch.Size([64, 2, 8])\n",
            "torch.Size([64])\n",
            "torch.Size([64, 2, 8])\n",
            "torch.Size([64])\n",
            "torch.Size([64, 2, 8])\n",
            "torch.Size([64])\n",
            "torch.Size([64, 2, 8])\n",
            "torch.Size([64])\n",
            "torch.Size([64, 2, 8])\n",
            "torch.Size([64])\n",
            "torch.Size([64, 2, 8])\n",
            "torch.Size([64])\n",
            "torch.Size([64, 2, 8])\n",
            "torch.Size([64])\n",
            "torch.Size([64, 2, 8])\n",
            "torch.Size([64])\n",
            "torch.Size([64, 2, 8])\n",
            "torch.Size([64])\n",
            "torch.Size([64, 2, 8])\n",
            "torch.Size([64])\n",
            "torch.Size([64, 2, 8])\n",
            "torch.Size([64])\n",
            "torch.Size([64, 2, 8])\n",
            "torch.Size([64])\n",
            "torch.Size([64, 2, 8])\n",
            "torch.Size([64])\n",
            "torch.Size([64, 2, 8])\n",
            "torch.Size([64])\n",
            "torch.Size([64, 2, 8])\n",
            "torch.Size([64])\n",
            "torch.Size([64, 2, 8])\n",
            "torch.Size([64])\n",
            "torch.Size([64, 2, 8])\n",
            "torch.Size([64])\n",
            "torch.Size([64, 2, 8])\n",
            "torch.Size([64])\n",
            "torch.Size([64, 2, 8])\n",
            "torch.Size([64])\n",
            "torch.Size([64, 2, 8])\n",
            "torch.Size([64])\n",
            "torch.Size([64, 2, 8])\n",
            "torch.Size([64])\n",
            "torch.Size([64, 2, 8])\n",
            "torch.Size([64])\n",
            "torch.Size([64, 2, 8])\n",
            "torch.Size([64])\n",
            "torch.Size([64, 2, 8])\n",
            "torch.Size([64])\n",
            "torch.Size([64, 2, 8])\n",
            "torch.Size([64])\n",
            "torch.Size([64, 2, 8])\n",
            "torch.Size([64])\n",
            "torch.Size([64, 2, 8])\n",
            "torch.Size([64])\n",
            "torch.Size([64, 2, 8])\n",
            "torch.Size([64])\n",
            "torch.Size([64, 2, 8])\n",
            "torch.Size([64])\n",
            "torch.Size([64, 2, 8])\n",
            "torch.Size([64])\n",
            "torch.Size([64, 2, 8])\n",
            "torch.Size([64])\n",
            "torch.Size([64, 2, 8])\n",
            "torch.Size([64])\n",
            "torch.Size([64, 2, 8])\n",
            "torch.Size([64])\n",
            "torch.Size([64, 2, 8])\n",
            "torch.Size([64])\n",
            "torch.Size([64, 2, 8])\n",
            "torch.Size([64])\n",
            "torch.Size([64, 2, 8])\n",
            "torch.Size([64])\n",
            "torch.Size([64, 2, 8])\n",
            "torch.Size([64])\n",
            "torch.Size([64, 2, 8])\n",
            "torch.Size([64])\n",
            "torch.Size([64, 2, 8])\n",
            "torch.Size([64])\n",
            "torch.Size([64, 2, 8])\n",
            "torch.Size([64])\n",
            "torch.Size([64, 2, 8])\n",
            "torch.Size([64])\n",
            "torch.Size([64, 2, 8])\n",
            "torch.Size([64])\n",
            "torch.Size([64, 2, 8])\n",
            "torch.Size([64])\n",
            "torch.Size([64, 2, 8])\n",
            "torch.Size([64])\n",
            "torch.Size([64, 2, 8])\n",
            "torch.Size([64])\n",
            "torch.Size([64, 2, 8])\n",
            "torch.Size([64])\n",
            "torch.Size([64, 2, 8])\n",
            "torch.Size([64])\n",
            "torch.Size([64, 2, 8])\n",
            "torch.Size([64])\n",
            "torch.Size([64, 2, 8])\n",
            "torch.Size([64])\n",
            "torch.Size([64, 2, 8])\n",
            "torch.Size([64])\n",
            "torch.Size([64, 2, 8])\n",
            "torch.Size([64])\n",
            "torch.Size([64, 2, 8])\n",
            "torch.Size([64])\n",
            "torch.Size([64, 2, 8])\n",
            "torch.Size([64])\n",
            "torch.Size([64, 2, 8])\n",
            "torch.Size([64])\n",
            "torch.Size([64, 2, 8])\n",
            "torch.Size([64])\n",
            "torch.Size([64, 2, 8])\n",
            "torch.Size([64])\n",
            "torch.Size([64, 2, 8])\n",
            "torch.Size([64])\n",
            "torch.Size([64, 2, 8])\n",
            "torch.Size([64])\n",
            "torch.Size([64, 2, 8])\n",
            "torch.Size([64])\n",
            "torch.Size([64, 2, 8])\n",
            "torch.Size([64])\n",
            "torch.Size([64, 2, 8])\n",
            "torch.Size([64])\n",
            "torch.Size([64, 2, 8])\n",
            "torch.Size([64])\n",
            "torch.Size([64, 2, 8])\n",
            "torch.Size([64])\n",
            "torch.Size([64, 2, 8])\n",
            "torch.Size([64])\n",
            "torch.Size([64, 2, 8])\n",
            "torch.Size([64])\n",
            "torch.Size([64, 2, 8])\n",
            "torch.Size([64])\n",
            "torch.Size([64, 2, 8])\n",
            "torch.Size([64])\n",
            "torch.Size([64, 2, 8])\n",
            "torch.Size([64])\n",
            "torch.Size([64, 2, 8])\n",
            "torch.Size([64])\n",
            "torch.Size([64, 2, 8])\n",
            "torch.Size([64])\n",
            "torch.Size([64, 2, 8])\n",
            "torch.Size([64])\n",
            "torch.Size([64, 2, 8])\n",
            "torch.Size([64])\n",
            "torch.Size([64, 2, 8])\n",
            "torch.Size([64])\n",
            "torch.Size([64, 2, 8])\n",
            "torch.Size([64])\n",
            "torch.Size([64, 2, 8])\n",
            "torch.Size([64])\n",
            "torch.Size([64, 2, 8])\n",
            "torch.Size([64])\n",
            "torch.Size([64, 2, 8])\n",
            "torch.Size([64])\n",
            "torch.Size([64, 2, 8])\n",
            "torch.Size([64])\n",
            "torch.Size([64, 2, 8])\n",
            "torch.Size([64])\n",
            "torch.Size([64, 2, 8])\n",
            "torch.Size([64])\n",
            "torch.Size([64, 2, 8])\n",
            "torch.Size([64])\n",
            "torch.Size([64, 2, 8])\n",
            "torch.Size([64])\n",
            "torch.Size([64, 2, 8])\n",
            "torch.Size([64])\n",
            "torch.Size([64, 2, 8])\n",
            "torch.Size([64])\n",
            "torch.Size([64, 2, 8])\n",
            "torch.Size([64])\n",
            "torch.Size([64, 2, 8])\n",
            "torch.Size([64])\n",
            "torch.Size([64, 2, 8])\n",
            "torch.Size([64])\n",
            "torch.Size([64, 2, 8])\n",
            "torch.Size([64])\n",
            "torch.Size([64, 2, 8])\n",
            "torch.Size([64])\n",
            "torch.Size([64, 2, 8])\n",
            "torch.Size([64])\n",
            "torch.Size([64, 2, 8])\n",
            "torch.Size([64])\n",
            "torch.Size([64, 2, 8])\n",
            "torch.Size([64])\n",
            "torch.Size([64, 2, 8])\n",
            "torch.Size([64])\n",
            "torch.Size([64, 2, 8])\n",
            "torch.Size([64])\n",
            "torch.Size([64, 2, 8])\n",
            "torch.Size([64])\n",
            "torch.Size([64, 2, 8])\n",
            "torch.Size([64])\n",
            "torch.Size([64, 2, 8])\n",
            "torch.Size([64])\n",
            "torch.Size([64, 2, 8])\n",
            "torch.Size([64])\n",
            "torch.Size([64, 2, 8])\n",
            "torch.Size([64])\n",
            "torch.Size([64, 2, 8])\n",
            "torch.Size([64])\n",
            "torch.Size([64, 2, 8])\n",
            "torch.Size([64])\n",
            "torch.Size([64, 2, 8])\n",
            "torch.Size([64])\n",
            "torch.Size([64, 2, 8])\n",
            "torch.Size([64])\n",
            "torch.Size([64, 2, 8])\n",
            "torch.Size([64])\n",
            "torch.Size([64, 2, 8])\n",
            "torch.Size([64])\n",
            "torch.Size([64, 2, 8])\n",
            "torch.Size([64])\n",
            "torch.Size([64, 2, 8])\n",
            "torch.Size([64])\n",
            "torch.Size([64, 2, 8])\n",
            "torch.Size([64])\n",
            "torch.Size([64, 2, 8])\n",
            "torch.Size([64])\n",
            "torch.Size([64, 2, 8])\n",
            "torch.Size([64])\n",
            "torch.Size([64, 2, 8])\n",
            "torch.Size([64])\n",
            "torch.Size([64, 2, 8])\n",
            "torch.Size([64])\n",
            "torch.Size([64, 2, 8])\n",
            "torch.Size([64])\n",
            "torch.Size([64, 2, 8])\n",
            "torch.Size([64])\n",
            "torch.Size([64, 2, 8])\n",
            "torch.Size([64])\n",
            "torch.Size([64, 2, 8])\n",
            "torch.Size([64])\n",
            "torch.Size([64, 2, 8])\n",
            "torch.Size([64])\n",
            "torch.Size([64, 2, 8])\n",
            "torch.Size([64])\n",
            "torch.Size([64, 2, 8])\n",
            "torch.Size([64])\n",
            "torch.Size([64, 2, 8])\n",
            "torch.Size([64])\n",
            "torch.Size([64, 2, 8])\n",
            "torch.Size([64])\n",
            "torch.Size([64, 2, 8])\n",
            "torch.Size([64])\n",
            "torch.Size([64, 2, 8])\n",
            "torch.Size([64])\n",
            "torch.Size([64, 2, 8])\n",
            "torch.Size([64])\n",
            "torch.Size([64, 2, 8])\n",
            "torch.Size([64])\n",
            "torch.Size([64, 2, 8])\n",
            "torch.Size([64])\n",
            "torch.Size([64, 2, 8])\n",
            "torch.Size([64])\n",
            "torch.Size([64, 2, 8])\n",
            "torch.Size([64])\n",
            "torch.Size([64, 2, 8])\n",
            "torch.Size([64])\n",
            "torch.Size([64, 2, 8])\n",
            "torch.Size([64])\n",
            "torch.Size([64, 2, 8])\n",
            "torch.Size([64])\n",
            "torch.Size([64, 2, 8])\n",
            "torch.Size([64])\n",
            "torch.Size([64, 2, 8])\n",
            "torch.Size([64])\n",
            "torch.Size([64, 2, 8])\n",
            "torch.Size([64])\n",
            "torch.Size([64, 2, 8])\n",
            "torch.Size([64])\n",
            "torch.Size([64, 2, 8])\n",
            "torch.Size([64])\n",
            "torch.Size([64, 2, 8])\n",
            "torch.Size([64])\n",
            "torch.Size([64, 2, 8])\n",
            "torch.Size([64])\n",
            "torch.Size([64, 2, 8])\n",
            "torch.Size([64])\n",
            "torch.Size([64, 2, 8])\n",
            "torch.Size([64])\n",
            "torch.Size([64, 2, 8])\n",
            "torch.Size([64])\n",
            "torch.Size([64, 2, 8])\n",
            "torch.Size([64])\n",
            "torch.Size([64, 2, 8])\n",
            "torch.Size([64])\n",
            "torch.Size([64, 2, 8])\n",
            "torch.Size([64])\n",
            "torch.Size([64, 2, 8])\n",
            "torch.Size([64])\n",
            "torch.Size([64, 2, 8])\n",
            "torch.Size([64])\n",
            "torch.Size([64, 2, 8])\n",
            "torch.Size([64])\n",
            "torch.Size([64, 2, 8])\n",
            "torch.Size([64])\n",
            "torch.Size([64, 2, 8])\n",
            "torch.Size([64])\n",
            "torch.Size([64, 2, 8])\n",
            "torch.Size([64])\n",
            "torch.Size([64, 2, 8])\n",
            "torch.Size([64])\n",
            "torch.Size([64, 2, 8])\n",
            "torch.Size([64])\n",
            "torch.Size([64, 2, 8])\n",
            "torch.Size([64])\n",
            "torch.Size([64, 2, 8])\n",
            "torch.Size([64])\n",
            "torch.Size([64, 2, 8])\n",
            "torch.Size([64])\n",
            "torch.Size([64, 2, 8])\n",
            "torch.Size([64])\n",
            "torch.Size([64, 2, 8])\n",
            "torch.Size([64])\n",
            "torch.Size([64, 2, 8])\n",
            "torch.Size([64])\n",
            "torch.Size([64, 2, 8])\n",
            "torch.Size([64])\n",
            "torch.Size([64, 2, 8])\n",
            "torch.Size([64])\n",
            "torch.Size([64, 2, 8])\n",
            "torch.Size([64])\n",
            "torch.Size([64, 2, 8])\n",
            "torch.Size([64])\n",
            "torch.Size([64, 2, 8])\n",
            "torch.Size([64])\n",
            "torch.Size([64, 2, 8])\n",
            "torch.Size([64])\n",
            "torch.Size([64, 2, 8])\n",
            "torch.Size([64])\n",
            "torch.Size([64, 2, 8])\n",
            "torch.Size([64])\n",
            "torch.Size([64, 2, 8])\n",
            "torch.Size([64])\n",
            "torch.Size([64, 2, 8])\n",
            "torch.Size([64])\n",
            "torch.Size([64, 2, 8])\n",
            "torch.Size([64])\n",
            "torch.Size([64, 2, 8])\n",
            "torch.Size([64])\n",
            "torch.Size([64, 2, 8])\n",
            "torch.Size([64])\n",
            "torch.Size([64, 2, 8])\n",
            "torch.Size([64])\n",
            "torch.Size([64, 2, 8])\n",
            "torch.Size([64])\n",
            "torch.Size([64, 2, 8])\n",
            "torch.Size([64])\n",
            "torch.Size([64, 2, 8])\n",
            "torch.Size([64])\n",
            "torch.Size([64, 2, 8])\n",
            "torch.Size([64])\n",
            "torch.Size([64, 2, 8])\n",
            "torch.Size([64])\n",
            "torch.Size([64, 2, 8])\n",
            "torch.Size([64])\n",
            "torch.Size([64, 2, 8])\n",
            "torch.Size([64])\n",
            "torch.Size([64, 2, 8])\n",
            "torch.Size([64])\n",
            "torch.Size([64, 2, 8])\n",
            "torch.Size([64])\n",
            "torch.Size([64, 2, 8])\n",
            "torch.Size([64])\n",
            "torch.Size([64, 2, 8])\n",
            "torch.Size([64])\n",
            "torch.Size([64, 2, 8])\n",
            "torch.Size([64])\n",
            "torch.Size([64, 2, 8])\n",
            "torch.Size([64])\n",
            "torch.Size([64, 2, 8])\n",
            "torch.Size([64])\n",
            "torch.Size([64, 2, 8])\n",
            "torch.Size([64])\n",
            "torch.Size([64, 2, 8])\n",
            "torch.Size([64])\n",
            "torch.Size([64, 2, 8])\n",
            "torch.Size([64])\n",
            "torch.Size([64, 2, 8])\n",
            "torch.Size([64])\n",
            "torch.Size([64, 2, 8])\n",
            "torch.Size([64])\n",
            "torch.Size([64, 2, 8])\n",
            "torch.Size([64])\n",
            "torch.Size([64, 2, 8])\n",
            "torch.Size([64])\n",
            "torch.Size([64, 2, 8])\n",
            "torch.Size([64])\n",
            "torch.Size([64, 2, 8])\n",
            "torch.Size([64])\n",
            "torch.Size([64, 2, 8])\n",
            "torch.Size([64])\n",
            "torch.Size([64, 2, 8])\n",
            "torch.Size([64])\n",
            "torch.Size([64, 2, 8])\n",
            "torch.Size([64])\n",
            "torch.Size([64, 2, 8])\n",
            "torch.Size([64])\n",
            "torch.Size([64, 2, 8])\n",
            "torch.Size([64])\n",
            "torch.Size([64, 2, 8])\n",
            "torch.Size([64])\n",
            "torch.Size([64, 2, 8])\n",
            "torch.Size([64])\n",
            "torch.Size([64, 2, 8])\n",
            "torch.Size([64])\n",
            "torch.Size([64, 2, 8])\n",
            "torch.Size([64])\n",
            "torch.Size([64, 2, 8])\n",
            "torch.Size([64])\n",
            "torch.Size([64, 2, 8])\n",
            "torch.Size([64])\n",
            "torch.Size([64, 2, 8])\n",
            "torch.Size([64])\n",
            "torch.Size([64, 2, 8])\n",
            "torch.Size([64])\n",
            "torch.Size([64, 2, 8])\n",
            "torch.Size([64])\n",
            "torch.Size([64, 2, 8])\n",
            "torch.Size([64])\n",
            "torch.Size([64, 2, 8])\n",
            "torch.Size([64])\n",
            "torch.Size([64, 2, 8])\n",
            "torch.Size([64])\n",
            "torch.Size([64, 2, 8])\n",
            "torch.Size([64])\n",
            "torch.Size([64, 2, 8])\n",
            "torch.Size([64])\n",
            "torch.Size([64, 2, 8])\n",
            "torch.Size([64])\n",
            "torch.Size([64, 2, 8])\n",
            "torch.Size([64])\n",
            "torch.Size([64, 2, 8])\n",
            "torch.Size([64])\n",
            "torch.Size([64, 2, 8])\n",
            "torch.Size([64])\n",
            "torch.Size([64, 2, 8])\n",
            "torch.Size([64])\n",
            "torch.Size([64, 2, 8])\n",
            "torch.Size([64])\n",
            "torch.Size([64, 2, 8])\n",
            "torch.Size([64])\n",
            "torch.Size([64, 2, 8])\n",
            "torch.Size([64])\n",
            "torch.Size([64, 2, 8])\n",
            "torch.Size([64])\n",
            "torch.Size([64, 2, 8])\n",
            "torch.Size([64])\n",
            "torch.Size([64, 2, 8])\n",
            "torch.Size([64])\n",
            "torch.Size([64, 2, 8])\n",
            "torch.Size([64])\n",
            "torch.Size([64, 2, 8])\n",
            "torch.Size([64])\n",
            "torch.Size([64, 2, 8])\n",
            "torch.Size([64])\n",
            "torch.Size([64, 2, 8])\n",
            "torch.Size([64])\n",
            "torch.Size([64, 2, 8])\n",
            "torch.Size([64])\n",
            "torch.Size([64, 2, 8])\n",
            "torch.Size([64])\n",
            "torch.Size([64, 2, 8])\n",
            "torch.Size([64])\n",
            "torch.Size([64, 2, 8])\n",
            "torch.Size([64])\n",
            "torch.Size([64, 2, 8])\n",
            "torch.Size([64])\n",
            "torch.Size([64, 2, 8])\n",
            "torch.Size([64])\n",
            "torch.Size([64, 2, 8])\n",
            "torch.Size([64])\n",
            "torch.Size([64, 2, 8])\n",
            "torch.Size([64])\n",
            "torch.Size([64, 2, 8])\n",
            "torch.Size([64])\n",
            "torch.Size([64, 2, 8])\n",
            "torch.Size([64])\n",
            "torch.Size([64, 2, 8])\n",
            "torch.Size([64])\n",
            "torch.Size([64, 2, 8])\n",
            "torch.Size([64])\n",
            "torch.Size([64, 2, 8])\n",
            "torch.Size([64])\n",
            "torch.Size([64, 2, 8])\n",
            "torch.Size([64])\n",
            "torch.Size([64, 2, 8])\n",
            "torch.Size([64])\n",
            "torch.Size([64, 2, 8])\n",
            "torch.Size([64])\n",
            "torch.Size([64, 2, 8])\n",
            "torch.Size([64])\n",
            "torch.Size([64, 2, 8])\n",
            "torch.Size([64])\n",
            "torch.Size([64, 2, 8])\n",
            "torch.Size([64])\n",
            "torch.Size([64, 2, 8])\n",
            "torch.Size([64])\n",
            "torch.Size([64, 2, 8])\n",
            "torch.Size([64])\n",
            "torch.Size([53, 2, 8])\n",
            "torch.Size([53])\n"
          ]
        }
      ],
      "source": [
        "train_data, test_data = random_split(bd, lengths=[0.75, 0.25])\n",
        "train_loader = DataLoader(train_data, shuffle=True, batch_size=64, collate_fn=collate_fn)\n",
        "it = iter(train_loader)\n",
        "x, y = next(it)\n",
        "for X_batch, y_batch in train_loader:\n",
        "    print(X_batch.shape)  \n",
        "    print(y_batch.shape)  "
      ]
    },
    {
      "cell_type": "code",
      "execution_count": null,
      "id": "6ea62e83",
      "metadata": {},
      "outputs": [],
      "source": []
    }
  ],
  "metadata": {
    "colab": {
      "provenance": []
    },
    "kernelspec": {
      "display_name": "Python 3 (ipykernel)",
      "language": "python",
      "name": "python3"
    },
    "language_info": {
      "codemirror_mode": {
        "name": "ipython",
        "version": 3
      },
      "file_extension": ".py",
      "mimetype": "text/x-python",
      "name": "python",
      "nbconvert_exporter": "python",
      "pygments_lexer": "ipython3",
      "version": "3.11.5"
    }
  },
  "nbformat": 4,
  "nbformat_minor": 5
}
