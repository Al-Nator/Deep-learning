{
 "cells": [
  {
   "cell_type": "markdown",
   "id": "3a564d5f",
   "metadata": {
    "id": "3a564d5f"
   },
   "source": [
    "# Введение в RL и пакет Gymnasium\n",
    "\n",
    "__Автор задач: Блохин Н.В. (NVBlokhin@fa.ru)__\n",
    "\n",
    "Материалы:\n",
    "* https://gymnasium.farama.org/\n",
    "* https://pypi.org/project/ufal.pybox2d/\n",
    "* https://gymnasium.farama.org/tutorials/gymnasium_basics/environment_creation/\n",
    "* https://gymnasium.farama.org/api/spaces/fundamental/\n",
    "* https://gymnasium.farama.org/environments/toy_text/blackjack/"
   ]
  },
  {
   "cell_type": "markdown",
   "id": "c9ecd663",
   "metadata": {
    "id": "c9ecd663"
   },
   "source": [
    "## Задачи для совместного разбора"
   ]
  },
  {
   "cell_type": "markdown",
   "id": "96b79f4f",
   "metadata": {
    "id": "96b79f4f"
   },
   "source": [
    "1\\. Рассмотрите пример создания окружения `gymnasium` и основные этапы взаимодействия с этим окружением.\n",
    "\n",
    "<img src=\"https://gymnasium.farama.org/_images/AE_loop.png\" width=\"300\"/>"
   ]
  },
  {
   "cell_type": "code",
   "execution_count": 13,
   "id": "7jGjYSEfNO7Q",
   "metadata": {
    "colab": {
     "base_uri": "https://localhost:8080/"
    },
    "collapsed": true,
    "executionInfo": {
     "elapsed": 10080,
     "status": "ok",
     "timestamp": 1733475786011,
     "user": {
      "displayName": "Никита Блохин",
      "userId": "16402972581398673009"
     },
     "user_tz": -180
    },
    "id": "7jGjYSEfNO7Q",
    "outputId": "705c6819-7eee-4b35-c98f-018b9b32e03d"
   },
   "outputs": [],
   "source": [
    "# !pip install gymnasium"
   ]
  },
  {
   "cell_type": "code",
   "execution_count": 14,
   "id": "Z6Icr2H-PSBn",
   "metadata": {
    "colab": {
     "base_uri": "https://localhost:8080/"
    },
    "executionInfo": {
     "elapsed": 4946,
     "status": "ok",
     "timestamp": 1733476302632,
     "user": {
      "displayName": "Никита Блохин",
      "userId": "16402972581398673009"
     },
     "user_tz": -180
    },
    "id": "Z6Icr2H-PSBn",
    "outputId": "8faa2353-efb9-4e4f-9534-358d34a3a931"
   },
   "outputs": [],
   "source": [
    "# !pip install swig"
   ]
  },
  {
   "cell_type": "code",
   "execution_count": 15,
   "id": "gafg1x0zPVMe",
   "metadata": {
    "colab": {
     "base_uri": "https://localhost:8080/"
    },
    "executionInfo": {
     "elapsed": 66878,
     "status": "ok",
     "timestamp": 1733476376957,
     "user": {
      "displayName": "Никита Блохин",
      "userId": "16402972581398673009"
     },
     "user_tz": -180
    },
    "id": "gafg1x0zPVMe",
    "outputId": "0148ddcb-7f1d-4266-8fb4-4ac63cb2fbc1"
   },
   "outputs": [],
   "source": [
    "# !pip install \"gymnasium[box2d]\""
   ]
  },
  {
   "cell_type": "code",
   "execution_count": 16,
   "id": "4KiAOBX_NMnB",
   "metadata": {
    "executionInfo": {
     "elapsed": 231,
     "status": "ok",
     "timestamp": 1733475822040,
     "user": {
      "displayName": "Никита Блохин",
      "userId": "16402972581398673009"
     },
     "user_tz": -180
    },
    "id": "4KiAOBX_NMnB"
   },
   "outputs": [],
   "source": [
    "import gymnasium as gym"
   ]
  },
  {
   "cell_type": "code",
   "execution_count": 71,
   "id": "lng6B-85NfYM",
   "metadata": {
    "executionInfo": {
     "elapsed": 2535,
     "status": "ok",
     "timestamp": 1733476809086,
     "user": {
      "displayName": "Никита Блохин",
      "userId": "16402972581398673009"
     },
     "user_tz": -180
    },
    "id": "lng6B-85NfYM"
   },
   "outputs": [],
   "source": [
    "env = gym.make(\"LunarLander-v3\", render_mode=\"human\")\n",
    "\n",
    "def make_action(obs, env):\n",
    "  # тут вы должны исопльзовать состояние\n",
    "  return env.action_space.sample()\n",
    "\n",
    "# ---\n",
    "obs, _ = env.reset()\n",
    "is_done = False\n",
    "rewards = []\n",
    "while not is_done:\n",
    "  action = make_action(obs, env)\n",
    "  obs, reward, terminated, truncated, info = env.step(action)\n",
    "\n",
    "  is_done = terminated or truncated\n",
    "  rewards.append(reward)\n",
    "# --\n",
    "\n",
    "env.close()"
   ]
  },
  {
   "cell_type": "code",
   "execution_count": 72,
   "id": "Cgm92cGMPNCA",
   "metadata": {
    "colab": {
     "base_uri": "https://localhost:8080/"
    },
    "executionInfo": {
     "elapsed": 234,
     "status": "ok",
     "timestamp": 1733476816398,
     "user": {
      "displayName": "Никита Блохин",
      "userId": "16402972581398673009"
     },
     "user_tz": -180
    },
    "id": "Cgm92cGMPNCA",
    "outputId": "c33ff6e0-6d51-4832-a61a-410e33a591e6"
   },
   "outputs": [
    {
     "data": {
      "text/plain": [
       "-107.65420441902552"
      ]
     },
     "execution_count": 72,
     "metadata": {},
     "output_type": "execute_result"
    }
   ],
   "source": [
    "sum(rewards)"
   ]
  },
  {
   "cell_type": "markdown",
   "id": "4d7b6d63",
   "metadata": {
    "id": "4d7b6d63"
   },
   "source": [
    "## Задачи для самостоятельного решения"
   ]
  },
  {
   "cell_type": "code",
   "execution_count": 54,
   "id": "91721846",
   "metadata": {},
   "outputs": [],
   "source": [
    "import gymnasium as gym\n",
    "from gymnasium import spaces\n",
    "from gymnasium.wrappers import RecordVideo\n",
    "import os\n",
    "import numpy as np\n",
    "import random"
   ]
  },
  {
   "cell_type": "markdown",
   "id": "7f49190d",
   "metadata": {
    "id": "7f49190d"
   },
   "source": [
    "<p class=\"task\" id=\"1\"></p>\n",
    "\n",
    "1\\. Создайте окружение `Blackjack-v1`. Сыграйте `N=10000` игр, выбирая действие случайным образом. Посчитайте и выведите на экран долю выигранных игр.\n",
    "\n",
    "- [ ] Проверено на семинаре"
   ]
  },
  {
   "cell_type": "code",
   "execution_count": 20,
   "id": "0950d20a",
   "metadata": {},
   "outputs": [
    {
     "data": {
      "text/plain": [
       "0.2849"
      ]
     },
     "execution_count": 20,
     "metadata": {},
     "output_type": "execute_result"
    }
   ],
   "source": [
    "env = gym.make(\"Blackjack-v1\")\n",
    "\n",
    "def make_action(obs, env):\n",
    "    return env.action_space.sample()\n",
    "\n",
    "N = 10000\n",
    "wins = 0\n",
    "\n",
    "def is_win(reward):\n",
    "    return reward > 0\n",
    "\n",
    "for _ in range(N):\n",
    "    obs = env.reset()\n",
    "    is_done = False\n",
    "    while not is_done:\n",
    "        action = make_action(obs, env)\n",
    "        obs, reward, terminated, truncated, info = env.step(action)\n",
    "\n",
    "        is_done = terminated or truncated\n",
    "\n",
    "    if is_win(reward):\n",
    "        wins += 1\n",
    "\n",
    "env.close()\n",
    "\n",
    "win_ratio = wins / N\n",
    "win_ratio"
   ]
  },
  {
   "cell_type": "markdown",
   "id": "3e2956c0",
   "metadata": {
    "id": "3e2956c0"
   },
   "source": [
    "<p class=\"task\" id=\"2\"></p>\n",
    "\n",
    "2\\. Создайте окружение `Blackjack-v1`. Предложите стратегию, которая позволит, в среднем, выигрывать чаще, чем случайный выбор действия. Реализуйте эту стратегию и сыграйте `N=10000` игр, выбирая действие согласно этой стратегии. Посчитайте и выведите на экран долю выигранных игр.\n",
    "\n",
    "- [ ] Проверено на семинаре"
   ]
  },
  {
   "cell_type": "code",
   "execution_count": 21,
   "id": "2f178dc0",
   "metadata": {},
   "outputs": [
    {
     "data": {
      "text/plain": [
       "0.4079"
      ]
     },
     "execution_count": 21,
     "metadata": {},
     "output_type": "execute_result"
    }
   ],
   "source": [
    "env = gym.make(\"Blackjack-v1\")\n",
    "\n",
    "def make_action(obs, env):\n",
    "    return 0 if obs[0] >= 12 else 1\n",
    "\n",
    "N = 10000\n",
    "wins = 0\n",
    "\n",
    "def is_win(reward):\n",
    "    return reward > 0\n",
    "\n",
    "for _ in range(N):\n",
    "    obs = env.reset()[0]\n",
    "    is_done = False\n",
    "    while not is_done:\n",
    "        action = make_action(obs, env)\n",
    "        obs, reward, terminated, truncated, info = env.step(action)\n",
    "\n",
    "        is_done = terminated or truncated\n",
    "\n",
    "    if is_win(reward):\n",
    "        wins += 1\n",
    "\n",
    "env.close()\n",
    "\n",
    "win_ratio = wins / N\n",
    "win_ratio"
   ]
  },
  {
   "cell_type": "markdown",
   "id": "f2698c28",
   "metadata": {
    "id": "f2698c28"
   },
   "source": [
    "<p class=\"task\" id=\"3\"></p>\n",
    "\n",
    "3\\. Создайте окружение для игры в крестики-нолики, реализовав интерфейс `gym.Env`. Решение должно удовлетворять следующим условиям:\n",
    "* для создания пространства состояний используется `spaces.Box`;\n",
    "* для создания пространства действий используется `spaces.MultiDiscrete`;\n",
    "* игра прекращается, если:\n",
    "    - нет возможности сделать ход;\n",
    "    - игрок пытается отметить уже выбранную ячейку.\n",
    "* после каждого хода игрок получает награду:\n",
    "    - 0, если игра не закончена;\n",
    "    - 1, если игрок выиграл;\n",
    "    - -1, если игрок проиграл.\n",
    "* стратегию выбора действия для второго игрока (машины) определите самостоятельно.\n",
    "\n",
    "Стратегия поведения машины является частью окружения и должна быть реализована внутри него. Сделайте все соответствующие переменные и методы приватными (названия всех переменных начинаются с `__`), подчеркнув, что у пользователя не должно быть к ним доступа извне.\n",
    "\n",
    "Сыграйте одну игру, выбирая действия случайным образом. Выведите на экран состояние окружения после каждого хода и итоговую награду пользователя за сессию.\n",
    "\n",
    "- [ ] Проверено на семинаре"
   ]
  },
  {
   "cell_type": "code",
   "execution_count": 47,
   "id": "a052a012",
   "metadata": {},
   "outputs": [
    {
     "name": "stdout",
     "output_type": "stream",
     "text": [
      ". . .\n",
      ". . .\n",
      ". . .\n",
      "\n",
      ". . .\n",
      ". . .\n",
      "X . O\n",
      "\n",
      ". . .\n",
      ". . .\n",
      "X . O\n",
      "\n",
      "Итоговая награда: -1\n"
     ]
    }
   ],
   "source": [
    "class TicTacToeEnv(gym.Env):\n",
    "    def __init__(self):\n",
    "        super(TicTacToeEnv, self).__init__()\n",
    "        self.__state_shape = (3, 3)\n",
    "        self.observation_space = spaces.Box(low=-1, high=1, shape=self.__state_shape, dtype=np.int8)\n",
    "        \n",
    "        self.action_space = spaces.MultiDiscrete([3, 3])\n",
    "\n",
    "        self.__state = None\n",
    "        self.__done = False\n",
    "        self.__current_player = 1  \n",
    "\n",
    "    def reset(self):\n",
    "        self.__state = np.zeros(self.__state_shape, dtype=np.int8)\n",
    "        self.__done = False\n",
    "        self.__current_player = 1 \n",
    "        return self.__state\n",
    "\n",
    "    def step(self, action):\n",
    "        if self.__done:\n",
    "            raise ValueError(\"Игра уже завершена.\")\n",
    "\n",
    "        row, col = action\n",
    "        if self.__state[row, col] != 0:  \n",
    "            self.__done = True\n",
    "            return self.__state, -1, self.__done, {}\n",
    "\n",
    "        self.__state[row, col] = self.__current_player\n",
    "\n",
    "        if self.__check_winner(self.__current_player):\n",
    "            self.__done = True\n",
    "            return self.__state, 1 if self.__current_player == 1 else -1, self.__done, {}\n",
    "\n",
    "        if not self.__is_move_possible():\n",
    "            self.__done = True\n",
    "            return self.__state, 0, self.__done, {}\n",
    "\n",
    "        self.__current_player *= -1\n",
    "\n",
    "        if self.__current_player == -1:\n",
    "            self.__machine_move()\n",
    "\n",
    "            if self.__check_winner(self.__current_player):\n",
    "                self.__done = True\n",
    "                return self.__state, -1, self.__done, {}\n",
    "\n",
    "            if not self.__is_move_possible():\n",
    "                self.__done = True\n",
    "                return self.__state, 0, self.__done, {}\n",
    "\n",
    "            self.__current_player *= -1\n",
    "\n",
    "        return self.__state, 0, self.__done, {}\n",
    "\n",
    "    def render(self, mode='human'):\n",
    "        symbols = {0: \".\", 1: \"X\", -1: \"O\"}\n",
    "        for row in self.__state:\n",
    "            print(\" \".join(symbols[cell] for cell in row))\n",
    "        print()\n",
    "\n",
    "    def __check_winner(self, player):\n",
    "        return (\n",
    "            any(np.all(self.__state[row, :] == player) for row in range(3)) or\n",
    "            any(np.all(self.__state[:, col] == player) for col in range(3)) or\n",
    "            np.all(np.diag(self.__state) == player) or\n",
    "            np.all(np.diag(np.fliplr(self.__state)) == player)\n",
    "        )\n",
    "\n",
    "    def __is_move_possible(self):\n",
    "        return np.any(self.__state == 0)\n",
    "\n",
    "    def __machine_move(self):\n",
    "        empty_cells = np.argwhere(self.__state == 0)\n",
    "        if empty_cells.size > 0:\n",
    "            row, col = random.choice(empty_cells)\n",
    "            self.__state[row, col] = self.__current_player\n",
    "\n",
    "env = TicTacToeEnv()\n",
    "obs = env.reset()\n",
    "\n",
    "done = False\n",
    "while not done:\n",
    "    env.render()\n",
    "    action = env.action_space.sample() \n",
    "    obs, reward, done, _ = env.step(action)\n",
    "\n",
    "env.render()\n",
    "print(f\"Итоговая награда: {reward}\")"
   ]
  },
  {
   "cell_type": "code",
   "execution_count": 48,
   "id": "97f58f39",
   "metadata": {},
   "outputs": [
    {
     "data": {
      "text/plain": [
       "0.083"
      ]
     },
     "execution_count": 48,
     "metadata": {},
     "output_type": "execute_result"
    }
   ],
   "source": [
    "N = 10000\n",
    "wins = 0\n",
    "\n",
    "env = TicTacToeEnv()\n",
    "for _ in range(N):\n",
    "    obs = env.reset()\n",
    "\n",
    "    done = False\n",
    "    while not done:\n",
    "        action = env.action_space.sample() \n",
    "        obs, reward, done, _ = env.step(action)\n",
    "    if reward > 0:\n",
    "        wins += 1\n",
    "\n",
    "win_ratio = wins / N\n",
    "win_ratio"
   ]
  },
  {
   "cell_type": "markdown",
   "id": "cdcd8fa6",
   "metadata": {
    "id": "cdcd8fa6"
   },
   "source": [
    "<p class=\"task\" id=\"4\"></p>\n",
    "\n",
    "4\\. Предложите стратегию (в виде алгоритма без использования методов машинного обучения), которая позволит, в среднем, выигрывать в крестики-нолики чаще, чем случайный выбор действия. Реализуйте эту стратегию и сыграйте игру, выбирая действия согласно этой стратегии. Выведите на экран состояние окружения после каждого хода и итоговую награду пользователя за сессию.\n",
    "\n",
    "- [ ] Проверено на семинаре"
   ]
  },
  {
   "cell_type": "code",
   "execution_count": 52,
   "id": "76c263f5",
   "metadata": {},
   "outputs": [],
   "source": [
    "def get_available_actions(state):\n",
    "    return list(zip(*np.where(state == 0)))\n",
    "\n",
    "def check_winner(state, player):\n",
    "    for i in range(3):\n",
    "        if np.all(state[i, :] == player):\n",
    "            return True\n",
    "        if np.all(state[:, i] == player):\n",
    "            return True\n",
    "    if np.all(np.diag(state) == player):\n",
    "        return True\n",
    "    if np.all(np.diag(np.fliplr(state)) == player):\n",
    "        return True\n",
    "    return False\n",
    "\n",
    "def choose_action(state, player=1):\n",
    "    for action in get_available_actions(state):\n",
    "        row, col = action\n",
    "        temp_state = state.copy()\n",
    "        temp_state[row, col] = player\n",
    "        if check_winner(temp_state, player):\n",
    "            return action\n",
    "\n",
    "    opponent = -player\n",
    "    for action in get_available_actions(state):\n",
    "        row, col = action\n",
    "        temp_state = state.copy()\n",
    "        temp_state[row, col] = opponent\n",
    "        if check_winner(temp_state, opponent):\n",
    "            return action\n",
    "\n",
    "    if state[1, 1] == 0:\n",
    "        return (1, 1)\n",
    "\n",
    "    corners = [(0,0), (0,2), (2,0), (2,2)]\n",
    "    available_corners = [corner for corner in corners if state[corner] == 0]\n",
    "    if available_corners:\n",
    "        return random.choice(available_corners)\n",
    "\n",
    "    sides = [(0,1), (1,0), (1,2), (2,1)]\n",
    "    available_sides = [side for side in sides if state[side] == 0]\n",
    "    if available_sides:\n",
    "        return random.choice(available_sides)\n",
    "\n",
    "    return None"
   ]
  },
  {
   "cell_type": "code",
   "execution_count": 53,
   "id": "8f8dcd7f",
   "metadata": {},
   "outputs": [
    {
     "data": {
      "text/plain": [
       "0.9587"
      ]
     },
     "execution_count": 53,
     "metadata": {},
     "output_type": "execute_result"
    }
   ],
   "source": [
    "N = 10000\n",
    "wins = 0\n",
    "env = TicTacToeEnv()\n",
    "\n",
    "for _ in range(N):\n",
    "    obs = env.reset()\n",
    "    done = False\n",
    "    while not done:\n",
    "        action = choose_action(obs, player=1)\n",
    "        if action is None:\n",
    "            _, reward, done, _ = env.step((-1, -1)) \n",
    "            break\n",
    "\n",
    "        obs, reward, done, _ = env.step(action)\n",
    "\n",
    "        if done:\n",
    "            if reward > 0:\n",
    "                wins += 1\n",
    "            break\n",
    "\n",
    "win_ratio = wins / N\n",
    "win_ratio"
   ]
  },
  {
   "cell_type": "markdown",
   "id": "0992c961",
   "metadata": {
    "id": "0992c961"
   },
   "source": [
    "<p class=\"task\" id=\"5\"></p>\n",
    "\n",
    "5\\. Создайте окружение `MountainCar-v0`. Проиграйте 10 эпизодов и сохраните на диск файл с записью каждого пятого эпизода. Для записи видео воспользуйтесь обёрткой `RecordVideo`. Вставьте скриншот, на котором видно, что файлы были созданы.\n",
    "\n",
    "- [ ] Проверено на семинаре"
   ]
  },
  {
   "cell_type": "code",
   "execution_count": 70,
   "id": "dfa23d45",
   "metadata": {},
   "outputs": [],
   "source": [
    "env = gym.make('MountainCar-v0', render_mode='rgb_array')\n",
    "env = RecordVideo(env, video_folder='mountaincar_videos', episode_trigger=lambda x: x % 5 == 0)\n",
    "for episode in range(1, 11):\n",
    "    obs, _ = env.reset()\n",
    "    done = False\n",
    "    while not done:\n",
    "        action = env.action_space.sample()\n",
    "        obs, reward, done, truncated, info = env.step(action)\n",
    "        done = done or truncated\n",
    "env.close()"
   ]
  },
  {
   "attachments": {
    "image.png": {
     "image/png": "[encoded data removed]"
    }
   },
   "cell_type": "markdown",
   "id": "f6d8a06c",
   "metadata": {},
   "source": [
    "![image.png](attachment:image.png)"
   ]
  },
  {
   "cell_type": "code",
   "execution_count": null,
   "id": "da12dd7d",
   "metadata": {},
   "outputs": [],
   "source": []
  }
 ],
 "metadata": {
  "colab": {
   "provenance": []
  },
  "kernelspec": {
   "display_name": "base",
   "language": "python",
   "name": "python3"
  },
  "language_info": {
   "codemirror_mode": {
    "name": "ipython",
    "version": 3
   },
   "file_extension": ".py",
   "mimetype": "text/x-python",
   "name": "python",
   "nbconvert_exporter": "python",
   "pygments_lexer": "ipython3",
   "version": "3.11.5"
  }
 },
 "nbformat": 4,
 "nbformat_minor": 5
}
