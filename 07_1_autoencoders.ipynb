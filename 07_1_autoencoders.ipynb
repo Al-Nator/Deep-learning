{
 "cells": [
  {
   "cell_type": "markdown",
   "id": "3a564d5f",
   "metadata": {
    "id": "3a564d5f"
   },
   "source": [
    "#  Автоэнкодеры\n",
    "\n",
    "__Автор задач: Блохин Н.В. (NVBlokhin@fa.ru)__\n",
    "\n",
    "Материалы:\n",
    "* https://www.eecs.qmul.ac.uk/~sgg/_ECS795P_/papers/WK07-8_PyTorch_Tutorial2.html\n",
    "* https://www.youtube.com/watch?v=zp8clK9yCro\n",
    "* https://medium.com/@rekalantar/variational-auto-encoder-vae-pytorch-tutorial-dce2d2fe0f5f\n",
    "* https://towardsdatascience.com/conditional-variational-autoencoders-with-learnable-conditional-embeddings-e22ee5359a2a\n",
    "* https://pytorch.org/vision/stable/auto_examples/others/plot_visualization_utils.html#sphx-glr-auto-examples-others-plot-visualization-utils-py"
   ]
  },
  {
   "cell_type": "markdown",
   "id": "c9ecd663",
   "metadata": {
    "id": "c9ecd663"
   },
   "source": [
    "## Задачи для совместного разбора"
   ]
  },
  {
   "cell_type": "markdown",
   "id": "f72ddd13",
   "metadata": {
    "id": "f72ddd13"
   },
   "source": [
    "1\\. Обсудите основные шаги в обучении автокодировщиков."
   ]
  },
  {
   "cell_type": "markdown",
   "id": "4d7b6d63",
   "metadata": {
    "id": "4d7b6d63"
   },
   "source": [
    "## Задачи для самостоятельного решения"
   ]
  },
  {
   "cell_type": "markdown",
   "id": "d76e1d5e-14bc-4c52-9402-e13e02cbb731",
   "metadata": {
    "id": "d76e1d5e-14bc-4c52-9402-e13e02cbb731"
   },
   "source": [
    "<p class=\"task\" id=\"1\"></p>\n",
    "\n",
    "1\\. Загрузите набор данных MNIST из пакета `torchvision` (данный набор уже разбит на обучающее и тестовое множество).\n",
    "\n",
    "Создайте и обучите модель автокодировщика, используя только полносвязные слои и функции активации.\n",
    "\n",
    "Кодировщик - это функция вида\n",
    "$z = f_\\theta(x)$\n",
    ",где $\\theta$ - это параметры кодировщика.\n",
    "\n",
    "Декодировщик - это функция вида\n",
    "$\\hat{x} = g_\\phi(z)$\n",
    ",где $\\phi$ - это параметры декодировщика.\n",
    "\n",
    "В нашем случае оба компонента представляют собой нейронные сети. Скрытое представление, полученное после части-кодировщика, должно иметь размерность 2. Последним слоем части-декодеровщика сделайте сигмоиду.\n",
    "\n",
    "В качестве функции потерь используйте `MSELoss` между исходным и восстановленным изображением $MSE(x, \\hat{x})$.\n",
    "\n",
    "Обратите внимание, что во время обучения метки классов не используются.\n",
    "\n",
    "\n",
    "- [ ] Проверено на семинаре"
   ]
  },
  {
   "cell_type": "markdown",
   "id": "f2c662a7-a6ac-42e8-a2d7-79b590b51e36",
   "metadata": {
    "id": "f2c662a7-a6ac-42e8-a2d7-79b590b51e36"
   },
   "source": [
    "![](data:image/png;base64,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)"
   ]
  },
  {
   "cell_type": "code",
   "execution_count": 9,
   "id": "3be5e49f",
   "metadata": {},
   "outputs": [],
   "source": [
    "from torchvision import datasets, transforms\n",
    "import torch.nn as nn\n",
    "import torch.optim as optim\n",
    "from torch.utils.data import DataLoader\n",
    "import torch as th\n",
    "from tqdm import tqdm\n",
    "import torch.nn.functional as F\n",
    "import matplotlib.pyplot as plt\n",
    "import numpy as np"
   ]
  },
  {
   "cell_type": "code",
   "execution_count": 2,
   "id": "0aaa0fb4",
   "metadata": {},
   "outputs": [
    {
     "data": {
      "text/plain": [
       "(Dataset MNIST\n",
       "     Number of datapoints: 60000\n",
       "     Root location: ./data/mnist\n",
       "     Split: Train\n",
       "     StandardTransform\n",
       " Transform: Compose(\n",
       "                ToTensor()\n",
       "            ),\n",
       " Dataset MNIST\n",
       "     Number of datapoints: 10000\n",
       "     Root location: ./data/mnist\n",
       "     Split: Test\n",
       "     StandardTransform\n",
       " Transform: Compose(\n",
       "                ToTensor()\n",
       "            ))"
      ]
     },
     "execution_count": 2,
     "metadata": {},
     "output_type": "execute_result"
    }
   ],
   "source": [
    "transform = transforms.Compose([\n",
    "    transforms.ToTensor(),\n",
    "])\n",
    "\n",
    "mnist_train = datasets.MNIST(root='./data/mnist', train=True, download=True, transform=transform)\n",
    "mnist_test = datasets.MNIST(root='./data/mnist', train=False, download=True, transform=transform)\n",
    "mnist_train, mnist_test"
   ]
  },
  {
   "cell_type": "code",
   "execution_count": 3,
   "id": "93ebba7e",
   "metadata": {},
   "outputs": [],
   "source": [
    "class Autoencoder(nn.Module):\n",
    "    def __init__(self):\n",
    "        super(Autoencoder, self).__init__()\n",
    "        \n",
    "        self.encoder = nn.Sequential(\n",
    "            nn.Linear(28*28, 14*14),\n",
    "            nn.ReLU(),\n",
    "            nn.Linear(14*14, 7*7),\n",
    "            nn.ReLU(),\n",
    "            nn.Linear(7*7, 2)\n",
    "        )\n",
    "        \n",
    "        self.decoder = nn.Sequential(\n",
    "            nn.Linear(2, 7*7),\n",
    "            nn.ReLU(),\n",
    "            nn.Linear(7*7, 14*14),\n",
    "            nn.ReLU(),\n",
    "            nn.Linear(14*14, 28*28),\n",
    "            nn.Sigmoid()\n",
    "        )\n",
    "    \n",
    "    def forward(self, x):\n",
    "        x = self.encoder(x)\n",
    "        x = self.decoder(x)\n",
    "        return x"
   ]
  },
  {
   "cell_type": "code",
   "execution_count": 5,
   "id": "1e552f25",
   "metadata": {},
   "outputs": [],
   "source": [
    "model = Autoencoder().cuda()\n",
    "optimizer = optimizer = optim.AdamW(model.parameters(), lr=2e-3)\n",
    "criterion = nn.MSELoss()\n",
    "\n",
    "train_loader = DataLoader(mnist_train, batch_size=8, shuffle=True)\n",
    "test_loader = DataLoader(mnist_test, batch_size=8, shuffle=True)"
   ]
  },
  {
   "cell_type": "code",
   "execution_count": null,
   "id": "fa795525",
   "metadata": {},
   "outputs": [
    {
     "name": "stderr",
     "output_type": "stream",
     "text": [
      "100%|██████████| 7500/7500 [00:12<00:00, 616.17it/s]\n",
      "100%|██████████| 1250/1250 [00:00<00:00, 1307.53it/s]\n"
     ]
    },
    {
     "name": "stdout",
     "output_type": "stream",
     "text": [
      "Epoch [1/10], Train Loss: 0.0458 Test Loss: 0.0422\n"
     ]
    },
    {
     "name": "stderr",
     "output_type": "stream",
     "text": [
      "100%|██████████| 7500/7500 [00:14<00:00, 529.21it/s]\n",
      "100%|██████████| 1250/1250 [00:00<00:00, 1351.35it/s]\n"
     ]
    },
    {
     "name": "stdout",
     "output_type": "stream",
     "text": [
      "Epoch [2/10], Train Loss: 0.0407 Test Loss: 0.0402\n"
     ]
    },
    {
     "name": "stderr",
     "output_type": "stream",
     "text": [
      "100%|██████████| 7500/7500 [00:14<00:00, 520.65it/s]\n",
      "100%|██████████| 1250/1250 [00:00<00:00, 1372.12it/s]\n"
     ]
    },
    {
     "name": "stdout",
     "output_type": "stream",
     "text": [
      "Epoch [3/10], Train Loss: 0.0396 Test Loss: 0.0392\n"
     ]
    },
    {
     "name": "stderr",
     "output_type": "stream",
     "text": [
      "100%|██████████| 7500/7500 [00:14<00:00, 502.99it/s]\n",
      "100%|██████████| 1250/1250 [00:00<00:00, 1344.09it/s]\n"
     ]
    },
    {
     "name": "stdout",
     "output_type": "stream",
     "text": [
      "Epoch [4/10], Train Loss: 0.0389 Test Loss: 0.0387\n"
     ]
    },
    {
     "name": "stderr",
     "output_type": "stream",
     "text": [
      "100%|██████████| 7500/7500 [00:13<00:00, 541.65it/s]\n",
      "100%|██████████| 1250/1250 [00:00<00:00, 1352.81it/s]\n"
     ]
    },
    {
     "name": "stdout",
     "output_type": "stream",
     "text": [
      "Epoch [5/10], Train Loss: 0.0387 Test Loss: 0.0386\n"
     ]
    },
    {
     "name": "stderr",
     "output_type": "stream",
     "text": [
      "100%|██████████| 7500/7500 [00:14<00:00, 520.40it/s]\n",
      "100%|██████████| 1250/1250 [00:00<00:00, 1395.09it/s]\n"
     ]
    },
    {
     "name": "stdout",
     "output_type": "stream",
     "text": [
      "Epoch [6/10], Train Loss: 0.0384 Test Loss: 0.0385\n"
     ]
    },
    {
     "name": "stderr",
     "output_type": "stream",
     "text": [
      "100%|██████████| 7500/7500 [00:14<00:00, 504.37it/s]\n",
      "100%|██████████| 1250/1250 [00:00<00:00, 1319.96it/s]\n"
     ]
    },
    {
     "name": "stdout",
     "output_type": "stream",
     "text": [
      "Epoch [7/10], Train Loss: 0.0386 Test Loss: 0.0389\n"
     ]
    },
    {
     "name": "stderr",
     "output_type": "stream",
     "text": [
      "100%|██████████| 7500/7500 [00:13<00:00, 540.26it/s]\n",
      "100%|██████████| 1250/1250 [00:00<00:00, 1378.17it/s]\n"
     ]
    },
    {
     "name": "stdout",
     "output_type": "stream",
     "text": [
      "Epoch [8/10], Train Loss: 0.0384 Test Loss: 0.0386\n"
     ]
    },
    {
     "name": "stderr",
     "output_type": "stream",
     "text": [
      "100%|██████████| 7500/7500 [00:14<00:00, 524.84it/s]\n",
      "100%|██████████| 1250/1250 [00:00<00:00, 1366.12it/s]\n"
     ]
    },
    {
     "name": "stdout",
     "output_type": "stream",
     "text": [
      "Epoch [9/10], Train Loss: 0.0381 Test Loss: 0.0379\n"
     ]
    },
    {
     "name": "stderr",
     "output_type": "stream",
     "text": [
      "100%|██████████| 7500/7500 [00:14<00:00, 503.63it/s]\n",
      "100%|██████████| 1250/1250 [00:00<00:00, 1310.27it/s]"
     ]
    },
    {
     "name": "stdout",
     "output_type": "stream",
     "text": [
      "Epoch [10/10], Train Loss: 0.0380 Test Loss: 0.0381\n"
     ]
    },
    {
     "name": "stderr",
     "output_type": "stream",
     "text": [
      "\n"
     ]
    }
   ],
   "source": [
    "for epoch in range(10):\n",
    "    model.train()\n",
    "    train_loss = 0\n",
    "    for img, _ in tqdm(train_loader):\n",
    "        img = img.flatten(start_dim=1).cuda()\n",
    "    \n",
    "        output = model(img)\n",
    "        loss = criterion(output, img)\n",
    "        \n",
    "        optimizer.zero_grad()\n",
    "        loss.backward()\n",
    "        optimizer.step()\n",
    "        \n",
    "        train_loss += loss.item()\n",
    "        \n",
    "    model.eval()\n",
    "    test_loss = 0.0\n",
    "    with th.no_grad():\n",
    "        for img, _ in tqdm(test_loader):\n",
    "            img = img.flatten(start_dim=1).cuda()\n",
    "\n",
    "            outputs = model(img)\n",
    "            loss = criterion(outputs, img)\n",
    "        \n",
    "            test_loss += loss.item()\n",
    "        \n",
    "    train_loss /= len(train_loader)\n",
    "    test_loss /= len(test_loader)\n",
    "    \n",
    "    print(f\"Epoch [{epoch+1}/10], Train Loss: {train_loss:.4f} Test Loss: {test_loss:.4f}\")"
   ]
  },
  {
   "cell_type": "markdown",
   "id": "abc2f143-8a07-48b2-8bc4-4ef3b5f05426",
   "metadata": {
    "id": "abc2f143-8a07-48b2-8bc4-4ef3b5f05426"
   },
   "source": [
    "<p class=\"task\" id=\"2\"></p>\n",
    "\n",
    "2\\. Получите один батч из тестового множества. Используя модель, обученную в предыдущем задании, получите скрытые представления для всех изображений из этого батча и визуализируйте на плоскости (они должны иметь размерность 2!). Раскрасьте точки в цвета, соответствующие меткам класса изображений (цифрам).\n",
    "\n",
    "Возьмите одно изображение из тестового множества и пропустите его через обученный автокодировщик. Визуализируйте рядом (по горизонтали) два изображения: исходное и после восстановления автокодировщиком.\n",
    "\n",
    "\n",
    "- [ ] Проверено на семинаре"
   ]
  },
  {
   "cell_type": "code",
   "execution_count": null,
   "id": "ba8c1025",
   "metadata": {},
   "outputs": [
    {
     "data": {
      "text/plain": [
       "array([[  0.80502725,   0.5610369 ],\n",
       "       [ -0.20544378,   1.3800577 ],\n",
       "       [  0.30203283,   2.0160959 ],\n",
       "       [-31.87642   ,  -2.7482896 ],\n",
       "       [  2.8064437 ,  -0.84504455],\n",
       "       [ -8.852682  ,   0.47577867],\n",
       "       [ -3.2408226 ,  -4.601922  ],\n",
       "       [  5.52603   ,  -2.1028206 ]], dtype=float32)"
      ]
     },
     "execution_count": 11,
     "metadata": {},
     "output_type": "execute_result"
    }
   ],
   "source": [
    "data_iter = iter(test_loader)\n",
    "images, labels = next(data_iter)\n",
    "\n",
    "images = images.flatten(start_dim=1).cuda() \n",
    "labels = labels.cuda()\n",
    "\n",
    "with th.no_grad(): \n",
    "    encoder = model.encoder \n",
    "    hidden_representations = encoder(images)\n",
    "    \n",
    "hidden_representations = hidden_representations.cpu().numpy()\n",
    "hidden_representations"
   ]
  },
  {
   "cell_type": "code",
   "execution_count": null,
   "id": "f6202d2b",
   "metadata": {},
   "outputs": [
    {
     "data": {
      "image/png": "[encoded data removed]",
      "text/plain": [
       "<Figure size 640x480 with 2 Axes>"
      ]
     },
     "metadata": {},
     "output_type": "display_data"
    }
   ],
   "source": [
    "plt.scatter(hidden_representations[:, 0], hidden_representations[:, 1], c=labels.cpu(), cmap='tab10', s=25)\n",
    "plt.colorbar() \n",
    "plt.show()"
   ]
  },
  {
   "cell_type": "code",
   "execution_count": null,
   "id": "34c7c1f0",
   "metadata": {},
   "outputs": [
    {
     "data": {
      "text/plain": [
       "(28, 28)"
      ]
     },
     "execution_count": 37,
     "metadata": {},
     "output_type": "execute_result"
    }
   ],
   "source": [
    "image = images[5]\n",
    "with th.no_grad(): \n",
    "    reconstructed = model(image)\n",
    "    \n",
    "reconstructed  = reconstructed.cpu().numpy().reshape((28, 28))\n",
    "image = image.cpu().numpy().reshape((28, 28))\n",
    "reconstructed.shape"
   ]
  },
  {
   "cell_type": "code",
   "execution_count": null,
   "id": "9ab5e395",
   "metadata": {},
   "outputs": [
    {
     "data": {
      "image/png": "[encoded data removed]",
      "text/plain": [
       "<Figure size 1000x500 with 2 Axes>"
      ]
     },
     "metadata": {},
     "output_type": "display_data"
    }
   ],
   "source": [
    "fig, axes = plt.subplots(1, 2, figsize=(10, 5))\n",
    "\n",
    "axes[0].imshow(image, cmap='gray')  \n",
    "axes[0].set_title(\"Original Image\")\n",
    "axes[0].axis('off')\n",
    "\n",
    "axes[1].imshow(reconstructed, cmap='gray')  \n",
    "axes[1].set_title(\"Reconstructed Image\")\n",
    "axes[1].axis('off')\n",
    "\n",
    "plt.show()"
   ]
  },
  {
   "cell_type": "markdown",
   "id": "08c28d70-30b8-4272-90fd-d444aa8ebb1e",
   "metadata": {
    "id": "08c28d70-30b8-4272-90fd-d444aa8ebb1e"
   },
   "source": [
    "<p class=\"task\" id=\"3\"></p>\n",
    "\n",
    "3\\. Напишите функцию для генерации изображения на основе случайного шума. Функция должна генерировать случайный шум из стандартного нормального распределения и пропускать его через часть-декодировщик. Сгенерируйте несколько изображений и визуализируйте в виде сетки из картинок.\n",
    "\n",
    "- [ ] Проверено на семинаре"
   ]
  },
  {
   "cell_type": "code",
   "execution_count": null,
   "id": "1d61169d",
   "metadata": {},
   "outputs": [],
   "source": [
    "def make_some_noise():\n",
    "    tensor = th.randn(2).cuda()\n",
    "    with th.no_grad():  \n",
    "        decoder = model.decoder \n",
    "        generated = decoder(tensor)\n",
    "    return generated"
   ]
  },
  {
   "cell_type": "code",
   "execution_count": null,
   "id": "4e031dcc",
   "metadata": {},
   "outputs": [
    {
     "data": {
      "image/png": "[encoded data removed]",
      "text/plain": [
       "<Figure size 1000x1000 with 9 Axes>"
      ]
     },
     "metadata": {},
     "output_type": "display_data"
    }
   ],
   "source": [
    "fig, axes = plt.subplots(3, 3, figsize=(10, 10))\n",
    "axes = axes.flatten()\n",
    "\n",
    "for i in range(9):\n",
    "    image = make_some_noise()\n",
    "    image = image.cpu().numpy().reshape((28, 28))\n",
    "    axes[i].imshow(image, cmap='gray') \n",
    "    axes[i].axis('off') \n",
    "\n",
    "plt.tight_layout()  \n",
    "plt.show()"
   ]
  },
  {
   "cell_type": "markdown",
   "id": "ad60525a-cf4e-4277-82f3-b86145b043ea",
   "metadata": {
    "id": "ad60525a-cf4e-4277-82f3-b86145b043ea"
   },
   "source": [
    "<p class=\"task\" id=\"4\"></p>\n",
    "\n",
    "4\\. Создайте и обучите модель условного автокодировщика, используя только полносвязные слои и функции активации.\n",
    "\n",
    "Отличие от предыдущего варианта заключается в том, что теперь функции кодировщика и декодировщика принимают на вход также метку класса:\n",
    "$$z = f_\\theta(x, c)$$\n",
    "$$\\hat{x} = g_\\phi(z, c)$$\n",
    "\n",
    "Таким образом, теперь во теперь время обучения метки классов используются. Задействуйте их следующим образом: представьте метки классов в виде one-hot кодировки и объедините с пикселями изображения (для этого адаптируйте размерность слоев).\n",
    "\n",
    "Скрытое представление, полученное после части-кодировщика, должно иметь размерность 2. Последним слоем части-декодеровщика сделайте сигмоиду. В качестве функции потерь используйте `MSELoss` между исходным и восстановленным изображением $MSE(x, \\hat{x})$.\n",
    "\n",
    "\n",
    "- [ ] Проверено на семинаре"
   ]
  },
  {
   "cell_type": "markdown",
   "id": "e4eb9815-c11f-461f-9f54-62dd48b1a07e",
   "metadata": {
    "id": "e4eb9815-c11f-461f-9f54-62dd48b1a07e"
   },
   "source": [
    "![](data:image/png;base64,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)"
   ]
  },
  {
   "cell_type": "code",
   "execution_count": null,
   "id": "1042ed32",
   "metadata": {},
   "outputs": [],
   "source": [
    "class Autoencoder(nn.Module):\n",
    "    def __init__(self):\n",
    "        super(Autoencoder, self).__init__()\n",
    "        \n",
    "        self.encoder = nn.Sequential(\n",
    "            nn.Linear(28*28 + 10, 14*14),\n",
    "            nn.ReLU(),\n",
    "            nn.Linear(14*14, 7*7),\n",
    "            nn.ReLU(),\n",
    "            nn.Linear(7*7, 2)\n",
    "        )\n",
    "        \n",
    "        self.decoder = nn.Sequential(\n",
    "            nn.Linear(2 + 10, 7*7),\n",
    "            nn.ReLU(),\n",
    "            nn.Linear(7*7, 14*14),\n",
    "            nn.ReLU(),\n",
    "            nn.Linear(14*14, 28*28),\n",
    "            nn.Sigmoid()\n",
    "        )\n",
    "    \n",
    "    def forward(self, x):\n",
    "        x = self.encoder(x)\n",
    "        x = self.decoder(x)\n",
    "        return x"
   ]
  },
  {
   "cell_type": "code",
   "execution_count": null,
   "id": "f6103568",
   "metadata": {},
   "outputs": [],
   "source": [
    "model = Autoencoder().cuda()\n",
    "optimizer = optimizer = optim.AdamW(model.parameters(), lr=2e-3)\n",
    "criterion = nn.MSELoss()\n",
    "\n",
    "train_loader = DataLoader(mnist_train, batch_size=8, shuffle=True)\n",
    "test_loader = DataLoader(mnist_test, batch_size=8, shuffle=True)"
   ]
  },
  {
   "cell_type": "code",
   "execution_count": null,
   "id": "1f8c68c3",
   "metadata": {},
   "outputs": [
    {
     "name": "stderr",
     "output_type": "stream",
     "text": [
      "100%|██████████| 7500/7500 [00:15<00:00, 499.07it/s]\n",
      "100%|██████████| 1250/1250 [00:01<00:00, 1166.05it/s]\n"
     ]
    },
    {
     "name": "stdout",
     "output_type": "stream",
     "text": [
      "Epoch [1/10], Train Loss: 0.0361 Test Loss: 0.0345\n"
     ]
    },
    {
     "name": "stderr",
     "output_type": "stream",
     "text": [
      "100%|██████████| 7500/7500 [00:15<00:00, 482.07it/s]\n",
      "100%|██████████| 1250/1250 [00:01<00:00, 1204.24it/s]\n"
     ]
    },
    {
     "name": "stdout",
     "output_type": "stream",
     "text": [
      "Epoch [2/10], Train Loss: 0.0342 Test Loss: 0.0339\n"
     ]
    },
    {
     "name": "stderr",
     "output_type": "stream",
     "text": [
      "100%|██████████| 7500/7500 [00:15<00:00, 473.07it/s]\n",
      "100%|██████████| 1250/1250 [00:01<00:00, 1197.32it/s]\n"
     ]
    },
    {
     "name": "stdout",
     "output_type": "stream",
     "text": [
      "Epoch [3/10], Train Loss: 0.0336 Test Loss: 0.0339\n"
     ]
    },
    {
     "name": "stderr",
     "output_type": "stream",
     "text": [
      "100%|██████████| 7500/7500 [00:14<00:00, 507.68it/s]\n",
      "100%|██████████| 1250/1250 [00:01<00:00, 1133.27it/s]\n"
     ]
    },
    {
     "name": "stdout",
     "output_type": "stream",
     "text": [
      "Epoch [4/10], Train Loss: 0.0333 Test Loss: 0.0334\n"
     ]
    },
    {
     "name": "stderr",
     "output_type": "stream",
     "text": [
      "100%|██████████| 7500/7500 [00:15<00:00, 481.85it/s]\n",
      "100%|██████████| 1250/1250 [00:01<00:00, 1218.33it/s]\n"
     ]
    },
    {
     "name": "stdout",
     "output_type": "stream",
     "text": [
      "Epoch [5/10], Train Loss: 0.0331 Test Loss: 0.0331\n"
     ]
    },
    {
     "name": "stderr",
     "output_type": "stream",
     "text": [
      "100%|██████████| 7500/7500 [00:15<00:00, 469.16it/s]\n",
      "100%|██████████| 1250/1250 [00:01<00:00, 1231.52it/s]\n"
     ]
    },
    {
     "name": "stdout",
     "output_type": "stream",
     "text": [
      "Epoch [6/10], Train Loss: 0.0329 Test Loss: 0.0331\n"
     ]
    },
    {
     "name": "stderr",
     "output_type": "stream",
     "text": [
      "100%|██████████| 7500/7500 [00:15<00:00, 497.08it/s]\n",
      "100%|██████████| 1250/1250 [00:01<00:00, 1179.24it/s]\n"
     ]
    },
    {
     "name": "stdout",
     "output_type": "stream",
     "text": [
      "Epoch [7/10], Train Loss: 0.0328 Test Loss: 0.0330\n"
     ]
    },
    {
     "name": "stderr",
     "output_type": "stream",
     "text": [
      "100%|██████████| 7500/7500 [00:15<00:00, 492.00it/s]\n",
      "100%|██████████| 1250/1250 [00:01<00:00, 1168.23it/s]\n"
     ]
    },
    {
     "name": "stdout",
     "output_type": "stream",
     "text": [
      "Epoch [8/10], Train Loss: 0.0327 Test Loss: 0.0332\n"
     ]
    },
    {
     "name": "stderr",
     "output_type": "stream",
     "text": [
      "100%|██████████| 7500/7500 [00:15<00:00, 469.40it/s]\n",
      "100%|██████████| 1250/1250 [00:01<00:00, 1221.90it/s]\n"
     ]
    },
    {
     "name": "stdout",
     "output_type": "stream",
     "text": [
      "Epoch [9/10], Train Loss: 0.0326 Test Loss: 0.0328\n"
     ]
    },
    {
     "name": "stderr",
     "output_type": "stream",
     "text": [
      "100%|██████████| 7500/7500 [00:15<00:00, 485.85it/s]\n",
      "100%|██████████| 1250/1250 [00:01<00:00, 1131.22it/s]"
     ]
    },
    {
     "name": "stdout",
     "output_type": "stream",
     "text": [
      "Epoch [10/10], Train Loss: 0.0326 Test Loss: 0.0328\n"
     ]
    },
    {
     "name": "stderr",
     "output_type": "stream",
     "text": [
      "\n"
     ]
    }
   ],
   "source": [
    "for epoch in range(10):\n",
    "    model.train()\n",
    "    train_loss = 0\n",
    "    for img, labels in tqdm(train_loader):\n",
    "        img = img.flatten(start_dim=1).cuda()\n",
    "        labels = labels.cuda()\n",
    "        one_hot_labels = F.one_hot(labels, num_classes=10).float()\n",
    "        x = th.cat((img.reshape((8, 28*28)), one_hot_labels), dim=1)\n",
    "        \n",
    "        x = model.encoder(x)\n",
    "        x = th.cat((x, one_hot_labels), dim=1)\n",
    "        x = model.decoder(x)\n",
    "        loss = criterion(x, img)\n",
    "        \n",
    "        optimizer.zero_grad()\n",
    "        loss.backward()\n",
    "        optimizer.step()\n",
    "        \n",
    "        train_loss += loss.item()\n",
    "        \n",
    "    model.eval()\n",
    "    test_loss = 0.0\n",
    "    with th.no_grad():\n",
    "        for img, labels in tqdm(test_loader):\n",
    "            img = img.flatten(start_dim=1).cuda()\n",
    "            labels = labels.cuda()\n",
    "            one_hot_labels = F.one_hot(labels, num_classes=10).float()\n",
    "            x = th.cat((img.reshape((8, 28*28)), one_hot_labels), dim=1)\n",
    "            \n",
    "            x = model.encoder(x)\n",
    "            x = th.cat((x, one_hot_labels), dim=1)\n",
    "            x = model.decoder(x)\n",
    "            loss = criterion(x, img)\n",
    "        \n",
    "            test_loss += loss.item()\n",
    "        \n",
    "    train_loss /= len(train_loader)\n",
    "    test_loss /= len(test_loader)\n",
    "    \n",
    "    print(f\"Epoch [{epoch+1}/10], Train Loss: {train_loss:.4f} Test Loss: {test_loss:.4f}\")"
   ]
  },
  {
   "cell_type": "markdown",
   "id": "0bacfb13-2b0e-46c4-990e-5ac2a8594c8f",
   "metadata": {
    "id": "0bacfb13-2b0e-46c4-990e-5ac2a8594c8f"
   },
   "source": [
    "<p class=\"task\" id=\"5\"></p>\n",
    "\n",
    "5\\. Напишите функцию для генерации изображения на основе случайного шума. Функция должна генерировать случайный шум из стандартного нормального распределения и one-hot представление цифры. Далее объединенный вектор пропускается его через часть-декодировщик. Сгенерируйте несколько изображений и визуализируйте в виде сетки из картинок.\n",
    "\n",
    "- [ ] Проверено на семинаре"
   ]
  },
  {
   "cell_type": "code",
   "execution_count": null,
   "id": "05b50ce9",
   "metadata": {},
   "outputs": [
    {
     "data": {
      "text/plain": [
       "tensor([0., 0., 0., 0., 0., 1., 0., 0., 0., 0.], device='cuda:0')"
      ]
     },
     "execution_count": 139,
     "metadata": {},
     "output_type": "execute_result"
    }
   ],
   "source": [
    "labels = th.zeros(10).cuda()\n",
    "labels[5] = 1\n",
    "labels"
   ]
  },
  {
   "cell_type": "code",
   "execution_count": null,
   "id": "ad2ed2e6",
   "metadata": {},
   "outputs": [],
   "source": [
    "def make_some_noise():\n",
    "    tensor = th.randn(2).cuda()\n",
    "    tensor = th.cat((tensor, labels), dim=0)\n",
    "    \n",
    "    with th.no_grad():  \n",
    "        decoder = model.decoder \n",
    "        generated = decoder(tensor)\n",
    "    return generated"
   ]
  },
  {
   "cell_type": "code",
   "execution_count": null,
   "id": "99d40a0b",
   "metadata": {},
   "outputs": [
    {
     "data": {
      "image/png": "[encoded data removed]",
      "text/plain": [
       "<Figure size 1000x1000 with 9 Axes>"
      ]
     },
     "metadata": {},
     "output_type": "display_data"
    }
   ],
   "source": [
    "fig, axes = plt.subplots(3, 3, figsize=(10, 10))\n",
    "axes = axes.flatten()\n",
    "\n",
    "for i in range(9):\n",
    "    image = make_some_noise()\n",
    "    image = image.cpu().numpy().reshape((28, 28))\n",
    "    axes[i].imshow(image, cmap='gray') \n",
    "    axes[i].axis('off') \n",
    "\n",
    "plt.tight_layout()  \n",
    "plt.show()"
   ]
  },
  {
   "cell_type": "markdown",
   "id": "61c983ad-0b83-4966-ba4c-df5250c5d83b",
   "metadata": {
    "id": "61c983ad-0b83-4966-ba4c-df5250c5d83b"
   },
   "source": [
    "<p class=\"task\" id=\"6\"></p>\n",
    "\n",
    "6\\. Создайте и обучите модель вариационного автокодировщика, используя только полносвязные слои и функции активации.\n",
    "\n",
    "Кодировщик - это функция следующего вида:\n",
    "$$q_\\phi(z|x) = \\mathcal{N}(\\mu_\\phi(x), \\sigma_\\phi^2(x))$$\n",
    "\n",
    "Здесь $\\phi$ - параметры кодировщика, а $\\mu_\\phi(x)$ и $\\sigma_\\phi^2(x)$ - это обучаемые функции (в нашем случае - полносвязные слои).\n",
    "\n",
    "Чтобы иметь возможность обучить такую модель, используется т.н. reparametrization trick: на основе функций $\\mu$ и $ \\sigma$ считаем значение:\n",
    "\n",
    "$$z = \\mu_\\phi(x) + \\sigma_\\phi(x) \\odot \\epsilon, \\quad \\epsilon \\sim \\mathcal{N}(0, I)$$\n",
    "\n",
    "Декодировщик пытается восстановить исходное изображение из полученного вектора:\n",
    "\n",
    "$$p_\\theta(x|z) = f(z; \\theta)$$\n",
    "\n",
    "В качестве функции потерь обычно используется следующая:\n",
    "$$\\mathcal{L}_{total} = \\mathcal{L}_{recon} + D_{KL}$$\n",
    "$$\\mathcal{L}_{recon} = -\\sum_{i=1}^D [x_i \\log \\hat{x}_i + (1 - x_i) \\log (1 - \\hat{x}_i)]$$\n",
    "$$D_{KL} = -\\frac{1}{2} \\sum_{j=1}^J (1 + \\log \\sigma_j^2 - \\mu_j^2 - \\sigma_j^2)$$\n",
    "\n",
    "\n",
    "- [ ] Проверено на семинаре"
   ]
  },
  {
   "cell_type": "markdown",
   "id": "7890819e-7c04-477a-892f-f6399141fb61",
   "metadata": {
    "id": "7890819e-7c04-477a-892f-f6399141fb61"
   },
   "source": [
    "![](data:image/png;base64,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)"
   ]
  },
  {
   "cell_type": "code",
   "execution_count": 22,
   "id": "a46ae495",
   "metadata": {},
   "outputs": [],
   "source": [
    "class VAE(nn.Module):\n",
    "    def __init__(self):\n",
    "        super(VAE, self).__init__()\n",
    "        \n",
    "        self.encoder = nn.Sequential(\n",
    "            nn.Linear(28*28, 22*22),\n",
    "            nn.ReLU(),\n",
    "            nn.Linear(22*22, 16*16),\n",
    "            nn.ReLU(),\n",
    "            nn.Linear(16*16, 200)\n",
    "        )\n",
    "\n",
    "        self.mu = nn.Linear(200, 20)\n",
    "        self.logvar = nn.Linear(200, 20)\n",
    "        \n",
    "        self.decoder = nn.Sequential(\n",
    "            nn.Linear(20, 7*7),\n",
    "            nn.ReLU(),\n",
    "            nn.Linear(7*7, 14*14),\n",
    "            nn.ReLU(),\n",
    "            nn.Linear(14*14, 28*28),\n",
    "            nn.Sigmoid()\n",
    "        )\n",
    "    \n",
    "    def forward(self, x):\n",
    "        x = self.encoder(x)\n",
    "        mu = self.mu(x)\n",
    "        logvar = self.logvar(x)\n",
    "        \n",
    "        std = th.exp(0.5 * logvar)\n",
    "        eps = th.randn_like(std)\n",
    "        z = mu + eps * std\n",
    "\n",
    "        recon = self.decoder(z)\n",
    "\n",
    "        return recon, mu, logvar"
   ]
  },
  {
   "cell_type": "code",
   "execution_count": 23,
   "id": "824d5ec1",
   "metadata": {},
   "outputs": [],
   "source": [
    "def loss_function(recon, x, mu, logvar):\n",
    "    recon_loss = th.nn.functional.binary_cross_entropy(recon, x, reduction='mean')\n",
    "    \n",
    "    kl_loss = -0.5 * th.sum(1 + logvar - mu.pow(2) - logvar.exp())\n",
    "    \n",
    "    total_loss = recon_loss + kl_loss\n",
    "    return total_loss"
   ]
  },
  {
   "cell_type": "code",
   "execution_count": 24,
   "id": "17292825",
   "metadata": {},
   "outputs": [],
   "source": [
    "model = VAE().cuda()\n",
    "optimizer = optim.AdamW(model.parameters(), lr=2e-4)\n",
    "\n",
    "train_loader = DataLoader(mnist_train, batch_size=8, shuffle=True)\n",
    "test_loader = DataLoader(mnist_test, batch_size=8, shuffle=True)"
   ]
  },
  {
   "cell_type": "code",
   "execution_count": 15,
   "id": "8837d5a3",
   "metadata": {},
   "outputs": [
    {
     "name": "stderr",
     "output_type": "stream",
     "text": [
      "100%|██████████| 7500/7500 [00:10<00:00, 733.26it/s]\n",
      "100%|██████████| 1250/1250 [00:00<00:00, 1788.26it/s]\n"
     ]
    },
    {
     "name": "stdout",
     "output_type": "stream",
     "text": [
      "Epoch [1/10], Train Loss: 1371.6326 Test Loss: 1148.1283\n"
     ]
    },
    {
     "name": "stderr",
     "output_type": "stream",
     "text": [
      "100%|██████████| 7500/7500 [00:10<00:00, 734.30it/s]\n",
      "100%|██████████| 1250/1250 [00:00<00:00, 1907.70it/s]\n"
     ]
    },
    {
     "name": "stdout",
     "output_type": "stream",
     "text": [
      "Epoch [2/10], Train Loss: 1085.2544 Test Loss: 1020.9696\n"
     ]
    },
    {
     "name": "stderr",
     "output_type": "stream",
     "text": [
      "100%|██████████| 7500/7500 [00:09<00:00, 750.21it/s]\n",
      "100%|██████████| 1250/1250 [00:00<00:00, 1780.39it/s]\n"
     ]
    },
    {
     "name": "stdout",
     "output_type": "stream",
     "text": [
      "Epoch [3/10], Train Loss: 997.9833 Test Loss: 960.1594\n"
     ]
    },
    {
     "name": "stderr",
     "output_type": "stream",
     "text": [
      "100%|██████████| 7500/7500 [00:10<00:00, 748.91it/s]\n",
      "100%|██████████| 1250/1250 [00:00<00:00, 1697.59it/s]\n"
     ]
    },
    {
     "name": "stdout",
     "output_type": "stream",
     "text": [
      "Epoch [4/10], Train Loss: 955.6535 Test Loss: 934.9564\n"
     ]
    },
    {
     "name": "stderr",
     "output_type": "stream",
     "text": [
      "100%|██████████| 7500/7500 [00:10<00:00, 748.30it/s]\n",
      "100%|██████████| 1250/1250 [00:00<00:00, 1760.25it/s]\n"
     ]
    },
    {
     "name": "stdout",
     "output_type": "stream",
     "text": [
      "Epoch [5/10], Train Loss: 930.6274 Test Loss: 912.6549\n"
     ]
    },
    {
     "name": "stderr",
     "output_type": "stream",
     "text": [
      "100%|██████████| 7500/7500 [00:10<00:00, 733.64it/s]\n",
      "100%|██████████| 1250/1250 [00:00<00:00, 1769.45it/s]\n"
     ]
    },
    {
     "name": "stdout",
     "output_type": "stream",
     "text": [
      "Epoch [6/10], Train Loss: 914.2320 Test Loss: 899.5244\n"
     ]
    },
    {
     "name": "stderr",
     "output_type": "stream",
     "text": [
      "100%|██████████| 7500/7500 [00:09<00:00, 750.90it/s]\n",
      "100%|██████████| 1250/1250 [00:00<00:00, 1802.50it/s]\n"
     ]
    },
    {
     "name": "stdout",
     "output_type": "stream",
     "text": [
      "Epoch [7/10], Train Loss: 902.0214 Test Loss: 891.2129\n"
     ]
    },
    {
     "name": "stderr",
     "output_type": "stream",
     "text": [
      "100%|██████████| 7500/7500 [00:10<00:00, 739.26it/s]\n",
      "100%|██████████| 1250/1250 [00:00<00:00, 1728.96it/s]\n"
     ]
    },
    {
     "name": "stdout",
     "output_type": "stream",
     "text": [
      "Epoch [8/10], Train Loss: 892.8005 Test Loss: 883.5440\n"
     ]
    },
    {
     "name": "stderr",
     "output_type": "stream",
     "text": [
      "100%|██████████| 7500/7500 [00:10<00:00, 739.31it/s]\n",
      "100%|██████████| 1250/1250 [00:00<00:00, 1717.71it/s]\n"
     ]
    },
    {
     "name": "stdout",
     "output_type": "stream",
     "text": [
      "Epoch [9/10], Train Loss: 884.9996 Test Loss: 877.4284\n"
     ]
    },
    {
     "name": "stderr",
     "output_type": "stream",
     "text": [
      "100%|██████████| 7500/7500 [00:10<00:00, 733.83it/s]\n",
      "100%|██████████| 1250/1250 [00:00<00:00, 1715.58it/s]"
     ]
    },
    {
     "name": "stdout",
     "output_type": "stream",
     "text": [
      "Epoch [10/10], Train Loss: 878.5562 Test Loss: 870.2146\n"
     ]
    },
    {
     "name": "stderr",
     "output_type": "stream",
     "text": [
      "\n"
     ]
    }
   ],
   "source": [
    "for epoch in range(10):\n",
    "    model.train()\n",
    "    train_loss = 0\n",
    "    for img, _ in tqdm(train_loader):\n",
    "        img = img.flatten(start_dim=1).cuda()\n",
    "    \n",
    "        recon, mu, sigma = model(img)\n",
    "        loss = loss_function(recon, img, mu, sigma)\n",
    "        \n",
    "        optimizer.zero_grad()\n",
    "        loss.backward()\n",
    "        optimizer.step()\n",
    "        \n",
    "        train_loss += loss.item()\n",
    "        \n",
    "    model.eval()\n",
    "    test_loss = 0.0\n",
    "    with th.no_grad():\n",
    "        for img, _ in tqdm(test_loader):\n",
    "            img = img.flatten(start_dim=1).cuda()\n",
    "\n",
    "            recon, mu, sigma = model(img)\n",
    "            loss = loss_function(recon, img, mu, sigma)\n",
    "        \n",
    "            test_loss += loss.item()\n",
    "        \n",
    "    train_loss /= len(train_loader)\n",
    "    test_loss /= len(test_loader)\n",
    "    \n",
    "    print(f\"Epoch [{epoch+1}/10], Train Loss: {train_loss:.4f} Test Loss: {test_loss:.4f}\")"
   ]
  },
  {
   "cell_type": "markdown",
   "id": "3622330b-4196-458a-b0f9-c05473d86f00",
   "metadata": {
    "id": "3622330b-4196-458a-b0f9-c05473d86f00"
   },
   "source": [
    "<p class=\"task\" id=\"7\"></p>\n",
    "\n",
    "7\\. Напишите функцию для генерации изображения на основе случайного шума. Функция должна генерировать случайный шум из стандартного нормального распределения. Далее вектор пропускается его через часть-декодировщик. Сгенерируйте несколько изображений и визуализируйте в виде сетки из картинок.\n",
    "\n",
    "- [ ] Проверено на семинаре"
   ]
  },
  {
   "cell_type": "code",
   "execution_count": 26,
   "id": "1ad5c134",
   "metadata": {},
   "outputs": [],
   "source": [
    "def make_some_noise():\n",
    "    tensor= th.randn(20).cuda()\n",
    "    with th.no_grad():  \n",
    "        generated = model.decoder(tensor)\n",
    "    return generated"
   ]
  },
  {
   "cell_type": "code",
   "execution_count": 21,
   "id": "fd077f7c",
   "metadata": {},
   "outputs": [
    {
     "data": {
      "image/png": "[encoded data removed]",
      "text/plain": [
       "<Figure size 1000x1000 with 9 Axes>"
      ]
     },
     "metadata": {},
     "output_type": "display_data"
    }
   ],
   "source": [
    "fig, axes = plt.subplots(3, 3, figsize=(10, 10))\n",
    "axes = axes.flatten()\n",
    "\n",
    "for i in range(9):\n",
    "    image = make_some_noise()\n",
    "    image = image.cpu().numpy().reshape((28, 28))\n",
    "    axes[i].imshow(image, cmap='gray') \n",
    "    axes[i].axis('off') \n",
    "\n",
    "plt.tight_layout()  \n",
    "plt.show()"
   ]
  },
  {
   "cell_type": "code",
   "execution_count": null,
   "id": "590da4c4",
   "metadata": {},
   "outputs": [],
   "source": []
  }
 ],
 "metadata": {
  "colab": {
   "provenance": []
  },
  "kernelspec": {
   "display_name": "base",
   "language": "python",
   "name": "python3"
  },
  "language_info": {
   "codemirror_mode": {
    "name": "ipython",
    "version": 3
   },
   "file_extension": ".py",
   "mimetype": "text/x-python",
   "name": "python",
   "nbconvert_exporter": "python",
   "pygments_lexer": "ipython3",
   "version": "3.12.2"
  }
 },
 "nbformat": 4,
 "nbformat_minor": 5
}
