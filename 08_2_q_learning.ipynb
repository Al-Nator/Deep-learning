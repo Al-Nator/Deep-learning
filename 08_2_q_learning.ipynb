{
 "cells": [
  {
   "cell_type": "markdown",
   "id": "3a564d5f",
   "metadata": {
    "id": "3a564d5f"
   },
   "source": [
    "\n",
    "\n",
    "__Автор задач: Блохин Н.В. (NVBlokhin@fa.ru)__\n",
    "\n",
    "Материалы:\n",
    "* Саттон Р.\tС.,\tБарто Э. Дж. Обучение с подкреплением: Введение. 2-е изд.\n",
    "* https://gymnasium.farama.org/tutorials/training_agents/blackjack_tutorial/\n",
    "* https://en.wikipedia.org/wiki/Q-learning\n",
    "* https://www.baeldung.com/cs/epsilon-greedy-q-learning\n",
    "* https://pythonprogramming.net/q-learning-reinforcement-learning-python-tutorial/\n",
    "* https://www.datacamp.com/tutorial/introduction-q-learning-beginner-tutorial\n",
    "* https://rubikscode.net/2021/07/20/introduction-to-double-q-learning/\n",
    "* https://gymnasium.farama.org/api/wrappers/misc_wrappers/"
   ]
  },
  {
   "cell_type": "markdown",
   "id": "c9ecd663",
   "metadata": {
    "id": "c9ecd663"
   },
   "source": []
  },
  {
   "cell_type": "markdown",
   "id": "d82e2a26",
   "metadata": {
    "id": "d82e2a26"
   },
   "source": [
    "1\\. Рассмотрите понятие Q-функции, ее применение для формирования политики агента и способов ее создания."
   ]
  },
  {
   "cell_type": "code",
   "execution_count": 1,
   "id": "3ElqzLsT6tEK",
   "metadata": {
    "executionInfo": {
     "elapsed": 695,
     "status": "ok",
     "timestamp": 1734075068446,
     "user": {
      "displayName": "Никита Блохин",
      "userId": "16402972581398673009"
     },
     "user_tz": -180
    },
    "id": "3ElqzLsT6tEK"
   },
   "outputs": [],
   "source": [
    "import numpy as np\n",
    "\n",
    "states = [0, 1, 2]\n",
    "actions = [0, 1]\n",
    "\n",
    "q_table = np.random.uniform(0, 100, size=(len(states), len(actions)))"
   ]
  },
  {
   "cell_type": "code",
   "execution_count": 2,
   "id": "7Bplhuza7eZA",
   "metadata": {
    "colab": {
     "base_uri": "https://localhost:8080/"
    },
    "executionInfo": {
     "elapsed": 264,
     "status": "ok",
     "timestamp": 1734075098583,
     "user": {
      "displayName": "Никита Блохин",
      "userId": "16402972581398673009"
     },
     "user_tz": -180
    },
    "id": "7Bplhuza7eZA",
    "outputId": "ea7256d0-1042-4dfe-b7e2-eca96d113a92"
   },
   "outputs": [
    {
     "data": {
      "text/plain": [
       "array([82.02402676, 91.28226526])"
      ]
     },
     "execution_count": 2,
     "metadata": {},
     "output_type": "execute_result"
    }
   ],
   "source": [
    "current_state = 0\n",
    "q_table[current_state]"
   ]
  },
  {
   "cell_type": "code",
   "execution_count": 3,
   "id": "0LY7i4ah5vZe",
   "metadata": {
    "colab": {
     "base_uri": "https://localhost:8080/"
    },
    "executionInfo": {
     "elapsed": 252,
     "status": "ok",
     "timestamp": 1734075132160,
     "user": {
      "displayName": "Никита Блохин",
      "userId": "16402972581398673009"
     },
     "user_tz": -180
    },
    "id": "0LY7i4ah5vZe",
    "outputId": "2c339266-b4c9-4fba-e964-f6f2ee3b7964"
   },
   "outputs": [
    {
     "data": {
      "text/plain": [
       "1"
      ]
     },
     "execution_count": 3,
     "metadata": {},
     "output_type": "execute_result"
    }
   ],
   "source": [
    "q_table[current_state].argmax()"
   ]
  },
  {
   "cell_type": "code",
   "execution_count": 4,
   "id": "fADPnSeZ8AVV",
   "metadata": {
    "executionInfo": {
     "elapsed": 270,
     "status": "ok",
     "timestamp": 1734075340459,
     "user": {
      "displayName": "Никита Блохин",
      "userId": "16402972581398673009"
     },
     "user_tz": -180
    },
    "id": "fADPnSeZ8AVV"
   },
   "outputs": [],
   "source": [
    "states = np.array([\n",
    "    [0.5, 0.7],\n",
    "    [1.2, 0.3],\n",
    "    [-5.2, 0.1],\n",
    "    [2.0, -3.0],\n",
    "])\n",
    "\n",
    "actions = [0, 1]"
   ]
  },
  {
   "cell_type": "code",
   "execution_count": 5,
   "id": "tKNBH9TD8YWr",
   "metadata": {
    "colab": {
     "base_uri": "https://localhost:8080/"
    },
    "executionInfo": {
     "elapsed": 5,
     "status": "ok",
     "timestamp": 1734075423920,
     "user": {
      "displayName": "Никита Блохин",
      "userId": "16402972581398673009"
     },
     "user_tz": -180
    },
    "id": "tKNBH9TD8YWr",
    "outputId": "9130d215-de2b-4d05-bc44-1a4a71993731"
   },
   "outputs": [
    {
     "data": {
      "text/plain": [
       "array([2, 2, 1, 3], dtype=int64)"
      ]
     },
     "execution_count": 5,
     "metadata": {},
     "output_type": "execute_result"
    }
   ],
   "source": [
    "np.digitize(states[:, 0], bins=[-6, 0, 2])"
   ]
  },
  {
   "cell_type": "code",
   "execution_count": 6,
   "id": "2aIfYjJ89MHR",
   "metadata": {
    "colab": {
     "base_uri": "https://localhost:8080/"
    },
    "executionInfo": {
     "elapsed": 323,
     "status": "ok",
     "timestamp": 1734075545655,
     "user": {
      "displayName": "Никита Блохин",
      "userId": "16402972581398673009"
     },
     "user_tz": -180
    },
    "id": "2aIfYjJ89MHR",
    "outputId": "8f0601e4-837e-4212-dd66-81958409b2e4"
   },
   "outputs": [
    {
     "data": {
      "text/plain": [
       "array([[2, 2],\n",
       "       [2, 2],\n",
       "       [1, 2],\n",
       "       [2, 1]], dtype=int64)"
      ]
     },
     "execution_count": 6,
     "metadata": {},
     "output_type": "execute_result"
    }
   ],
   "source": [
    "np.digitize(states, bins=[-6, 0, 4])"
   ]
  },
  {
   "cell_type": "code",
   "execution_count": 7,
   "id": "ImRl4MSw8_Qf",
   "metadata": {
    "executionInfo": {
     "elapsed": 248,
     "status": "ok",
     "timestamp": 1734075604421,
     "user": {
      "displayName": "Никита Блохин",
      "userId": "16402972581398673009"
     },
     "user_tz": -180
    },
    "id": "ImRl4MSw8_Qf"
   },
   "outputs": [],
   "source": [
    "import numpy as np\n",
    "\n",
    "actions = [0, 1]\n",
    "\n",
    "q_table = np.random.uniform(0, 100, size=(3, 3, len(actions)))"
   ]
  },
  {
   "cell_type": "code",
   "execution_count": 8,
   "id": "tJK5gamN9d8k",
   "metadata": {
    "colab": {
     "base_uri": "https://localhost:8080/"
    },
    "executionInfo": {
     "elapsed": 244,
     "status": "ok",
     "timestamp": 1734075643119,
     "user": {
      "displayName": "Никита Блохин",
      "userId": "16402972581398673009"
     },
     "user_tz": -180
    },
    "id": "tJK5gamN9d8k",
    "outputId": "d8203d39-f4f1-4343-c4fb-2db3fc1f2836"
   },
   "outputs": [
    {
     "data": {
      "text/plain": [
       "array([29.7406627, 32.8769334])"
      ]
     },
     "execution_count": 8,
     "metadata": {},
     "output_type": "execute_result"
    }
   ],
   "source": [
    "state = [1, 1]\n",
    "q_table[1, 1]"
   ]
  },
  {
   "cell_type": "markdown",
   "id": "4d7b6d63",
   "metadata": {
    "id": "4d7b6d63"
   },
   "source": []
  },
  {
   "cell_type": "markdown",
   "id": "7f49190d",
   "metadata": {
    "id": "7f49190d"
   },
   "source": [
    "<p class=\"task\" id=\"1\"></p>\n",
    "\n",
    "1\\. Обучите агента для игры в блэкджек (окружение `Blackjack-v1`), используя алгоритм Q-learning. Для создания таблицы Q-функции выясните размеры пространства состояния игры и количество возможных действий игрока и выведите эти значения на экран. Во время обучения несколько раз вычислите статистику за `print_every` последних эпизодов: количество выигранных и проигранных сессий. После завершения обучения визуализируйте полученные данные. Изучите, как выглядит Q-функция (в каких состояниях игрок будет брать карту, в каких - нет). Cыграйте `N=10000` игр, применяя стратегию, выведенную из обученной Q-функции, посчитайте и выведите на экран долю выигранных игр.\n",
    "\n",
    "Cтратегия для выбора действия:\n",
    "$$a_{t+1}(s_t) = argmax_aQ(s_t, a)$$\n",
    "\n",
    "Правило обновления Q-функции:\n",
    "\n",
    "![q-learning](https://wikimedia.org/api/rest_v1/media/math/render/svg/d247db9eaad4bd343e7882ec546bf3847ebd36d8)\n",
    "\n",
    "- [x] Проверено на семинаре"
   ]
  },
  {
   "cell_type": "code",
   "execution_count": 9,
   "id": "51b1e5ff",
   "metadata": {},
   "outputs": [
    {
     "data": {
      "text/plain": [
       "(32, 11, 2, Discrete(2))"
      ]
     },
     "execution_count": 9,
     "metadata": {},
     "output_type": "execute_result"
    }
   ],
   "source": [
    "import gymnasium as gym\n",
    "import matplotlib.pyplot as plt\n",
    "import numpy as np\n",
    "from tqdm import tqdm\n",
    "\n",
    "env = gym.make('Blackjack-v1')\n",
    "\n",
    "env.observation_space[0].n, env.observation_space[1].n, env.observation_space[2].n, env.action_space"
   ]
  },
  {
   "cell_type": "code",
   "execution_count": 10,
   "id": "bd0ba256",
   "metadata": {
    "id": "bd0ba256"
   },
   "outputs": [],
   "source": [
    "from dataclasses import dataclass\n",
    "\n",
    "@dataclass\n",
    "class Config:\n",
    "    discount: float = 0.95\n",
    "    lr: float = 0.005\n",
    "    n_episodes: float = 100_000\n",
    "    print_every: int = 5000"
   ]
  },
  {
   "cell_type": "code",
   "execution_count": 11,
   "id": "4ba6b041",
   "metadata": {
    "id": "4ba6b041"
   },
   "outputs": [],
   "source": [
    "class Agent:\n",
    "    def __init__(self, env: gym.Env, config: Config) -> None:\n",
    "        self.env = env\n",
    "        self.cfg = config\n",
    "        self._create_q_table()\n",
    "\n",
    "    def _create_q_table(self):\n",
    "        self.q_table = np.zeros((32, 11, 2, 2))\n",
    "\n",
    "    def get_action(self, state: np.ndarray | tuple) -> int:\n",
    "        player_sum, dealer_card, usable_ace = state\n",
    "        q_values = self.q_table[player_sum, dealer_card, usable_ace]\n",
    "        max_actions = np.flatnonzero(q_values == q_values.max())\n",
    "        action = np.random.choice(max_actions)\n",
    "        return action\n",
    "\n",
    "    def update_q_table(\n",
    "        self,\n",
    "        state: np.ndarray | tuple,\n",
    "        new_state: np.ndarray | tuple,\n",
    "        reward: float, action: int,\n",
    "        done: bool\n",
    "    ) -> None:\n",
    "        player_sum, dealer_card, usable_ace = state\n",
    "        current_q_value = self.q_table[player_sum, dealer_card, usable_ace, action]     \n",
    "        if done:\n",
    "            future_q_value = 0\n",
    "        else:\n",
    "            new_player_sum, new_dealer_card, new_usable_ace = new_state\n",
    "            future_q_value = np.max(self.q_table[new_player_sum, new_dealer_card, new_usable_ace])\n",
    "        self.q_table[player_sum, dealer_card, usable_ace, action] = (\n",
    "            (1 - self.cfg.lr) * current_q_value\n",
    "            + self.cfg.lr * (reward + self.cfg.discount * future_q_value)\n",
    "        )\n",
    "\n",
    "    def run_episode(self) -> float:\n",
    "        done = False\n",
    "        state, info = self.env.reset()\n",
    "        while not done:\n",
    "            action = self.get_action(state)\n",
    "            new_state, reward, terminated, truncated, info = self.env.step(action)\n",
    "            done = terminated or truncated\n",
    "            self.update_q_table(state, new_state, reward, action, done)\n",
    "            state = new_state\n",
    "\n",
    "            if done:\n",
    "                return reward\n",
    "\n",
    "\n",
    "def train(self):\n",
    "    ep_rewards = []  \n",
    "    stats = []  \n",
    "\n",
    "    wins = 0\n",
    "    losses = 0\n",
    "    draws = 0\n",
    "\n",
    "    for ep in tqdm(range(self.cfg.n_episodes)):\n",
    "        \n",
    "        reward = self.run_episode()\n",
    "        ep_rewards.append(reward)\n",
    "\n",
    "        if reward > 0:\n",
    "            wins += 1\n",
    "        elif reward < 0:\n",
    "            losses += 1\n",
    "        else:\n",
    "            draws += 1\n",
    "        \n",
    "        if (ep + 1) % self.cfg.print_every == 0:\n",
    "            stats.append({\n",
    "                \"episode\": ep + 1,\n",
    "                \"wins\": wins,\n",
    "                \"losses\": losses,\n",
    "                \"draws\": draws,\n",
    "                \"win_rate\": wins / self.cfg.print_every\n",
    "            })\n",
    "            print(stats[-1])\n",
    "            wins = 0\n",
    "            losses = 0\n",
    "            draws = 0\n",
    "\n",
    "    return ep_rewards, stats"
   ]
  },
  {
   "cell_type": "code",
   "execution_count": 12,
   "id": "5bf551f7",
   "metadata": {},
   "outputs": [
    {
     "name": "stderr",
     "output_type": "stream",
     "text": [
      "  0%|          | 0/10000 [00:00<?, ?it/s]"
     ]
    },
    {
     "name": "stderr",
     "output_type": "stream",
     "text": [
      " 21%|██        | 2059/10000 [00:00<00:01, 6768.13it/s]"
     ]
    },
    {
     "name": "stdout",
     "output_type": "stream",
     "text": [
      "{'episode': 1000, 'wins': 402, 'losses': 544, 'draws': 54, 'win_rate': 0.402}\n",
      "{'episode': 2000, 'wins': 433, 'losses': 506, 'draws': 61, 'win_rate': 0.433}\n"
     ]
    },
    {
     "name": "stderr",
     "output_type": "stream",
     "text": [
      " 42%|████▏     | 4175/10000 [00:00<00:00, 6968.20it/s]"
     ]
    },
    {
     "name": "stdout",
     "output_type": "stream",
     "text": [
      "{'episode': 3000, 'wins': 414, 'losses': 510, 'draws': 76, 'win_rate': 0.414}\n",
      "{'episode': 4000, 'wins': 393, 'losses': 540, 'draws': 67, 'win_rate': 0.393}\n"
     ]
    },
    {
     "name": "stderr",
     "output_type": "stream",
     "text": [
      " 62%|██████▏   | 6239/10000 [00:00<00:00, 6704.49it/s]"
     ]
    },
    {
     "name": "stdout",
     "output_type": "stream",
     "text": [
      "{'episode': 5000, 'wins': 379, 'losses': 539, 'draws': 82, 'win_rate': 0.379}\n",
      "{'episode': 6000, 'wins': 398, 'losses': 526, 'draws': 76, 'win_rate': 0.398}\n"
     ]
    },
    {
     "name": "stderr",
     "output_type": "stream",
     "text": [
      " 83%|████████▎ | 8318/10000 [00:01<00:00, 6776.65it/s]"
     ]
    },
    {
     "name": "stdout",
     "output_type": "stream",
     "text": [
      "{'episode': 7000, 'wins': 399, 'losses': 516, 'draws': 85, 'win_rate': 0.399}\n",
      "{'episode': 8000, 'wins': 434, 'losses': 485, 'draws': 81, 'win_rate': 0.434}\n"
     ]
    },
    {
     "name": "stderr",
     "output_type": "stream",
     "text": [
      "100%|██████████| 10000/10000 [00:01<00:00, 6813.61it/s]"
     ]
    },
    {
     "name": "stdout",
     "output_type": "stream",
     "text": [
      "{'episode': 9000, 'wins': 422, 'losses': 488, 'draws': 90, 'win_rate': 0.422}\n",
      "{'episode': 10000, 'wins': 417, 'losses': 498, 'draws': 85, 'win_rate': 0.417}\n"
     ]
    },
    {
     "name": "stderr",
     "output_type": "stream",
     "text": [
      "\n"
     ]
    }
   ],
   "source": [
    "env = gym.make('Blackjack-v1')\n",
    "\n",
    "config = Config(\n",
    "    discount=0.95,\n",
    "    lr=0.005,\n",
    "    n_episodes=10_000,\n",
    "    print_every=1000\n",
    ")\n",
    "\n",
    "agent = Agent(env, config)\n",
    "\n",
    "ep_rewards, stats = train(agent)"
   ]
  },
  {
   "cell_type": "code",
   "execution_count": 13,
   "id": "e3fc9d27",
   "metadata": {},
   "outputs": [
    {
     "data": {
      "image/png": "[encoded data removed]",
      "text/plain": [
       "<Figure size 640x480 with 1 Axes>"
      ]
     },
     "metadata": {},
     "output_type": "display_data"
    }
   ],
   "source": [
    "win_rates = [stat.get(\"win_rate\", 0) for stat in stats]\n",
    "losses_rates = [stat.get(\"losses\", 0) / agent.cfg.print_every for stat in stats]\n",
    "losses_rates = [stat.get(\"losses\", 0) / agent.cfg.print_every for stat in stats]\n",
    "draws_rates = [stat.get(\"draws\", 0) / agent.cfg.print_every for stat in stats]\n",
    "\n",
    "episodes = [stat.get(\"episode\", 0) for stat in stats]\n",
    "\n",
    "plt.ylim(0, 1)\n",
    "plt.xlabel(\"Игры\")\n",
    "plt.ylabel(\"Процент\")\n",
    "plt.plot(episodes, win_rates, label=\"Win Rate\")\n",
    "plt.plot(episodes, losses_rates, label=\"Loss Rate\")\n",
    "plt.plot(episodes, draws_rates, label=\"Draw Rate\")\n",
    "plt.legend()\n",
    "plt.show()"
   ]
  },
  {
   "cell_type": "markdown",
   "id": "5c6e202e",
   "metadata": {
    "id": "5c6e202e"
   },
   "source": [
    "<p class=\"task\" id=\"2\"></p>\n",
    "\n",
    "2\\. Повторите решение предыдущей задачи, используя алгоритм $\\epsilon$-greedy Q-learning. Исследуйте, как гиперпараметры и способ инициализации значений Q-функции влияют на результат.\n",
    "\n",
    "Cтратегия для выбора действия:\n",
    "1. Сгенерировать число $p$ из $U(0, 1)$;\n",
    "2. Если $p < \\epsilon$, то выбрать действие случайным образом;\n",
    "3. В противном случае $a_{t+1}(s_t) = argmax_aQ(s_t, a)$.\n",
    "\n",
    "Правило обновления Q-функции:\n",
    "![q-learning](https://wikimedia.org/api/rest_v1/media/math/render/svg/d247db9eaad4bd343e7882ec546bf3847ebd36d8)\n",
    "\n",
    "- [x] Проверено на семинаре"
   ]
  },
  {
   "cell_type": "code",
   "execution_count": 14,
   "id": "048aaf7a",
   "metadata": {
    "id": "048aaf7a"
   },
   "outputs": [],
   "source": [
    "from dataclasses import dataclass\n",
    "\n",
    "@dataclass\n",
    "class Config:\n",
    "    discount: float = 0.95\n",
    "    lr: float = 0.005\n",
    "    n_episodes: float = 100_000\n",
    "    epsilon: float = 1.0\n",
    "    final_epsilon: float = 0.3\n",
    "    print_every: int = 5000"
   ]
  },
  {
   "cell_type": "code",
   "execution_count": 15,
   "id": "ad4572f8",
   "metadata": {},
   "outputs": [],
   "source": [
    "class Agent:\n",
    "    def __init__(self, env: gym.Env, config: Config, how) -> None:\n",
    "        self.env = env\n",
    "        self.cfg = config\n",
    "        self._create_q_table(how)\n",
    "\n",
    "    def _create_q_table(self, how):\n",
    "        if how == 'random':\n",
    "            self.q_table = np.random.uniform(low=0, high=1, size=(32, 11, 2, 2))\n",
    "        else:\n",
    "            self.q_table = np.zeros((32, 11, 2, 2))\n",
    "        \n",
    "\n",
    "    def get_action(self, state: np.ndarray | tuple) -> int:\n",
    "        p = np.random.rand()\n",
    "        if p < self.cfg.epsilon:\n",
    "            return self.env.action_space.sample()\n",
    "        player_sum, dealer_card, usable_ace = state\n",
    "        q_values = self.q_table[player_sum, dealer_card, usable_ace]\n",
    "        return np.argmax(q_values)\n",
    "    \n",
    "    def update_q_table(\n",
    "        self,\n",
    "        state: np.ndarray | tuple,\n",
    "        new_state: np.ndarray | tuple,\n",
    "        reward: float, action: int,\n",
    "        done: bool\n",
    "    ) -> None:\n",
    "        player_sum, dealer_card, usable_ace = state\n",
    "        current_q_value = self.q_table[player_sum, dealer_card, usable_ace, action]     \n",
    "        if done:\n",
    "            future_q_value = 0\n",
    "        else:\n",
    "            new_player_sum, new_dealer_card, new_usable_ace = new_state\n",
    "            future_q_value = np.max(self.q_table[new_player_sum, new_dealer_card, new_usable_ace])\n",
    "        self.q_table[player_sum, dealer_card, usable_ace, action] = (\n",
    "            (1 - self.cfg.lr) * current_q_value\n",
    "            + self.cfg.lr * (reward + self.cfg.discount * future_q_value)\n",
    "        )\n",
    "\n",
    "    def run_episode(self) -> float:\n",
    "        done = False\n",
    "        state, info = self.env.reset()\n",
    "        while not done:\n",
    "            action = self.get_action(state)\n",
    "            new_state, reward, terminated, truncated, info = self.env.step(action)\n",
    "            done = terminated or truncated\n",
    "            self.update_q_table(state, new_state, reward, action, done)\n",
    "            state = new_state\n",
    "\n",
    "            if done:\n",
    "                return reward\n",
    "\n",
    "\n",
    "def train(self):\n",
    "    ep_rewards = []  \n",
    "    stats = []  \n",
    "\n",
    "    wins = 0\n",
    "    losses = 0\n",
    "    draws = 0\n",
    "\n",
    "    self.cfg.epsilon_decay = self.cfg.epsilon / self.cfg.n_episodes\n",
    "    for ep in tqdm(range(self.cfg.n_episodes)):\n",
    "        reward = self.run_episode()\n",
    "        ep_rewards.append(reward)\n",
    "\n",
    "        if reward > 0:\n",
    "            wins += 1\n",
    "        elif reward < 0:\n",
    "            losses += 1\n",
    "        else:\n",
    "            draws += 1\n",
    "        \n",
    "        self.cfg.epsilon -= self.cfg.epsilon_decay\n",
    "\n",
    "        if (ep + 1) % self.cfg.print_every == 0:\n",
    "            stats.append({\n",
    "                \"episode\": ep + 1,\n",
    "                \"wins\": wins,\n",
    "                \"losses\": losses,\n",
    "                \"draws\": draws,\n",
    "                \"win_rate\": wins / self.cfg.print_every\n",
    "            })\n",
    "            print(stats[-1])\n",
    "            wins = 0\n",
    "            losses = 0\n",
    "            draws = 0\n",
    "\n",
    "    return ep_rewards, stats"
   ]
  },
  {
   "cell_type": "code",
   "execution_count": 16,
   "id": "8d92dcc4",
   "metadata": {},
   "outputs": [
    {
     "name": "stderr",
     "output_type": "stream",
     "text": [
      " 27%|██▋       | 2662/10000 [00:00<00:00, 8827.36it/s]"
     ]
    },
    {
     "name": "stdout",
     "output_type": "stream",
     "text": [
      "{'episode': 1000, 'wins': 289, 'losses': 666, 'draws': 45, 'win_rate': 0.289}\n",
      "{'episode': 2000, 'wins': 302, 'losses': 639, 'draws': 59, 'win_rate': 0.302}\n"
     ]
    },
    {
     "name": "stderr",
     "output_type": "stream",
     "text": [
      " 45%|████▍     | 4462/10000 [00:00<00:00, 8913.11it/s]"
     ]
    },
    {
     "name": "stdout",
     "output_type": "stream",
     "text": [
      "{'episode': 3000, 'wins': 311, 'losses': 650, 'draws': 39, 'win_rate': 0.311}\n",
      "{'episode': 4000, 'wins': 357, 'losses': 590, 'draws': 53, 'win_rate': 0.357}\n"
     ]
    },
    {
     "name": "stderr",
     "output_type": "stream",
     "text": [
      " 63%|██████▎   | 6261/10000 [00:00<00:00, 8904.40it/s]"
     ]
    },
    {
     "name": "stdout",
     "output_type": "stream",
     "text": [
      "{'episode': 5000, 'wins': 343, 'losses': 602, 'draws': 55, 'win_rate': 0.343}\n",
      "{'episode': 6000, 'wins': 339, 'losses': 585, 'draws': 76, 'win_rate': 0.339}\n"
     ]
    },
    {
     "name": "stderr",
     "output_type": "stream",
     "text": [
      " 90%|████████▉ | 8958/10000 [00:01<00:00, 8938.31it/s]"
     ]
    },
    {
     "name": "stdout",
     "output_type": "stream",
     "text": [
      "{'episode': 7000, 'wins': 378, 'losses': 553, 'draws': 69, 'win_rate': 0.378}\n",
      "{'episode': 8000, 'wins': 409, 'losses': 518, 'draws': 73, 'win_rate': 0.409}\n"
     ]
    },
    {
     "name": "stderr",
     "output_type": "stream",
     "text": [
      "100%|██████████| 10000/10000 [00:01<00:00, 8751.11it/s]"
     ]
    },
    {
     "name": "stdout",
     "output_type": "stream",
     "text": [
      "{'episode': 9000, 'wins': 414, 'losses': 514, 'draws': 72, 'win_rate': 0.414}\n",
      "{'episode': 10000, 'wins': 437, 'losses': 500, 'draws': 63, 'win_rate': 0.437}\n"
     ]
    },
    {
     "name": "stderr",
     "output_type": "stream",
     "text": [
      "\n"
     ]
    }
   ],
   "source": [
    "env = gym.make('Blackjack-v1')\n",
    "\n",
    "config = Config(\n",
    "    discount = 0.95,\n",
    "    lr = 0.005,\n",
    "    n_episodes = 10_000,\n",
    "    epsilon = 1.0,\n",
    "    final_epsilon = 0.3,\n",
    "    print_every = 1000\n",
    ")\n",
    "\n",
    "agent = Agent(env, config, how='zeros')\n",
    "\n",
    "ep_rewards, stats = train(agent)"
   ]
  },
  {
   "cell_type": "code",
   "execution_count": 17,
   "id": "86cc4659",
   "metadata": {},
   "outputs": [
    {
     "name": "stderr",
     "output_type": "stream",
     "text": [
      " 26%|██▌       | 2596/10000 [00:00<00:00, 8600.57it/s]"
     ]
    },
    {
     "name": "stdout",
     "output_type": "stream",
     "text": [
      "{'episode': 1000, 'wins': 277, 'losses': 675, 'draws': 48, 'win_rate': 0.277}\n",
      "{'episode': 2000, 'wins': 267, 'losses': 690, 'draws': 43, 'win_rate': 0.267}\n"
     ]
    },
    {
     "name": "stderr",
     "output_type": "stream",
     "text": [
      " 44%|████▍     | 4411/10000 [00:00<00:00, 8876.76it/s]"
     ]
    },
    {
     "name": "stdout",
     "output_type": "stream",
     "text": [
      "{'episode': 3000, 'wins': 262, 'losses': 681, 'draws': 57, 'win_rate': 0.262}\n",
      "{'episode': 4000, 'wins': 290, 'losses': 682, 'draws': 28, 'win_rate': 0.29}\n"
     ]
    },
    {
     "name": "stderr",
     "output_type": "stream",
     "text": [
      " 62%|██████▏   | 6201/10000 [00:00<00:00, 8830.66it/s]"
     ]
    },
    {
     "name": "stdout",
     "output_type": "stream",
     "text": [
      "{'episode': 5000, 'wins': 305, 'losses': 646, 'draws': 49, 'win_rate': 0.305}\n",
      "{'episode': 6000, 'wins': 312, 'losses': 631, 'draws': 57, 'win_rate': 0.312}\n"
     ]
    },
    {
     "name": "stderr",
     "output_type": "stream",
     "text": [
      " 80%|███████▉  | 7999/10000 [00:00<00:00, 8894.15it/s]"
     ]
    },
    {
     "name": "stdout",
     "output_type": "stream",
     "text": [
      "{'episode': 7000, 'wins': 317, 'losses': 633, 'draws': 50, 'win_rate': 0.317}\n",
      "{'episode': 8000, 'wins': 295, 'losses': 650, 'draws': 55, 'win_rate': 0.295}\n"
     ]
    },
    {
     "name": "stderr",
     "output_type": "stream",
     "text": [
      "100%|██████████| 10000/10000 [00:01<00:00, 8677.06it/s]"
     ]
    },
    {
     "name": "stdout",
     "output_type": "stream",
     "text": [
      "{'episode': 9000, 'wins': 331, 'losses': 610, 'draws': 59, 'win_rate': 0.331}\n",
      "{'episode': 10000, 'wins': 342, 'losses': 588, 'draws': 70, 'win_rate': 0.342}\n"
     ]
    },
    {
     "name": "stderr",
     "output_type": "stream",
     "text": [
      "\n"
     ]
    }
   ],
   "source": [
    "env = gym.make('Blackjack-v1')\n",
    "\n",
    "config = Config(\n",
    "    discount = 0.95,\n",
    "    lr = 0.005,\n",
    "    n_episodes = 10_000,\n",
    "    epsilon = 1.0,\n",
    "    final_epsilon = 0.3,\n",
    "    print_every = 1000\n",
    ")\n",
    "\n",
    "agent = Agent(env, config, how='random')\n",
    "\n",
    "\n",
    "ep_rewards, stats = train(agent)"
   ]
  },
  {
   "cell_type": "code",
   "execution_count": 18,
   "id": "c492c19a",
   "metadata": {},
   "outputs": [
    {
     "name": "stderr",
     "output_type": "stream",
     "text": [
      " 26%|██▌       | 2602/10000 [00:00<00:00, 8623.99it/s]"
     ]
    },
    {
     "name": "stdout",
     "output_type": "stream",
     "text": [
      "{'episode': 1000, 'wins': 326, 'losses': 598, 'draws': 76, 'win_rate': 0.326}\n",
      "{'episode': 2000, 'wins': 391, 'losses': 538, 'draws': 71, 'win_rate': 0.391}\n"
     ]
    },
    {
     "name": "stderr",
     "output_type": "stream",
     "text": [
      " 43%|████▎     | 4314/10000 [00:00<00:00, 8409.70it/s]"
     ]
    },
    {
     "name": "stdout",
     "output_type": "stream",
     "text": [
      "{'episode': 3000, 'wins': 369, 'losses': 566, 'draws': 65, 'win_rate': 0.369}\n",
      "{'episode': 4000, 'wins': 389, 'losses': 538, 'draws': 73, 'win_rate': 0.389}\n"
     ]
    },
    {
     "name": "stderr",
     "output_type": "stream",
     "text": [
      " 60%|█████▉    | 5985/10000 [00:00<00:00, 8186.73it/s]"
     ]
    },
    {
     "name": "stdout",
     "output_type": "stream",
     "text": [
      "{'episode': 5000, 'wins': 392, 'losses': 547, 'draws': 61, 'win_rate': 0.392}\n",
      "{'episode': 6000, 'wins': 396, 'losses': 532, 'draws': 72, 'win_rate': 0.396}\n"
     ]
    },
    {
     "name": "stderr",
     "output_type": "stream",
     "text": [
      " 85%|████████▌ | 8542/10000 [00:01<00:00, 8397.58it/s]"
     ]
    },
    {
     "name": "stdout",
     "output_type": "stream",
     "text": [
      "{'episode': 7000, 'wins': 413, 'losses': 523, 'draws': 64, 'win_rate': 0.413}\n",
      "{'episode': 8000, 'wins': 411, 'losses': 521, 'draws': 68, 'win_rate': 0.411}\n"
     ]
    },
    {
     "name": "stderr",
     "output_type": "stream",
     "text": [
      "100%|██████████| 10000/10000 [00:01<00:00, 8373.05it/s]"
     ]
    },
    {
     "name": "stdout",
     "output_type": "stream",
     "text": [
      "{'episode': 9000, 'wins': 410, 'losses': 496, 'draws': 94, 'win_rate': 0.41}\n",
      "{'episode': 10000, 'wins': 423, 'losses': 497, 'draws': 80, 'win_rate': 0.423}\n"
     ]
    },
    {
     "name": "stderr",
     "output_type": "stream",
     "text": [
      "\n"
     ]
    }
   ],
   "source": [
    "env = gym.make('Blackjack-v1')\n",
    "\n",
    "config = Config(\n",
    "    discount = 0.95,\n",
    "    lr = 0.05,\n",
    "    n_episodes = 10_000,\n",
    "    epsilon = 0.3,\n",
    "    final_epsilon = 0.05,\n",
    "    print_every = 1000\n",
    ")\n",
    "\n",
    "agent = Agent(env, config, how='zeros')\n",
    "\n",
    "\n",
    "ep_rewards, stats = train(agent)"
   ]
  },
  {
   "cell_type": "code",
   "execution_count": null,
   "id": "19622e11",
   "metadata": {},
   "outputs": [],
   "source": []
  },
  {
   "cell_type": "code",
   "execution_count": 19,
   "id": "173e6397",
   "metadata": {},
   "outputs": [
    {
     "data": {
      "image/png": "[encoded data removed]",
      "text/plain": [
       "<Figure size 640x480 with 1 Axes>"
      ]
     },
     "metadata": {},
     "output_type": "display_data"
    }
   ],
   "source": [
    "win_rates = [stat.get(\"win_rate\", 0) for stat in stats]\n",
    "losses_rates = [stat.get(\"losses\", 0) / agent.cfg.print_every for stat in stats]\n",
    "losses_rates = [stat.get(\"losses\", 0) / agent.cfg.print_every for stat in stats]\n",
    "draws_rates = [stat.get(\"draws\", 0) / agent.cfg.print_every for stat in stats]\n",
    "\n",
    "episodes = [stat.get(\"episode\", 0) for stat in stats]\n",
    "\n",
    "plt.ylim(0, 1)\n",
    "plt.xlabel(\"Игры\")\n",
    "plt.ylabel(\"Процент\")\n",
    "plt.plot(episodes, win_rates, label=\"Win Rate\")\n",
    "plt.plot(episodes, losses_rates, label=\"Loss Rate\")\n",
    "plt.plot(episodes, draws_rates, label=\"Draw Rate\")\n",
    "plt.legend()\n",
    "plt.show()"
   ]
  },
  {
   "cell_type": "code",
   "execution_count": null,
   "id": "854d0862",
   "metadata": {},
   "outputs": [],
   "source": []
  }
 ],
 "metadata": {
  "colab": {
   "provenance": []
  },
  "kernelspec": {
   "display_name": "base",
   "language": "python",
   "name": "python3"
  },
  "language_info": {
   "codemirror_mode": {
    "name": "ipython",
    "version": 3
   },
   "file_extension": ".py",
   "mimetype": "text/x-python",
   "name": "python",
   "nbconvert_exporter": "python",
   "pygments_lexer": "ipython3",
   "version": "3.11.5"
  }
 },
 "nbformat": 4,
 "nbformat_minor": 5
}
